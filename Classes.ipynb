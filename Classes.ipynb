{
 "cells": [
  {
   "cell_type": "markdown",
   "id": "ba0f7709-011e-4936-a8b9-a965e19dc0f2",
   "metadata": {},
   "source": [
    "class Drone:\n",
    "    \"\"\"A representation of a drone aircraft\"\"\""
   ]
  },
  {
   "cell_type": "code",
   "execution_count": 3,
   "id": "fdd3d53d-de69-4855-a8ed-d7c69f9b7c8d",
   "metadata": {},
   "outputs": [
    {
     "data": {
      "text/plain": [
       "\u001b[0;31mInit signature:\u001b[0m \u001b[0mDrone\u001b[0m\u001b[0;34m(\u001b[0m\u001b[0;34m)\u001b[0m\u001b[0;34m\u001b[0m\u001b[0;34m\u001b[0m\u001b[0m\n",
       "\u001b[0;31mDocstring:\u001b[0m      A representation of a drone aircraft\n",
       "\u001b[0;31mType:\u001b[0m           type\n",
       "\u001b[0;31mSubclasses:\u001b[0m     "
      ]
     },
     "metadata": {},
     "output_type": "display_data"
    }
   ],
   "source": [
    "?Drone"
   ]
  },
  {
   "cell_type": "code",
   "execution_count": 5,
   "id": "07de5443-4c88-41b8-af67-940c1a142516",
   "metadata": {},
   "outputs": [
    {
     "name": "stdout",
     "output_type": "stream",
     "text": [
      "<class '__main__.Drone'> <class '__main__.Drone'>\n"
     ]
    }
   ],
   "source": [
    "d1 = Drone()\n",
    "d2 = Drone()\n",
    "print(type(d1), type(d2))"
   ]
  },
  {
   "cell_type": "code",
   "execution_count": 7,
   "id": "d3dd873f-726c-4306-9282-1138c3521803",
   "metadata": {},
   "outputs": [],
   "source": [
    "Drone.power_system = \"Battery\""
   ]
  },
  {
   "cell_type": "code",
   "execution_count": 9,
   "id": "4f6cd3f7-88c5-4e49-bf58-d5453f5bd44b",
   "metadata": {},
   "outputs": [
    {
     "name": "stdout",
     "output_type": "stream",
     "text": [
      "Battery\n"
     ]
    }
   ],
   "source": [
    "print(d1.power_system)"
   ]
  },
  {
   "cell_type": "code",
   "execution_count": 11,
   "id": "16d37f2a-e70a-4f43-b404-9e56e359d1ec",
   "metadata": {},
   "outputs": [
    {
     "name": "stdout",
     "output_type": "stream",
     "text": [
      "Battery\n"
     ]
    }
   ],
   "source": [
    "print(Drone.power_system)"
   ]
  },
  {
   "cell_type": "code",
   "execution_count": 13,
   "id": "1932d743-2745-4802-9804-d1f53a2f8f25",
   "metadata": {},
   "outputs": [],
   "source": [
    "d1.power_system = \"Gasoline\""
   ]
  },
  {
   "cell_type": "code",
   "execution_count": 15,
   "id": "e012b8ae-930a-43c1-a93c-2ac4a5cc9543",
   "metadata": {},
   "outputs": [
    {
     "name": "stdout",
     "output_type": "stream",
     "text": [
      "Gasoline\n",
      "Battery\n",
      "Battery\n"
     ]
    }
   ],
   "source": [
    "print(d1.power_system)\n",
    "print(d2.power_system)\n",
    "print(Drone.power_system)"
   ]
  },
  {
   "cell_type": "code",
   "execution_count": 17,
   "id": "177de0b5-851f-4b96-8d6f-4685750a4d1f",
   "metadata": {},
   "outputs": [
    {
     "name": "stdout",
     "output_type": "stream",
     "text": [
      "100\n",
      "150\n"
     ]
    }
   ],
   "source": [
    "d1.altitude = 100\n",
    "d2.altitude = 150\n",
    "\n",
    "print(d1.altitude)\n",
    "print(d2.altitude)"
   ]
  },
  {
   "cell_type": "code",
   "execution_count": 19,
   "id": "2c649aa2-71ae-4a92-b90c-fe2356ed1d59",
   "metadata": {},
   "outputs": [
    {
     "data": {
      "text/plain": [
       "['__class__',\n",
       " '__delattr__',\n",
       " '__dict__',\n",
       " '__dir__',\n",
       " '__doc__',\n",
       " '__eq__',\n",
       " '__format__',\n",
       " '__ge__',\n",
       " '__getattribute__',\n",
       " '__getstate__',\n",
       " '__gt__',\n",
       " '__hash__',\n",
       " '__init__',\n",
       " '__init_subclass__',\n",
       " '__le__',\n",
       " '__lt__',\n",
       " '__module__',\n",
       " '__ne__',\n",
       " '__new__',\n",
       " '__reduce__',\n",
       " '__reduce_ex__',\n",
       " '__repr__',\n",
       " '__setattr__',\n",
       " '__sizeof__',\n",
       " '__str__',\n",
       " '__subclasshook__',\n",
       " '__weakref__',\n",
       " 'altitude',\n",
       " 'power_system']"
      ]
     },
     "execution_count": 19,
     "metadata": {},
     "output_type": "execute_result"
    }
   ],
   "source": [
    "dir(d1)"
   ]
  },
  {
   "cell_type": "code",
   "execution_count": 21,
   "id": "8e05516b-b6d2-4fd5-88c1-7ddda74ed6a5",
   "metadata": {},
   "outputs": [
    {
     "data": {
      "text/plain": [
       "__main__.Drone"
      ]
     },
     "execution_count": 21,
     "metadata": {},
     "output_type": "execute_result"
    }
   ],
   "source": [
    "d1.__class__"
   ]
  },
  {
   "cell_type": "code",
   "execution_count": 23,
   "id": "6e36947a-3614-4f7a-8de7-f2245129cb34",
   "metadata": {},
   "outputs": [
    {
     "data": {
      "text/plain": [
       "{'power_system': 'Gasoline', 'altitude': 100}"
      ]
     },
     "execution_count": 23,
     "metadata": {},
     "output_type": "execute_result"
    }
   ],
   "source": [
    "d1.__dict__"
   ]
  },
  {
   "cell_type": "markdown",
   "id": "27da996a-5214-4f77-8677-1c530e32667e",
   "metadata": {},
   "source": [
    "## Using the class definition"
   ]
  },
  {
   "cell_type": "code",
   "execution_count": 26,
   "id": "27d3f7a1-f9a3-4136-9085-04b83dea8cad",
   "metadata": {},
   "outputs": [],
   "source": [
    "class Drone:\n",
    "    power_system = \"battery\"\n",
    "\n",
    "    def fly(self):\n",
    "        return \"The drone is flying\""
   ]
  },
  {
   "cell_type": "code",
   "execution_count": 28,
   "id": "01909d0c-44e4-4208-a8d3-17206df828c1",
   "metadata": {},
   "outputs": [],
   "source": [
    "d = Drone()"
   ]
  },
  {
   "cell_type": "code",
   "execution_count": 30,
   "id": "aeafbaa5-e35c-4e28-a0b1-06f2629a3947",
   "metadata": {},
   "outputs": [
    {
     "name": "stdout",
     "output_type": "stream",
     "text": [
      "The drone is flying\n"
     ]
    }
   ],
   "source": [
    "print(d.fly())"
   ]
  },
  {
   "cell_type": "code",
   "execution_count": 42,
   "id": "35a8861f-e0d3-4671-b383-b346920ff507",
   "metadata": {},
   "outputs": [
    {
     "name": "stdout",
     "output_type": "stream",
     "text": [
      "The dream-powered drone is flying\n",
      "The battery-powered drone is flying\n"
     ]
    }
   ],
   "source": [
    "class Drone:\n",
    "    power_system = \"battery\"\n",
    "\n",
    "    def fly(self):\n",
    "        return \"The \" + self.power_system + \"-powered drone is flying\"\n",
    "\n",
    "d1 = Drone()\n",
    "d1.power_system = \"dream\"\n",
    "print(d1.fly())\n",
    "d2 = Drone()\n",
    "print(d2.fly())"
   ]
  },
  {
   "cell_type": "code",
   "execution_count": 46,
   "id": "977fd499-ffc1-4f44-bf2e-105a300d3b2b",
   "metadata": {},
   "outputs": [
    {
     "data": {
      "text/plain": [
       "'The battery-powered drone is flying at an altitude of 100'"
      ]
     },
     "execution_count": 46,
     "metadata": {},
     "output_type": "execute_result"
    }
   ],
   "source": [
    "class Drone:\n",
    "    power_system = \"battery\"\n",
    "\n",
    "    def fly(self):\n",
    "        return \"The \" + self.power_system + \"-powered drone is flying at an altitude of \" + str(self.altitude)\n",
    "\n",
    "    def ascend(self, change):\n",
    "        self.altitude += change\n",
    "\n",
    " \n",
    "d = Drone()\n",
    "d.altitude = 0\n",
    "d.fly()\n",
    "d.ascend(100)\n",
    "d.fly()"
   ]
  },
  {
   "cell_type": "code",
   "execution_count": null,
   "id": "850a0839-0ad0-45bd-8e5f-898a461c32a5",
   "metadata": {},
   "outputs": [],
   "source": []
  }
 ],
 "metadata": {
  "kernelspec": {
   "display_name": "Python 3 (ipykernel)",
   "language": "python",
   "name": "python3"
  },
  "language_info": {
   "codemirror_mode": {
    "name": "ipython",
    "version": 3
   },
   "file_extension": ".py",
   "mimetype": "text/x-python",
   "name": "python",
   "nbconvert_exporter": "python",
   "pygments_lexer": "ipython3",
   "version": "3.12.4"
  }
 },
 "nbformat": 4,
 "nbformat_minor": 5
}
