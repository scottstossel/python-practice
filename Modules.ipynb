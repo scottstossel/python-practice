{
 "cells": [
  {
   "cell_type": "code",
   "execution_count": 5,
   "id": "8ba56224-8a7e-45c1-aa4e-8078ce5f5f5f",
   "metadata": {},
   "outputs": [
    {
     "name": "stdout",
     "output_type": "stream",
     "text": [
      "Hello world!\n"
     ]
    }
   ],
   "source": [
    "!python3 helloworld.py"
   ]
  },
  {
   "cell_type": "code",
   "execution_count": 7,
   "id": "f2954cfc-25e8-4eac-8546-5b40db4d3e66",
   "metadata": {},
   "outputs": [
    {
     "name": "stdout",
     "output_type": "stream",
     "text": [
      "print(\"Hello world!\")"
     ]
    }
   ],
   "source": [
    "!cat helloworld.py"
   ]
  },
  {
   "cell_type": "code",
   "execution_count": 9,
   "id": "f8eb4d3c-25c1-4dcb-9527-d4e8cca6df79",
   "metadata": {},
   "outputs": [
    {
     "name": "stdout",
     "output_type": "stream",
     "text": [
      "python3: can't open file '/Users/scottstossel/berkeley/python-practice/showarguments.py': [Errno 2] No such file or directory\n"
     ]
    }
   ],
   "source": [
    "!python3 showarguments.py"
   ]
  },
  {
   "cell_type": "code",
   "execution_count": 11,
   "id": "5d1cecdd-3d17-4c56-b1b4-0456ba2f837a",
   "metadata": {},
   "outputs": [
    {
     "name": "stdout",
     "output_type": "stream",
     "text": [
      "cat: weatherman.py: No such file or directory\n"
     ]
    }
   ],
   "source": [
    "!cat weatherman.py"
   ]
  },
  {
   "cell_type": "code",
   "execution_count": 13,
   "id": "03237d9c-049d-4f83-a7f4-d5c7c2ab568a",
   "metadata": {},
   "outputs": [
    {
     "ename": "ModuleNotFoundError",
     "evalue": "No module named 'weatherman'",
     "output_type": "error",
     "traceback": [
      "\u001b[0;31m---------------------------------------------------------------------------\u001b[0m",
      "\u001b[0;31mModuleNotFoundError\u001b[0m                       Traceback (most recent call last)",
      "Cell \u001b[0;32mIn[13], line 1\u001b[0m\n\u001b[0;32m----> 1\u001b[0m \u001b[38;5;28;01mimport\u001b[39;00m \u001b[38;5;21;01mweatherman\u001b[39;00m\n\u001b[1;32m      3\u001b[0m \u001b[38;5;28mprint\u001b[39m(weather\u001b[38;5;241m.\u001b[39mget_report())\n",
      "\u001b[0;31mModuleNotFoundError\u001b[0m: No module named 'weatherman'"
     ]
    }
   ],
   "source": [
    "import weatherman\n",
    "\n",
    "print(weather.get_report())"
   ]
  },
  {
   "cell_type": "code",
   "execution_count": 15,
   "id": "b9463584-0a17-4942-b13c-b2b123ecfcca",
   "metadata": {},
   "outputs": [
    {
     "name": "stdout",
     "output_type": "stream",
     "text": [
      "/Users/scottstossel/berkeley/python-practice\n",
      "/opt/anaconda3/lib/python312.zip\n",
      "/opt/anaconda3/lib/python3.12\n",
      "/opt/anaconda3/lib/python3.12/lib-dynload\n",
      "\n",
      "/opt/anaconda3/lib/python3.12/site-packages\n",
      "/opt/anaconda3/lib/python3.12/site-packages/aeosa\n"
     ]
    }
   ],
   "source": [
    "import sys\n",
    "for place in sys.path:\n",
    "    print(place)\n",
    "    "
   ]
  },
  {
   "cell_type": "code",
   "execution_count": null,
   "id": "5d0e3499-5691-4649-9607-5e0cf8fab432",
   "metadata": {},
   "outputs": [],
   "source": [
    "import datetime\n",
    "\n",
    "weatherData = {}\n",
    "current_utc_offset = -datetime.timedelta(hours=8)\n",
    "current_timezone = datetime.timezone(current_utc_offset)\n",
    "current_datetime - datetime.datetime.fromtimestamp(weatherData[\"dt\"],)"
   ]
  }
 ],
 "metadata": {
  "kernelspec": {
   "display_name": "Python 3 (ipykernel)",
   "language": "python",
   "name": "python3"
  },
  "language_info": {
   "codemirror_mode": {
    "name": "ipython",
    "version": 3
   },
   "file_extension": ".py",
   "mimetype": "text/x-python",
   "name": "python",
   "nbconvert_exporter": "python",
   "pygments_lexer": "ipython3",
   "version": "3.12.4"
  }
 },
 "nbformat": 4,
 "nbformat_minor": 5
}
