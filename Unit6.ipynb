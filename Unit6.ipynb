{
 "cells": [
  {
   "cell_type": "code",
   "execution_count": 2,
   "id": "31c3f92e-3667-4234-807b-90238f870fbb",
   "metadata": {},
   "outputs": [],
   "source": [
    "from itertools import chain, combinations\n",
    "\n",
    "def powerset(iterable):\n",
    "    \"powerset([1,2,3] -> () (1,) (2,) (3,) (1,2) (1,3) (2,3) (1,2,3)\"\n",
    "    s = list(iterable)\n",
    "    return chain.from_iterable(combinations(s, r) for r in range(len(s) + 1))"
   ]
  },
  {
   "cell_type": "code",
   "execution_count": 4,
   "id": "b2dd020b-39c7-4636-93fd-67dd62ed3779",
   "metadata": {},
   "outputs": [
    {
     "ename": "NameError",
     "evalue": "name 'population' is not defined",
     "output_type": "error",
     "traceback": [
      "\u001b[0;31m---------------------------------------------------------------------------\u001b[0m",
      "\u001b[0;31mNameError\u001b[0m                                 Traceback (most recent call last)",
      "Cell \u001b[0;32mIn[4], line 1\u001b[0m\n\u001b[0;32m----> 1\u001b[0m \u001b[38;5;28;01mfor\u001b[39;00m group \u001b[38;5;129;01min\u001b[39;00m powerset(population):\n\u001b[1;32m      2\u001b[0m     \u001b[38;5;28mprint\u001b[39m(group)\n",
      "\u001b[0;31mNameError\u001b[0m: name 'population' is not defined"
     ]
    }
   ],
   "source": [
    "# for group in powerset(population):\n",
    "#     print(group)\n",
    "# How long for 1 person? 2 prints\n",
    "# 2 people? 4\n",
    "# 10? 1024\n",
    "# 1000? 1.1 x 10^301"
   ]
  },
  {
   "cell_type": "markdown",
   "id": "1d0da5e6-e51f-4d2d-b3b8-1b3c53cc905b",
   "metadata": {},
   "source": [
    "## Measuring execution time"
   ]
  },
  {
   "cell_type": "code",
   "execution_count": 2,
   "id": "d2bc9da0-6abe-4739-99da-6fe8ebddc241",
   "metadata": {},
   "outputs": [],
   "source": [
    "from itertools import chain, combinations\n",
    "\n",
    "def powerset(iterable):\n",
    "    \"powerset([1,2,3] -> () (1,) (2,) (3,) (1,2) (1,3) (2,3) (1,2,3)\"\n",
    "    s = list(iterable)\n",
    "    return chain.from_iterable(combinations(s, r) for r in range(len(s) + 1))"
   ]
  },
  {
   "cell_type": "code",
   "execution_count": 8,
   "id": "ff7e81cc-ed64-4b67-b59e-aeaae01e3652",
   "metadata": {},
   "outputs": [
    {
     "data": {
      "text/plain": [
       "{0, 1, 2}"
      ]
     },
     "execution_count": 8,
     "metadata": {},
     "output_type": "execute_result"
    }
   ],
   "source": [
    "population = set(range(3))\n",
    "population"
   ]
  },
  {
   "cell_type": "code",
   "execution_count": 41,
   "id": "f3c214d9-b206-457b-8faf-bfa96aeac9af",
   "metadata": {},
   "outputs": [
    {
     "name": "stdout",
     "output_type": "stream",
     "text": [
      "execution time:  0.00012111663818359375\n"
     ]
    }
   ],
   "source": [
    "start_time = time.time()\n",
    "for group in powerset(population):\n",
    "    # print(group)\n",
    "    pass\n",
    "end_time = time.time()\n",
    "print(\"execution time: \", end_time - start_time)"
   ]
  },
  {
   "cell_type": "code",
   "execution_count": 12,
   "id": "ced1e9f6-5702-48a4-8de1-804ccd953d49",
   "metadata": {},
   "outputs": [],
   "source": [
    "import time"
   ]
  },
  {
   "cell_type": "code",
   "execution_count": 25,
   "id": "b7a71e03-304a-42dd-8a46-739dca610bd7",
   "metadata": {},
   "outputs": [
    {
     "data": {
      "text/plain": [
       "1727756097.8340878"
      ]
     },
     "execution_count": 25,
     "metadata": {},
     "output_type": "execute_result"
    }
   ],
   "source": [
    "time.time()"
   ]
  },
  {
   "cell_type": "markdown",
   "id": "7e6d076e-3657-41a8-a060-519c997754fb",
   "metadata": {},
   "source": [
    "## Growth Rate"
   ]
  },
  {
   "cell_type": "code",
   "execution_count": 50,
   "id": "66fb07e2-be8f-402c-b685-b1966d80ec55",
   "metadata": {},
   "outputs": [
    {
     "data": {
      "text/plain": [
       "[1.7881393432617188e-05,\n",
       " 1.0013580322265625e-05,\n",
       " 8.821487426757812e-06,\n",
       " 1.0967254638671875e-05,\n",
       " 1.3113021850585938e-05,\n",
       " 1.7881393432617188e-05,\n",
       " 2.6941299438476562e-05,\n",
       " 4.1961669921875e-05,\n",
       " 7.390975952148438e-05,\n",
       " 0.0001380443572998047,\n",
       " 0.0002639293670654297,\n",
       " 0.0005199909210205078,\n",
       " 0.0010449886322021484,\n",
       " 0.002064943313598633,\n",
       " 0.002379179000854492,\n",
       " 0.0035338401794433594,\n",
       " 0.007005214691162109,\n",
       " 0.011129140853881836,\n",
       " 0.017118215560913086,\n",
       " 0.024546146392822266,\n",
       " 0.033828020095825195,\n",
       " 0.061850786209106445,\n",
       " 0.12697410583496094,\n",
       " 0.25505709648132324,\n",
       " 0.5180399417877197,\n",
       " 1.0587570667266846,\n",
       " 2.2010841369628906]"
      ]
     },
     "execution_count": 50,
     "metadata": {},
     "output_type": "execute_result"
    }
   ],
   "source": [
    "times = []\n",
    "for n in range(27):\n",
    "    population = set(range(n))\n",
    "    start_time = time.time()\n",
    "    for group in powerset(population):\n",
    "        # print(group)\n",
    "        pass\n",
    "    end_time = time.time()\n",
    "    times.append(end_time - start_time)\n",
    "times"
   ]
  },
  {
   "cell_type": "code",
   "execution_count": 52,
   "id": "43b9b03b-7107-47f8-a0d7-8bafd5ee2a4e",
   "metadata": {},
   "outputs": [],
   "source": [
    "import matplotlib.pyplot as plt"
   ]
  },
  {
   "cell_type": "code",
   "execution_count": 54,
   "id": "58d927ab-b8f6-4116-afe6-c8605b90b343",
   "metadata": {},
   "outputs": [
    {
     "data": {
      "text/plain": [
       "Text(0.5, 1.0, 'Execution Times for Powerset Experiment')"
      ]
     },
     "execution_count": 54,
     "metadata": {},
     "output_type": "execute_result"
    },
    {
     "data": {
      "image/png": "[encoded data removed]",
      "text/plain": [
       "<Figure size 640x480 with 1 Axes>"
      ]
     },
     "metadata": {},
     "output_type": "display_data"
    }
   ],
   "source": [
    "plt.scatter(x = range(27), y=times)\n",
    "plt.title(\"Execution Times for Powerset Experiment\")"
   ]
  },
  {
   "cell_type": "code",
   "execution_count": null,
   "id": "8d98c7b2-a482-43bf-8f25-44312adb16d0",
   "metadata": {},
   "outputs": [],
   "source": []
  }
 ],
 "metadata": {
  "kernelspec": {
   "display_name": "Python 3 (ipykernel)",
   "language": "python",
   "name": "python3"
  },
  "language_info": {
   "codemirror_mode": {
    "name": "ipython",
    "version": 3
   },
   "file_extension": ".py",
   "mimetype": "text/x-python",
   "name": "python",
   "nbconvert_exporter": "python",
   "pygments_lexer": "ipython3",
   "version": "3.12.4"
  }
 },
 "nbformat": 4,
 "nbformat_minor": 5
}
