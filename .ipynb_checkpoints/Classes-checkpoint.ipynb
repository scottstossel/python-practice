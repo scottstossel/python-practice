{
 "cells": [
  {
   "cell_type": "markdown",
   "id": "ba0f7709-011e-4936-a8b9-a965e19dc0f2",
   "metadata": {},
   "source": [
    "class Drone:\n",
    "    \"\"\"A representation of a drone aircraft\"\"\""
   ]
  },
  {
   "cell_type": "code",
   "execution_count": 3,
   "id": "fdd3d53d-de69-4855-a8ed-d7c69f9b7c8d",
   "metadata": {},
   "outputs": [
    {
     "data": {
      "text/plain": [
       "\u001b[0;31mInit signature:\u001b[0m \u001b[0mDrone\u001b[0m\u001b[0;34m(\u001b[0m\u001b[0;34m)\u001b[0m\u001b[0;34m\u001b[0m\u001b[0;34m\u001b[0m\u001b[0m\n",
       "\u001b[0;31mDocstring:\u001b[0m      A representation of a drone aircraft\n",
       "\u001b[0;31mType:\u001b[0m           type\n",
       "\u001b[0;31mSubclasses:\u001b[0m     "
      ]
     },
     "metadata": {},
     "output_type": "display_data"
    }
   ],
   "source": [
    "?Drone"
   ]
  },
  {
   "cell_type": "code",
   "execution_count": 5,
   "id": "07de5443-4c88-41b8-af67-940c1a142516",
   "metadata": {},
   "outputs": [
    {
     "name": "stdout",
     "output_type": "stream",
     "text": [
      "<class '__main__.Drone'> <class '__main__.Drone'>\n"
     ]
    }
   ],
   "source": [
    "d1 = Drone()\n",
    "d2 = Drone()\n",
    "print(type(d1), type(d2))"
   ]
  },
  {
   "cell_type": "code",
   "execution_count": 7,
   "id": "d3dd873f-726c-4306-9282-1138c3521803",
   "metadata": {},
   "outputs": [],
   "source": [
    "Drone.power_system = \"Battery\""
   ]
  },
  {
   "cell_type": "code",
   "execution_count": 9,
   "id": "4f6cd3f7-88c5-4e49-bf58-d5453f5bd44b",
   "metadata": {},
   "outputs": [
    {
     "name": "stdout",
     "output_type": "stream",
     "text": [
      "Battery\n"
     ]
    }
   ],
   "source": [
    "print(d1.power_system)"
   ]
  },
  {
   "cell_type": "code",
   "execution_count": 11,
   "id": "16d37f2a-e70a-4f43-b404-9e56e359d1ec",
   "metadata": {},
   "outputs": [
    {
     "name": "stdout",
     "output_type": "stream",
     "text": [
      "Battery\n"
     ]
    }
   ],
   "source": [
    "print(Drone.power_system)"
   ]
  },
  {
   "cell_type": "code",
   "execution_count": 13,
   "id": "1932d743-2745-4802-9804-d1f53a2f8f25",
   "metadata": {},
   "outputs": [],
   "source": [
    "d1.power_system = \"Gasoline\""
   ]
  },
  {
   "cell_type": "code",
   "execution_count": 15,
   "id": "e012b8ae-930a-43c1-a93c-2ac4a5cc9543",
   "metadata": {},
   "outputs": [
    {
     "name": "stdout",
     "output_type": "stream",
     "text": [
      "Gasoline\n",
      "Battery\n",
      "Battery\n"
     ]
    }
   ],
   "source": [
    "print(d1.power_system)\n",
    "print(d2.power_system)\n",
    "print(Drone.power_system)"
   ]
  },
  {
   "cell_type": "code",
   "execution_count": 17,
   "id": "177de0b5-851f-4b96-8d6f-4685750a4d1f",
   "metadata": {},
   "outputs": [
    {
     "name": "stdout",
     "output_type": "stream",
     "text": [
      "100\n",
      "150\n"
     ]
    }
   ],
   "source": [
    "d1.altitude = 100\n",
    "d2.altitude = 150\n",
    "\n",
    "print(d1.altitude)\n",
    "print(d2.altitude)"
   ]
  },
  {
   "cell_type": "code",
   "execution_count": 19,
   "id": "2c649aa2-71ae-4a92-b90c-fe2356ed1d59",
   "metadata": {},
   "outputs": [
    {
     "data": {
      "text/plain": [
       "['__class__',\n",
       " '__delattr__',\n",
       " '__dict__',\n",
       " '__dir__',\n",
       " '__doc__',\n",
       " '__eq__',\n",
       " '__format__',\n",
       " '__ge__',\n",
       " '__getattribute__',\n",
       " '__getstate__',\n",
       " '__gt__',\n",
       " '__hash__',\n",
       " '__init__',\n",
       " '__init_subclass__',\n",
       " '__le__',\n",
       " '__lt__',\n",
       " '__module__',\n",
       " '__ne__',\n",
       " '__new__',\n",
       " '__reduce__',\n",
       " '__reduce_ex__',\n",
       " '__repr__',\n",
       " '__setattr__',\n",
       " '__sizeof__',\n",
       " '__str__',\n",
       " '__subclasshook__',\n",
       " '__weakref__',\n",
       " 'altitude',\n",
       " 'power_system']"
      ]
     },
     "execution_count": 19,
     "metadata": {},
     "output_type": "execute_result"
    }
   ],
   "source": [
    "dir(d1)"
   ]
  },
  {
   "cell_type": "code",
   "execution_count": 21,
   "id": "8e05516b-b6d2-4fd5-88c1-7ddda74ed6a5",
   "metadata": {},
   "outputs": [
    {
     "data": {
      "text/plain": [
       "__main__.Drone"
      ]
     },
     "execution_count": 21,
     "metadata": {},
     "output_type": "execute_result"
    }
   ],
   "source": [
    "d1.__class__"
   ]
  },
  {
   "cell_type": "code",
   "execution_count": 23,
   "id": "6e36947a-3614-4f7a-8de7-f2245129cb34",
   "metadata": {},
   "outputs": [
    {
     "data": {
      "text/plain": [
       "{'power_system': 'Gasoline', 'altitude': 100}"
      ]
     },
     "execution_count": 23,
     "metadata": {},
     "output_type": "execute_result"
    }
   ],
   "source": [
    "d1.__dict__"
   ]
  },
  {
   "cell_type": "markdown",
   "id": "27da996a-5214-4f77-8677-1c530e32667e",
   "metadata": {},
   "source": [
    "## Using the class definition"
   ]
  },
  {
   "cell_type": "code",
   "execution_count": 26,
   "id": "27d3f7a1-f9a3-4136-9085-04b83dea8cad",
   "metadata": {},
   "outputs": [],
   "source": [
    "class Drone:\n",
    "    power_system = \"battery\"\n",
    "\n",
    "    def fly(self):\n",
    "        return \"The drone is flying\""
   ]
  },
  {
   "cell_type": "code",
   "execution_count": 28,
   "id": "01909d0c-44e4-4208-a8d3-17206df828c1",
   "metadata": {},
   "outputs": [],
   "source": [
    "d = Drone()"
   ]
  },
  {
   "cell_type": "code",
   "execution_count": 30,
   "id": "aeafbaa5-e35c-4e28-a0b1-06f2629a3947",
   "metadata": {},
   "outputs": [
    {
     "name": "stdout",
     "output_type": "stream",
     "text": [
      "The drone is flying\n"
     ]
    }
   ],
   "source": [
    "print(d.fly())"
   ]
  },
  {
   "cell_type": "code",
   "execution_count": 42,
   "id": "35a8861f-e0d3-4671-b383-b346920ff507",
   "metadata": {},
   "outputs": [
    {
     "name": "stdout",
     "output_type": "stream",
     "text": [
      "The dream-powered drone is flying\n",
      "The battery-powered drone is flying\n"
     ]
    }
   ],
   "source": [
    "class Drone:\n",
    "    power_system = \"battery\"\n",
    "\n",
    "    def fly(self):\n",
    "        return \"The \" + self.power_system + \"-powered drone is flying\"\n",
    "\n",
    "d1 = Drone()\n",
    "d1.power_system = \"dream\"\n",
    "print(d1.fly())\n",
    "d2 = Drone()\n",
    "print(d2.fly())"
   ]
  },
  {
   "cell_type": "code",
   "execution_count": 46,
   "id": "977fd499-ffc1-4f44-bf2e-105a300d3b2b",
   "metadata": {},
   "outputs": [
    {
     "data": {
      "text/plain": [
       "'The battery-powered drone is flying at an altitude of 100'"
      ]
     },
     "execution_count": 46,
     "metadata": {},
     "output_type": "execute_result"
    }
   ],
   "source": [
    "class Drone:\n",
    "    power_system = \"battery\"\n",
    "\n",
    "    def fly(self):\n",
    "        return \"The \" + self.power_system + \"-powered drone is flying at an altitude of \" + str(self.altitude)\n",
    "\n",
    "    def ascend(self, change):\n",
    "        self.altitude += change\n",
    "\n",
    " \n",
    "d = Drone()\n",
    "d.altitude = 0\n",
    "d.fly()\n",
    "d.ascend(100)\n",
    "d.fly()"
   ]
  },
  {
   "cell_type": "markdown",
   "id": "d4988a44-c99e-4468-aea4-12810349b37e",
   "metadata": {},
   "source": [
    "## Initializing (Constructing) a Class"
   ]
  },
  {
   "cell_type": "code",
   "execution_count": 67,
   "id": "f04d0f3d-d1bb-4ba6-ae99-838013333db1",
   "metadata": {},
   "outputs": [
    {
     "name": "stdout",
     "output_type": "stream",
     "text": [
      "The battery-powered drone is flying at an altitude of 100\n",
      "The battery-powered drone is flying at an altitude of 200\n",
      "The battery-powered drone is flying at an altitude of 0\n"
     ]
    }
   ],
   "source": [
    "class Drone:\n",
    "    power_system = \"battery\"\n",
    "\n",
    "    def __init__(self, altitude = 0):\n",
    "        self.altitude = altitude\n",
    "        \n",
    "    \n",
    "    def fly(self):\n",
    "        print(\"The \" + self.power_system + \"-powered drone is flying at an altitude of \" + str(self.altitude))\n",
    "\n",
    "    def ascend(self, change):\n",
    "        self.altitude += change\n",
    "\n",
    "d1 = Drone(100)\n",
    "d1.fly()\n",
    "d1.ascend(100)\n",
    "d1.fly()\n",
    "d2 = Drone()\n",
    "d2.fly()"
   ]
  },
  {
   "cell_type": "markdown",
   "id": "373d8c45-46e9-4dd9-ba27-8f4e07e97e01",
   "metadata": {},
   "source": [
    "## Counting with Data Attributes"
   ]
  },
  {
   "cell_type": "code",
   "execution_count": 104,
   "id": "d02b36d2-c0f4-4f4a-a45c-b8b38b7011be",
   "metadata": {},
   "outputs": [
    {
     "name": "stdout",
     "output_type": "stream",
     "text": [
      "-10\n",
      "-10\n"
     ]
    }
   ],
   "source": [
    "class Drone:\n",
    "\n",
    "    num_drones = 0\n",
    "    \n",
    "    def __init__(self, altitude = 0):\n",
    "        self.__altitude = altitude\n",
    "        self.ascend_count = 0\n",
    "        self.num_drones += 1\n",
    "    \n",
    "    def fly(self):\n",
    "        print(\"The drone is flying at an altitude of \" + str(self.altitude))\n",
    "\n",
    "    def ascend(self, change):\n",
    "        self.__altitude += change\n",
    "        self.ascend_count += 1\n",
    "\n",
    "    def get_altitude(self):\n",
    "        return self.__altitude\n",
    "\n",
    "    def set_altitude(self, new_altitude):\n",
    "        if new_altitude < 0:\n",
    "            raise Exception(\"drone cannot have a negative altitude\")\n",
    "        self.__altitude = new_altitude\n",
    "\n",
    "# d1 = Drone(100)\n",
    "# print(\"Number of drones: \", Drone.num_drones)\n",
    "# # print(d1.ascend_count)\n",
    "# d1.fly()\n",
    "# # d1.ascend(100)\n",
    "# d1.fly()\n",
    "# # print(d1.ascend_count)\n",
    "\n",
    "# d2 = Drone()\n",
    "# d2.fly()\n",
    "# # print(d2.ascend_count)\n",
    "# print(\"Number of drones: \", d1.num_drones)\n",
    "\n",
    "d1 = Drone(100)\n",
    "d1.set_altitude(300)\n",
    "d1._Drone__altitude = -10\n",
    "print(d1._Drone__altitude)\n",
    "print(d1.get_altitude())"
   ]
  },
  {
   "cell_type": "markdown",
   "id": "26882485-6f7b-4d35-a7b3-2051c2268f28",
   "metadata": {},
   "source": []
  },
  {
   "cell_type": "code",
   "execution_count": 127,
   "id": "ceb365b1-c984-49ba-ab1d-107dc7d8f95f",
   "metadata": {},
   "outputs": [],
   "source": [
    "# Overriding hidden attributes\n",
    "\n",
    "\n",
    "\n",
    "\n",
    "class Animal():\n",
    "\n",
    "    def __init__(self, name):\n",
    "        self.name = name\n",
    "\n",
    "    def __repr__(self):\n",
    "        return f\"I am a {self.name}\"\n",
    "\n",
    "    def __str__(self):\n",
    "        print(\"Calling repr\")\n",
    "        return self.__repr__()"
   ]
  },
  {
   "cell_type": "code",
   "execution_count": 135,
   "id": "fb3bd7e0-417e-4cdd-9226-c233461b1707",
   "metadata": {},
   "outputs": [],
   "source": [
    "a1 = Animal(\"Lion\")"
   ]
  },
  {
   "cell_type": "code",
   "execution_count": 137,
   "id": "7d19cb3c-a80d-425c-be70-a94b854df65c",
   "metadata": {},
   "outputs": [
    {
     "data": {
      "text/plain": [
       "I am a Lion"
      ]
     },
     "execution_count": 137,
     "metadata": {},
     "output_type": "execute_result"
    }
   ],
   "source": [
    "a1"
   ]
  },
  {
   "cell_type": "code",
   "execution_count": 139,
   "id": "5b1f44c3-302b-4129-9432-eba219b640e8",
   "metadata": {},
   "outputs": [],
   "source": [
    "a2 = Animal(\"Bear\")"
   ]
  },
  {
   "cell_type": "code",
   "execution_count": 141,
   "id": "095252e6-9917-4732-b7a9-779c73e8694e",
   "metadata": {},
   "outputs": [
    {
     "data": {
      "text/plain": [
       "I am a Bear"
      ]
     },
     "execution_count": 141,
     "metadata": {},
     "output_type": "execute_result"
    }
   ],
   "source": [
    "a2\n"
   ]
  },
  {
   "cell_type": "code",
   "execution_count": 143,
   "id": "93aa1e4a-4c82-4760-bf8a-fc2bb9d50693",
   "metadata": {},
   "outputs": [
    {
     "data": {
      "text/plain": [
       "I am a Zebra"
      ]
     },
     "execution_count": 143,
     "metadata": {},
     "output_type": "execute_result"
    }
   ],
   "source": [
    "a4 = Animal(\"Zebra\")\n",
    "a4"
   ]
  },
  {
   "cell_type": "code",
   "execution_count": 145,
   "id": "30ad1c61-1792-46a1-abdc-25d0e35739a2",
   "metadata": {},
   "outputs": [
    {
     "name": "stdout",
     "output_type": "stream",
     "text": [
      "Calling repr\n",
      "I am a Zebra\n"
     ]
    }
   ],
   "source": [
    "print(a4)"
   ]
  },
  {
   "cell_type": "code",
   "execution_count": 147,
   "id": "593fa8b0-36d9-4047-880a-8bd24efb918f",
   "metadata": {},
   "outputs": [],
   "source": [
    "class Zoo():\n",
    "    def __inti__(self):\n",
    "        self.animals = []\n",
    "\n",
    "    def add_animal(self, animal):\n",
    "        self.animals.append(animal)"
   ]
  },
  {
   "cell_type": "code",
   "execution_count": 149,
   "id": "a54dd70a-9410-4d92-8674-af0ac287f1a9",
   "metadata": {},
   "outputs": [],
   "source": [
    "# Bulding the Bandit class\n",
    "# need probability and move()\n"
   ]
  },
  {
   "cell_type": "code",
   "execution_count": 7,
   "id": "87072f0f-681b-4034-961f-2bcf9d35d460",
   "metadata": {},
   "outputs": [],
   "source": [
    "import numpy as np\n",
    "\n",
    "class Bandit:\n",
    "    \"\"\"Class to represent a slot machine with a secret probability of reward\"\"\"\n",
    "\n",
    "    def __init__(self):\n",
    "        self.__probability = np.random.uniform()\n",
    "\n",
    "    def __repr__(self):\n",
    "        return \"Bandit object with secret probability \" + str(self.__probability)\n",
    "\n",
    "    def pull(self):\n",
    "        \"\"\"returns True representing a reward or False representing no reward\"\"\"\n",
    "        return np.random.choice([True, False],p=[self.__probability, 1 - self.__probability])\n",
    "\n"
   ]
  },
  {
   "cell_type": "code",
   "execution_count": 171,
   "id": "7cedc0d3-90f1-4d71-99d5-c02bd2a104dc",
   "metadata": {},
   "outputs": [
    {
     "data": {
      "text/plain": [
       "Bandit object with secret probability 0.1153335806277116"
      ]
     },
     "execution_count": 171,
     "metadata": {},
     "output_type": "execute_result"
    }
   ],
   "source": [
    "b = Bandit()\n",
    "b"
   ]
  },
  {
   "cell_type": "code",
   "execution_count": 181,
   "id": "ccdbe597-647c-4476-97b9-6579b9a9e246",
   "metadata": {},
   "outputs": [
    {
     "data": {
      "text/plain": [
       "False"
      ]
     },
     "execution_count": 181,
     "metadata": {},
     "output_type": "execute_result"
    }
   ],
   "source": [
    "b.pull()"
   ]
  },
  {
   "cell_type": "code",
   "execution_count": 183,
   "id": "e1846b6b-d383-47e5-8673-b14a9b2840d7",
   "metadata": {},
   "outputs": [
    {
     "data": {
      "text/plain": [
       "[False, True, False, False, False, True, True, False, False, False]"
      ]
     },
     "execution_count": 183,
     "metadata": {},
     "output_type": "execute_result"
    }
   ],
   "source": [
    "results = [b.pull() for i in range(10)]\n",
    "results"
   ]
  },
  {
   "cell_type": "code",
   "execution_count": 185,
   "id": "e53ad919-9ba4-4022-a353-27a0b82bbb5e",
   "metadata": {},
   "outputs": [
    {
     "data": {
      "text/plain": [
       "0.3"
      ]
     },
     "execution_count": 185,
     "metadata": {},
     "output_type": "execute_result"
    }
   ],
   "source": [
    "sum(results)/len(results)"
   ]
  },
  {
   "cell_type": "code",
   "execution_count": 1,
   "id": "9bd88b94-53b0-425b-802e-613688ca6027",
   "metadata": {},
   "outputs": [],
   "source": [
    "# A basic solver\n",
    "\n",
    "# Need a move(), bandits (list of bandits)"
   ]
  },
  {
   "cell_type": "code",
   "execution_count": 44,
   "id": "8a032e54-12bc-4211-8f15-1b0254ce577b",
   "metadata": {},
   "outputs": [],
   "source": [
    "class RandomSolver:\n",
    "    \"\"\"Representation of a player in a multi-armed bandit problem. The algorithm\n",
    "    is to choose a bandit completely at random\n",
    "    \"\"\"\n",
    "\n",
    "    def __init__(self, bandits):\n",
    "        self.bandits = bandits\n",
    "\n",
    "    def move(self):\n",
    "        \"\"\"Makes this solver choose a bandit and call pull on it. Returns \n",
    "        True if a reward was given. False otherwise.\n",
    "        \"\"\"\n",
    "        chosen = np.random.randint(0, len(bandits) )\n",
    "        # print(\"Choosing bandit number\", chosen)\n",
    "        return bandits[chosen].pull()"
   ]
  },
  {
   "cell_type": "code",
   "execution_count": 9,
   "id": "ad6d6b0d-e2cf-48e4-8142-8721325f6378",
   "metadata": {},
   "outputs": [
    {
     "data": {
      "text/plain": [
       "[Bandit object with secret probability 0.4200044105272639,\n",
       " Bandit object with secret probability 0.7246156268657324,\n",
       " Bandit object with secret probability 0.14643572364717683,\n",
       " Bandit object with secret probability 0.9313869064924839,\n",
       " Bandit object with secret probability 0.8756510848399154,\n",
       " Bandit object with secret probability 0.1244054841653871,\n",
       " Bandit object with secret probability 0.5252150695803843,\n",
       " Bandit object with secret probability 0.8521080934961485,\n",
       " Bandit object with secret probability 0.5729457870661846,\n",
       " Bandit object with secret probability 0.11508721719350445]"
      ]
     },
     "execution_count": 9,
     "metadata": {},
     "output_type": "execute_result"
    }
   ],
   "source": [
    "bandits = [Bandit() for i in range(10)]\n",
    "bandits"
   ]
  },
  {
   "cell_type": "code",
   "execution_count": 11,
   "id": "6a23d5fa-1235-425b-8e31-98fafd26373f",
   "metadata": {},
   "outputs": [],
   "source": [
    "solver = RandomSolver(bandits)"
   ]
  },
  {
   "cell_type": "code",
   "execution_count": 21,
   "id": "0efbffd4-b004-4955-adaf-097dd4c9b717",
   "metadata": {},
   "outputs": [
    {
     "name": "stdout",
     "output_type": "stream",
     "text": [
      "Choosing bandit number 8\n"
     ]
    },
    {
     "data": {
      "text/plain": [
       "True"
      ]
     },
     "execution_count": 21,
     "metadata": {},
     "output_type": "execute_result"
    }
   ],
   "source": [
    "solver.move()"
   ]
  },
  {
   "cell_type": "code",
   "execution_count": 23,
   "id": "fe2db86e-b238-44f8-a7f4-df5dce061204",
   "metadata": {},
   "outputs": [
    {
     "name": "stdout",
     "output_type": "stream",
     "text": [
      "Choosing bandit number 7\n",
      "Choosing bandit number 5\n",
      "Choosing bandit number 1\n",
      "Choosing bandit number 0\n",
      "Choosing bandit number 5\n",
      "Choosing bandit number 9\n",
      "Choosing bandit number 4\n",
      "Choosing bandit number 9\n",
      "Choosing bandit number 9\n",
      "Choosing bandit number 0\n"
     ]
    },
    {
     "data": {
      "text/plain": [
       "5"
      ]
     },
     "execution_count": 23,
     "metadata": {},
     "output_type": "execute_result"
    }
   ],
   "source": [
    "sum( [solver.move() for i in range(10)] )"
   ]
  },
  {
   "cell_type": "markdown",
   "id": "d6f7cf3b-4d25-4542-990b-e3f4b14930ae",
   "metadata": {},
   "source": [
    "## Building a Game Class\n",
    "\n",
    "Remaining functionality:\n",
    "1. Keeping score\n",
    "2. Making graphs\n",
    "3. Enforce the rules\n",
    "\n",
    "Where can this go?\n",
    "1. Main script\n",
    "2. Solver class\n",
    "3. New Game Class"
   ]
  },
  {
   "cell_type": "code",
   "execution_count": 62,
   "id": "61ca6286-ce68-47de-aea1-a84f36039c53",
   "metadata": {},
   "outputs": [],
   "source": [
    "import matplotlib.pyplot as plt\n",
    "\n",
    "class Game:\n",
    "    \"\"\"Class to represent the overall rules of the multi-armed bandit-problem.\"\"\"\n",
    "    def __init__(self, num_moves):\n",
    "        self.num_moves = num_moves\n",
    "        self.score = 0\n",
    "        self.history = []\n",
    "        self.best_probability = 0\n",
    "\n",
    "    def moves_remaining(self):\n",
    "        return self.num_moves > len(self.history)\n",
    "\n",
    "    def plot_history(self):\n",
    "        plt.plot(np.cumsum(self.history))\n",
    "        plt.title(\"Reward History\")\n",
    "        plt.xlabel(\"move number\")\n",
    "        plt.ylabel(\"total reward\")\n",
    "        plt.plot([0, len(self.history)], [0, len(self.history) * self.best_probability], color='r', linestyle='--', linewidth=1)"
   ]
  },
  {
   "cell_type": "code",
   "execution_count": 64,
   "id": "7597d1b6-6f75-42a3-b482-ee2d20589866",
   "metadata": {},
   "outputs": [],
   "source": [
    "class Bandit:\n",
    "    \"\"\"Class to represent a slot machine with a secret probability of reward\"\"\"\n",
    "\n",
    "    def __init__(self, game):\n",
    "        self.__probability = np.random.uniform()\n",
    "        self.game = game\n",
    "        if self.__probability > self.game.best_probability:\n",
    "            self.game.best_probability = self.__probability\n",
    "\n",
    "    def __repr__(self):\n",
    "        return \"Bandit object with secret probability \" + str(self.__probability)\n",
    "\n",
    "    def pull(self):\n",
    "        \"\"\"returns True representing a reward or False representing no reward\"\"\"\n",
    "        if not self.game.moves_remaining():\n",
    "            raise Exception(\"Bandit pull called with no moves remaining.\")\n",
    "        result = np.random.choice([True, False],p=[self.__probability, 1 - self.__probability])\n",
    "        self.game.history.append(result)\n",
    "        self.game.score += result\n",
    "        return result"
   ]
  },
  {
   "cell_type": "code",
   "execution_count": 30,
   "id": "d1026d1f-bded-4529-b983-8914f5891ff2",
   "metadata": {},
   "outputs": [],
   "source": [
    "game = Game(2)\n",
    "bandits = [Bandit(game) for i in range(10)]\n",
    "s = RandomSolver(bandits)"
   ]
  },
  {
   "cell_type": "code",
   "execution_count": 32,
   "id": "c6188438-e4c5-47cc-93f2-ff39c79353fc",
   "metadata": {},
   "outputs": [
    {
     "data": {
      "text/plain": [
       "[]"
      ]
     },
     "execution_count": 32,
     "metadata": {},
     "output_type": "execute_result"
    }
   ],
   "source": [
    "game.history"
   ]
  },
  {
   "cell_type": "code",
   "execution_count": 34,
   "id": "755b656d-0321-4bfb-9076-8a5649ee6c66",
   "metadata": {},
   "outputs": [
    {
     "name": "stdout",
     "output_type": "stream",
     "text": [
      "Choosing bandit number 9\n"
     ]
    },
    {
     "data": {
      "text/plain": [
       "True"
      ]
     },
     "execution_count": 34,
     "metadata": {},
     "output_type": "execute_result"
    }
   ],
   "source": [
    "s.move()"
   ]
  },
  {
   "cell_type": "code",
   "execution_count": 36,
   "id": "8e1e7c5b-dad5-4988-ac47-ee5f3ee0a7d6",
   "metadata": {},
   "outputs": [
    {
     "name": "stdout",
     "output_type": "stream",
     "text": [
      "Choosing bandit number 3\n"
     ]
    },
    {
     "data": {
      "text/plain": [
       "False"
      ]
     },
     "execution_count": 36,
     "metadata": {},
     "output_type": "execute_result"
    }
   ],
   "source": [
    "s.move()"
   ]
  },
  {
   "cell_type": "code",
   "execution_count": 38,
   "id": "6d60bad2-230d-426e-b41f-f64a131672f7",
   "metadata": {},
   "outputs": [
    {
     "data": {
      "text/plain": [
       "[True, False]"
      ]
     },
     "execution_count": 38,
     "metadata": {},
     "output_type": "execute_result"
    }
   ],
   "source": [
    "game.history"
   ]
  },
  {
   "cell_type": "code",
   "execution_count": 40,
   "id": "8314e253-bdca-4cd1-8088-1e98ede4a3d1",
   "metadata": {},
   "outputs": [
    {
     "data": {
      "text/plain": [
       "1"
      ]
     },
     "execution_count": 40,
     "metadata": {},
     "output_type": "execute_result"
    }
   ],
   "source": [
    "game.score"
   ]
  },
  {
   "cell_type": "code",
   "execution_count": 42,
   "id": "a1ac0639-ef39-4049-b711-26cb3788e297",
   "metadata": {},
   "outputs": [
    {
     "name": "stdout",
     "output_type": "stream",
     "text": [
      "Choosing bandit number 7\n"
     ]
    },
    {
     "ename": "Exception",
     "evalue": "Bandit pull called with no moves remaining.",
     "output_type": "error",
     "traceback": [
      "\u001b[0;31m---------------------------------------------------------------------------\u001b[0m",
      "\u001b[0;31mException\u001b[0m                                 Traceback (most recent call last)",
      "Cell \u001b[0;32mIn[42], line 1\u001b[0m\n\u001b[0;32m----> 1\u001b[0m s\u001b[38;5;241m.\u001b[39mmove()\n",
      "Cell \u001b[0;32mIn[3], line 15\u001b[0m, in \u001b[0;36mRandomSolver.move\u001b[0;34m(self)\u001b[0m\n\u001b[1;32m     13\u001b[0m chosen \u001b[38;5;241m=\u001b[39m np\u001b[38;5;241m.\u001b[39mrandom\u001b[38;5;241m.\u001b[39mrandint(\u001b[38;5;241m0\u001b[39m, \u001b[38;5;28mlen\u001b[39m(bandits) )\n\u001b[1;32m     14\u001b[0m \u001b[38;5;28mprint\u001b[39m(\u001b[38;5;124m\"\u001b[39m\u001b[38;5;124mChoosing bandit number\u001b[39m\u001b[38;5;124m\"\u001b[39m, chosen)\n\u001b[0;32m---> 15\u001b[0m \u001b[38;5;28;01mreturn\u001b[39;00m bandits[chosen]\u001b[38;5;241m.\u001b[39mpull()\n",
      "Cell \u001b[0;32mIn[28], line 14\u001b[0m, in \u001b[0;36mBandit.pull\u001b[0;34m(self)\u001b[0m\n\u001b[1;32m     12\u001b[0m \u001b[38;5;250m\u001b[39m\u001b[38;5;124;03m\"\"\"returns True representing a reward or False representing no reward\"\"\"\u001b[39;00m\n\u001b[1;32m     13\u001b[0m \u001b[38;5;28;01mif\u001b[39;00m \u001b[38;5;129;01mnot\u001b[39;00m \u001b[38;5;28mself\u001b[39m\u001b[38;5;241m.\u001b[39mgame\u001b[38;5;241m.\u001b[39mmoves_remaining():\n\u001b[0;32m---> 14\u001b[0m     \u001b[38;5;28;01mraise\u001b[39;00m \u001b[38;5;167;01mException\u001b[39;00m(\u001b[38;5;124m\"\u001b[39m\u001b[38;5;124mBandit pull called with no moves remaining.\u001b[39m\u001b[38;5;124m\"\u001b[39m)\n\u001b[1;32m     15\u001b[0m result \u001b[38;5;241m=\u001b[39m np\u001b[38;5;241m.\u001b[39mrandom\u001b[38;5;241m.\u001b[39mchoice([\u001b[38;5;28;01mTrue\u001b[39;00m, \u001b[38;5;28;01mFalse\u001b[39;00m],p\u001b[38;5;241m=\u001b[39m[\u001b[38;5;28mself\u001b[39m\u001b[38;5;241m.\u001b[39m__probability, \u001b[38;5;241m1\u001b[39m \u001b[38;5;241m-\u001b[39m \u001b[38;5;28mself\u001b[39m\u001b[38;5;241m.\u001b[39m__probability])\n\u001b[1;32m     16\u001b[0m \u001b[38;5;28mself\u001b[39m\u001b[38;5;241m.\u001b[39mgame\u001b[38;5;241m.\u001b[39mhistory\u001b[38;5;241m.\u001b[39mappend(result)\n",
      "\u001b[0;31mException\u001b[0m: Bandit pull called with no moves remaining."
     ]
    }
   ],
   "source": [
    "s.move()"
   ]
  },
  {
   "cell_type": "code",
   "execution_count": 66,
   "id": "1ff1d12d-c697-49fe-b64d-470f540a0aeb",
   "metadata": {},
   "outputs": [
    {
     "data": {
      "image/png": "[encoded data removed]",
      "text/plain": [
       "<Figure size 640x480 with 1 Axes>"
      ]
     },
     "metadata": {},
     "output_type": "display_data"
    }
   ],
   "source": [
    "game = Game(300)\n",
    "bandits = [Bandit(game) for i in range(10)]\n",
    "s = RandomSolver(bandits)\n",
    "for i in range(game.num_moves):\n",
    "    s.move()\n",
    "game.plot_history()"
   ]
  },
  {
   "cell_type": "markdown",
   "id": "bcd9a012-e8d6-4c5e-9d4c-e94ad5533884",
   "metadata": {},
   "source": [
    "## A Better Solver\n",
    "\n",
    "Epsilon-Greedy Algorithm\n",
    "1. With probability epsilon: choose a bandit at random\n",
    "2. Otherwise, choose the best so far. (randomly break ties)"
   ]
  },
  {
   "cell_type": "code",
   "execution_count": 69,
   "id": "a298c2f3-40df-4e60-91d5-d4754053f126",
   "metadata": {},
   "outputs": [],
   "source": [
    "class EpsilonGreedySolver:\n",
    "    \"\"\"Representation of a player in a multi-armed bandit problem. The algorithm\n",
    "    is epsilon greedy.\n",
    "    \"\"\"\n",
    "\n",
    "    def __init__(self, bandits, epsilon):\n",
    "        self.bandits = bandits\n",
    "        self.epsilon = epsilon\n",
    "        self.trials_per_bandit = [0 for i in range(len(bandits))]\n",
    "        self.rewards_per_bandit = [0 for i in range(len(bandits))]\n",
    "        self.score_per_bandit = [0 for i in range(len(bandits))]\n",
    "\n",
    "    def move(self):\n",
    "        \"\"\"Makes this solver choose a bandit and call pull on it. Returns \n",
    "        True if a reward was given. False otherwise.\n",
    "        \"\"\"\n",
    "        if np.random.uniform() < self.epsilon:\n",
    "            chosen = np.random.randint(0, len(bandits) )\n",
    "        else:\n",
    "            max_score = 0\n",
    "            best = []\n",
    "            for i in range(len(self.bandits)):\n",
    "                if self.score_per_bandit[i] == max_score:\n",
    "                    best.append(i)\n",
    "                if self.score_per_bandit[i] > max_score:\n",
    "                    best = [i]\n",
    "                    max_score = self.score_per_bandit[i]\n",
    "            chosen = np.random.choice(best)\n",
    "        result = bandits[chosen].pull()\n",
    "\n",
    "        self.trials_per_bandit[chosen] += 1\n",
    "        self.rewards_per_bandit[chosen] += result\n",
    "        self.score_per_bandit[chosen] = self.rewards_per_bandit[chosen] / self.trials_per_bandit[chosen]\n",
    "        \n",
    "        # print(\"Choosing bandit number\", chosen)\n",
    "        return result"
   ]
  },
  {
   "cell_type": "code",
   "execution_count": 85,
   "id": "d7a29aa0-decd-4232-ba0a-32df0c85aadc",
   "metadata": {},
   "outputs": [
    {
     "data": {
      "image/png": "[encoded data removed]",
      "text/plain": [
       "<Figure size 640x480 with 1 Axes>"
      ]
     },
     "metadata": {},
     "output_type": "display_data"
    }
   ],
   "source": [
    "game = Game(300)\n",
    "bandits = [Bandit(game) for i in range(10)]\n",
    "s = EpsilonGreedySolver(bandits, 0.01)\n",
    "for i in range(game.num_moves):\n",
    "    s.move()\n",
    "game.plot_history()"
   ]
  },
  {
   "cell_type": "code",
   "execution_count": null,
   "id": "0b865f72-cb8b-4c86-b43b-4fc885db4811",
   "metadata": {},
   "outputs": [],
   "source": []
  }
 ],
 "metadata": {
  "kernelspec": {
   "display_name": "Python 3 (ipykernel)",
   "language": "python",
   "name": "python3"
  },
  "language_info": {
   "codemirror_mode": {
    "name": "ipython",
    "version": 3
   },
   "file_extension": ".py",
   "mimetype": "text/x-python",
   "name": "python",
   "nbconvert_exporter": "python",
   "pygments_lexer": "ipython3",
   "version": "3.12.4"
  }
 },
 "nbformat": 4,
 "nbformat_minor": 5
}
