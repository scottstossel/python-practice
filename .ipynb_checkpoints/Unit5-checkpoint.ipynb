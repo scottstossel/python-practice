{
 "cells": [
  {
   "cell_type": "code",
   "execution_count": 2,
   "id": "097d27cb-e70f-4a2d-9c21-5e6cb469cd8b",
   "metadata": {},
   "outputs": [],
   "source": [
    "def print_stuff():\n",
    "    print(\"some stuff\")\n",
    "    print(\"more stuff\")"
   ]
  },
  {
   "cell_type": "code",
   "execution_count": 4,
   "id": "3220af32-ff88-4a17-b590-fe08623876e6",
   "metadata": {},
   "outputs": [
    {
     "data": {
      "text/plain": [
       "<function __main__.print_stuff()>"
      ]
     },
     "execution_count": 4,
     "metadata": {},
     "output_type": "execute_result"
    }
   ],
   "source": [
    "print_stuff"
   ]
  },
  {
   "cell_type": "code",
   "execution_count": 8,
   "id": "cefc650a-6e8e-4c10-8d90-808a559956e5",
   "metadata": {},
   "outputs": [
    {
     "name": "stdout",
     "output_type": "stream",
     "text": [
      "Things on my todo list:\n",
      "some stuff\n",
      "more stuff\n",
      "some stuff\n",
      "more stuff\n"
     ]
    }
   ],
   "source": [
    "print(\"Things on my todo list:\")\n",
    "print_stuff()\n",
    "print_stuff()"
   ]
  },
  {
   "cell_type": "code",
   "execution_count": 12,
   "id": "2c0561e5-163f-4655-b8cd-dd6e7113dc20",
   "metadata": {},
   "outputs": [],
   "source": [
    "def sqrt(x, epsilon):\n",
    "    \"\"\"Newton's Method for finding square roots to\n",
    "    within a precision epsilon\"\"\"\n",
    "    ans = 1\n",
    "    num_guesses = 0\n",
    "    while abs(x/ans - ans) > epsilon:\n",
    "        ans = (x/ans + ans)/2\n",
    "        num_guesses += 1\n",
    "    return ans"
   ]
  },
  {
   "cell_type": "code",
   "execution_count": 14,
   "id": "6bd2bc26-3a19-4031-bef0-c3b17c0e1b83",
   "metadata": {},
   "outputs": [
    {
     "name": "stdout",
     "output_type": "stream",
     "text": [
      "Help on function sqrt in module __main__:\n",
      "\n",
      "sqrt(x, epsilon)\n",
      "    Newton's Method for finding square roots to\n",
      "    within a precision epsilon\n",
      "\n"
     ]
    }
   ],
   "source": [
    "help(sqrt)"
   ]
  },
  {
   "cell_type": "code",
   "execution_count": 20,
   "id": "2b852422-4e16-43c7-a74b-cff424b6c509",
   "metadata": {},
   "outputs": [
    {
     "name": "stdout",
     "output_type": "stream",
     "text": [
      "2.2360688956433634 is close to the square root of 5\n",
      "1.495349088238384 is close to the fourth root of 5\n"
     ]
    }
   ],
   "source": [
    "root = sqrt(5, 0.00001)\n",
    "print(root, \"is close to the square root of 5\")\n",
    "fourth_root = sqrt(root, 0.00001)\n",
    "print(fourth_root, \"is close to the fourth root of 5\")"
   ]
  },
  {
   "cell_type": "markdown",
   "id": "6ab884df-16d4-4873-93f7-e06b77ebcd3f",
   "metadata": {},
   "source": [
    "## Nesting functions"
   ]
  },
  {
   "cell_type": "code",
   "execution_count": 27,
   "id": "df540661-394a-4191-b3ad-2ab13512833e",
   "metadata": {},
   "outputs": [
    {
     "name": "stdin",
     "output_type": "stream",
     "text": [
      "Enter an x-coordinate:  4\n",
      "Enter a y-coordinate:  5\n"
     ]
    },
    {
     "name": "stdout",
     "output_type": "stream",
     "text": [
      "The magnitude of your vector is 6.4031242600343115\n",
      "The geometric mean of x and y is 4.4721402170657\n"
     ]
    }
   ],
   "source": [
    "def distance_to_origin(x,y):\n",
    "    \"\"\"Find the distance from a point at (x,y) to the origin\"\"\"\n",
    "    ans = sqrt(x**2 + y**2, 0.00001)\n",
    "    return ans\n",
    "\n",
    "def geometric_mean(x, y):\n",
    "    \"\"\"compute the sqrt of x * y\"\"\"\n",
    "    return sqrt(x*y, 0.00001)\n",
    "\n",
    "x = float(input(\"Enter an x-coordinate: \"))\n",
    "y = float(input(\"Enter a y-coordinate: \"))\n",
    "magnitude = distance_to_origin(x, y)\n",
    "print(\"The magnitude of your vector is\", magnitude)\n",
    "geo_mean = geometric_mean(x, y)\n",
    "print(\"The geometric mean of x and y is\", geo_mean)"
   ]
  },
  {
   "cell_type": "code",
   "execution_count": null,
   "id": "cbc469d8-615e-4f8f-9d61-fa98be611ad8",
   "metadata": {},
   "outputs": [],
   "source": []
  }
 ],
 "metadata": {
  "kernelspec": {
   "display_name": "Python 3 (ipykernel)",
   "language": "python",
   "name": "python3"
  },
  "language_info": {
   "codemirror_mode": {
    "name": "ipython",
    "version": 3
   },
   "file_extension": ".py",
   "mimetype": "text/x-python",
   "name": "python",
   "nbconvert_exporter": "python",
   "pygments_lexer": "ipython3",
   "version": "3.12.4"
  }
 },
 "nbformat": 4,
 "nbformat_minor": 5
}
