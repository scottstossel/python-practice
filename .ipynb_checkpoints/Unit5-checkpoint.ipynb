{
 "cells": [
  {
   "cell_type": "code",
   "execution_count": 2,
   "id": "097d27cb-e70f-4a2d-9c21-5e6cb469cd8b",
   "metadata": {},
   "outputs": [],
   "source": [
    "def print_stuff():\n",
    "    print(\"some stuff\")\n",
    "    print(\"more stuff\")"
   ]
  },
  {
   "cell_type": "code",
   "execution_count": 4,
   "id": "3220af32-ff88-4a17-b590-fe08623876e6",
   "metadata": {},
   "outputs": [
    {
     "data": {
      "text/plain": [
       "<function __main__.print_stuff()>"
      ]
     },
     "execution_count": 4,
     "metadata": {},
     "output_type": "execute_result"
    }
   ],
   "source": [
    "print_stuff"
   ]
  },
  {
   "cell_type": "code",
   "execution_count": 8,
   "id": "cefc650a-6e8e-4c10-8d90-808a559956e5",
   "metadata": {},
   "outputs": [
    {
     "name": "stdout",
     "output_type": "stream",
     "text": [
      "Things on my todo list:\n",
      "some stuff\n",
      "more stuff\n",
      "some stuff\n",
      "more stuff\n"
     ]
    }
   ],
   "source": [
    "print(\"Things on my todo list:\")\n",
    "print_stuff()\n",
    "print_stuff()"
   ]
  },
  {
   "cell_type": "code",
   "execution_count": 12,
   "id": "2c0561e5-163f-4655-b8cd-dd6e7113dc20",
   "metadata": {},
   "outputs": [],
   "source": [
    "def sqrt(x, epsilon):\n",
    "    \"\"\"Newton's Method for finding square roots to\n",
    "    within a precision epsilon\"\"\"\n",
    "    ans = 1\n",
    "    num_guesses = 0\n",
    "    while abs(x/ans - ans) > epsilon:\n",
    "        ans = (x/ans + ans)/2\n",
    "        num_guesses += 1\n",
    "    return ans"
   ]
  },
  {
   "cell_type": "code",
   "execution_count": 14,
   "id": "6bd2bc26-3a19-4031-bef0-c3b17c0e1b83",
   "metadata": {},
   "outputs": [
    {
     "name": "stdout",
     "output_type": "stream",
     "text": [
      "Help on function sqrt in module __main__:\n",
      "\n",
      "sqrt(x, epsilon)\n",
      "    Newton's Method for finding square roots to\n",
      "    within a precision epsilon\n",
      "\n"
     ]
    }
   ],
   "source": [
    "help(sqrt)"
   ]
  },
  {
   "cell_type": "code",
   "execution_count": 20,
   "id": "2b852422-4e16-43c7-a74b-cff424b6c509",
   "metadata": {},
   "outputs": [
    {
     "name": "stdout",
     "output_type": "stream",
     "text": [
      "2.2360688956433634 is close to the square root of 5\n",
      "1.495349088238384 is close to the fourth root of 5\n"
     ]
    }
   ],
   "source": [
    "root = sqrt(5, 0.00001)\n",
    "print(root, \"is close to the square root of 5\")\n",
    "fourth_root = sqrt(root, 0.00001)\n",
    "print(fourth_root, \"is close to the fourth root of 5\")"
   ]
  },
  {
   "cell_type": "markdown",
   "id": "6ab884df-16d4-4873-93f7-e06b77ebcd3f",
   "metadata": {},
   "source": [
    "## Nesting functions"
   ]
  },
  {
   "cell_type": "code",
   "execution_count": 27,
   "id": "df540661-394a-4191-b3ad-2ab13512833e",
   "metadata": {},
   "outputs": [
    {
     "name": "stdin",
     "output_type": "stream",
     "text": [
      "Enter an x-coordinate:  4\n",
      "Enter a y-coordinate:  5\n"
     ]
    },
    {
     "name": "stdout",
     "output_type": "stream",
     "text": [
      "The magnitude of your vector is 6.4031242600343115\n",
      "The geometric mean of x and y is 4.4721402170657\n"
     ]
    }
   ],
   "source": [
    "def distance_to_origin(x,y):\n",
    "    \"\"\"Find the distance from a point at (x,y) to the origin\"\"\"\n",
    "    ans = sqrt(x**2 + y**2, 0.00001)\n",
    "    return ans\n",
    "\n",
    "def geometric_mean(x, y):\n",
    "    \"\"\"compute the sqrt of x * y\"\"\"\n",
    "    return sqrt(x*y, 0.00001)\n",
    "\n",
    "x = float(input(\"Enter an x-coordinate: \"))\n",
    "y = float(input(\"Enter a y-coordinate: \"))\n",
    "magnitude = distance_to_origin(x, y)\n",
    "print(\"The magnitude of your vector is\", magnitude)\n",
    "geo_mean = geometric_mean(x, y)\n",
    "print(\"The geometric mean of x and y is\", geo_mean)"
   ]
  },
  {
   "cell_type": "markdown",
   "id": "91de7184-4238-48d3-ad90-aefb25d0bd9e",
   "metadata": {},
   "source": [
    "## The Stack Trace"
   ]
  },
  {
   "cell_type": "code",
   "execution_count": 2,
   "id": "fad1b740-6364-4b39-81d2-39ae27a5dbb9",
   "metadata": {},
   "outputs": [
    {
     "ename": "ZeroDivisionError",
     "evalue": "division by zero",
     "output_type": "error",
     "traceback": [
      "\u001b[0;31m---------------------------------------------------------------------------\u001b[0m",
      "\u001b[0;31mZeroDivisionError\u001b[0m                         Traceback (most recent call last)",
      "Cell \u001b[0;32mIn[2], line 2\u001b[0m\n\u001b[1;32m      1\u001b[0m \u001b[38;5;66;03m# e.g.\u001b[39;00m\n\u001b[0;32m----> 2\u001b[0m x \u001b[38;5;241m=\u001b[39m \u001b[38;5;241m0\u001b[39m\u001b[38;5;241m/\u001b[39m\u001b[38;5;241m0\u001b[39m\n",
      "\u001b[0;31mZeroDivisionError\u001b[0m: division by zero"
     ]
    }
   ],
   "source": [
    "# e.g.\n",
    "x = 0/0"
   ]
  },
  {
   "cell_type": "markdown",
   "id": "df0a8d0a-112e-4849-b27c-771c81d94cc4",
   "metadata": {},
   "source": [
    "### Namespaces"
   ]
  },
  {
   "cell_type": "code",
   "execution_count": 14,
   "id": "d59026c1-27f7-4751-a5d3-f49ebb66efbc",
   "metadata": {},
   "outputs": [
    {
     "name": "stdout",
     "output_type": "stream",
     "text": [
      "In the function, x = 4\n",
      "The function returned  4\n",
      "Outside the function, x = 3\n"
     ]
    }
   ],
   "source": [
    "def add_one(x):\n",
    "    x = x + 1\n",
    "    print(\"In the function, x =\", x)\n",
    "    return x\n",
    "\n",
    "x = 3\n",
    "result = add_one(x)\n",
    "print(\"The function returned \", result)\n",
    "print(\"Outside the function, x =\", x)"
   ]
  },
  {
   "cell_type": "code",
   "execution_count": 23,
   "id": "6ff2713d-2241-480f-9c9a-514e9b9e6da6",
   "metadata": {},
   "outputs": [
    {
     "name": "stdout",
     "output_type": "stream",
     "text": [
      "In the function, y = 4\n",
      "The function returned  4\n"
     ]
    }
   ],
   "source": [
    "def add_one(x):\n",
    "    y = x + 1\n",
    "    print(\"In the function, y =\", y)\n",
    "    return y\n",
    "\n",
    "x = 3\n",
    "# y = 3\n",
    "result = add_one(x)\n",
    "print(\"The function returned \", result)\n",
    "# print(\"Outside the function, y =\", x)"
   ]
  },
  {
   "cell_type": "markdown",
   "id": "b5930c91-123b-4190-9d07-1dba26cd9bcb",
   "metadata": {},
   "source": [
    "## Accessing Global Variables"
   ]
  },
  {
   "cell_type": "code",
   "execution_count": 25,
   "id": "01c79f5b-3d4f-475d-84b6-9953613bec0d",
   "metadata": {},
   "outputs": [
    {
     "name": "stdout",
     "output_type": "stream",
     "text": [
      "In the function, y = 5\n",
      "The function returned 8\n",
      "Outside the function, y = 5\n"
     ]
    }
   ],
   "source": [
    "def add_y(x):\n",
    "    ans = x + y\n",
    "    print(\"In the function, y =\", y)\n",
    "    return ans\n",
    "    \n",
    "y = 5\n",
    "result = add_y(3)\n",
    "print(\"The function returned\", result)\n",
    "print(\"Outside the function, y =\", y)"
   ]
  },
  {
   "cell_type": "code",
   "execution_count": 30,
   "id": "6ea110dc-4d5f-4d38-a704-c3ef96f0cbb1",
   "metadata": {},
   "outputs": [
    {
     "name": "stdout",
     "output_type": "stream",
     "text": [
      "In the function, y = 6\n",
      "Outside the function, y = 6\n"
     ]
    }
   ],
   "source": [
    "def change_y():\n",
    "    global y\n",
    "    y = y + 1\n",
    "    print(\"In the function, y =\", y)\n",
    "\n",
    "y = 5\n",
    "change_y()\n",
    "print(\"Outside the function, y =\", y)\n"
   ]
  },
  {
   "cell_type": "markdown",
   "id": "e168bb13-29a2-4239-bb41-2f535e62fa96",
   "metadata": {},
   "source": [
    "Steps in running a function:\n",
    "\n",
    "1. Create a new local namespace\n",
    "2. For each parameter, create a new local variable and bind it to argument\n",
    "3. For each assignment statement, if name is not in local namespace, create a new local variable\n",
    "4. Execute the statements"
   ]
  },
  {
   "cell_type": "markdown",
   "id": "67f7ede5-db5b-4f61-ac02-cf0300913573",
   "metadata": {},
   "source": [
    "## Recursion"
   ]
  },
  {
   "cell_type": "code",
   "execution_count": 33,
   "id": "3b608e79-c50a-429e-bbf9-2a8d43740dd8",
   "metadata": {},
   "outputs": [
    {
     "data": {
      "text/plain": [
       "1"
      ]
     },
     "execution_count": 33,
     "metadata": {},
     "output_type": "execute_result"
    }
   ],
   "source": [
    "def factorial(n):\n",
    "    if n == 1:\n",
    "        return 1\n",
    "    return n * factorial(n-1)\n",
    "\n",
    "factorial(1)"
   ]
  },
  {
   "cell_type": "code",
   "execution_count": 35,
   "id": "2ca76ba2-52fe-4807-b65e-e4c56244620d",
   "metadata": {},
   "outputs": [
    {
     "data": {
      "text/plain": [
       "2"
      ]
     },
     "execution_count": 35,
     "metadata": {},
     "output_type": "execute_result"
    }
   ],
   "source": [
    "factorial(2)"
   ]
  },
  {
   "cell_type": "code",
   "execution_count": 37,
   "id": "36011f8f-0928-460b-82c1-e3fc2cf180f2",
   "metadata": {},
   "outputs": [
    {
     "data": {
      "text/plain": [
       "6"
      ]
     },
     "execution_count": 37,
     "metadata": {},
     "output_type": "execute_result"
    }
   ],
   "source": [
    "factorial(3)"
   ]
  },
  {
   "cell_type": "code",
   "execution_count": 39,
   "id": "6365fe0e-32da-467c-b2bf-7260c60b204f",
   "metadata": {},
   "outputs": [
    {
     "data": {
      "text/plain": [
       "24"
      ]
     },
     "execution_count": 39,
     "metadata": {},
     "output_type": "execute_result"
    }
   ],
   "source": [
    "factorial(4)"
   ]
  },
  {
   "cell_type": "markdown",
   "id": "c78817c7-7c31-4a57-baaa-ede4482c136f",
   "metadata": {},
   "source": [
    "two elements for a recursive algorithm\n",
    "1. base case\n",
    "2. a recursive rule"
   ]
  },
  {
   "cell_type": "markdown",
   "id": "7a433677-52d3-4ec5-892e-a94d9f13d8f1",
   "metadata": {},
   "source": [
    "## Parameters"
   ]
  },
  {
   "cell_type": "code",
   "execution_count": 48,
   "id": "562eca95-d199-4af0-89b1-6ed2d8e7cc69",
   "metadata": {},
   "outputs": [],
   "source": [
    "def feedback(grade, comment=\"\"):\n",
    "    if grade >= 90 and grade <= 100:\n",
    "        return(\"A \" + comment)\n",
    "    elif grade >= 80 and grade < 90:\n",
    "        return(\"B \" + comment)\n",
    "    elif grade >= 70 and grade < 80:\n",
    "        return(\"C \" + comment)\n",
    "    elif grade >= 60 and grade < 70:\n",
    "        return(\"D \" + comment)\n",
    "    else:\n",
    "        return(\"F \" + comment)"
   ]
  },
  {
   "cell_type": "code",
   "execution_count": 50,
   "id": "25edf291-197b-48d6-8a6f-aae3ea77ec2f",
   "metadata": {},
   "outputs": [
    {
     "name": "stdout",
     "output_type": "stream",
     "text": [
      "A Great Work!\n"
     ]
    }
   ],
   "source": [
    "print(feedback(90, \"Great Work!\"))"
   ]
  },
  {
   "cell_type": "code",
   "execution_count": 54,
   "id": "7875aced-4c55-44c0-ac07-5296a8dbf7d3",
   "metadata": {},
   "outputs": [
    {
     "name": "stdout",
     "output_type": "stream",
     "text": [
      "B \n"
     ]
    }
   ],
   "source": [
    "print(feedback(80))"
   ]
  },
  {
   "cell_type": "code",
   "execution_count": 56,
   "id": "8309172d-0e2c-4636-90c9-5c70e9c40981",
   "metadata": {},
   "outputs": [
    {
     "name": "stdout",
     "output_type": "stream",
     "text": [
      "C Please study more\n"
     ]
    }
   ],
   "source": [
    "print(feedback(75, \"Please study more\"))"
   ]
  },
  {
   "cell_type": "code",
   "execution_count": 58,
   "id": "87aec7f7-7b64-4041-aabd-c672c0c67ba5",
   "metadata": {},
   "outputs": [
    {
     "data": {
      "text/plain": [
       "NoneType"
      ]
     },
     "execution_count": 58,
     "metadata": {},
     "output_type": "execute_result"
    }
   ],
   "source": [
    "type(None)"
   ]
  },
  {
   "cell_type": "code",
   "execution_count": 60,
   "id": "7693d96d-f520-4b8d-ac0a-960601f73521",
   "metadata": {},
   "outputs": [],
   "source": [
    "def feedback(grade=None, comment=None):\n",
    "    text = \"\" if comment == None else \" -- \" + comment\n",
    "\n",
    "    if grade == None:\n",
    "        return(\"Grade is missing. \" + text)\n",
    "    if grade >= 90 and grade <= 100:\n",
    "        return(\"A \" + text)\n",
    "    elif grade >= 80 and grade < 90:\n",
    "        return(\"B \" + text)\n",
    "    elif grade >= 70 and grade < 80:\n",
    "        return(\"C \" + text)\n",
    "    elif grade >= 60 and grade < 70:\n",
    "        return(\"D \" + text)\n",
    "    else:\n",
    "        return(\"F \" + text)"
   ]
  },
  {
   "cell_type": "code",
   "execution_count": 62,
   "id": "225b0b73-d4af-4cac-8854-bfb5f6c73dda",
   "metadata": {},
   "outputs": [
    {
     "name": "stdout",
     "output_type": "stream",
     "text": [
      "A  -- Great Work!\n"
     ]
    }
   ],
   "source": [
    "print(feedback(90, \"Great Work!\"))"
   ]
  },
  {
   "cell_type": "code",
   "execution_count": 64,
   "id": "523643e7-273a-4d0c-a8a4-f0b60cb7efde",
   "metadata": {},
   "outputs": [
    {
     "name": "stdout",
     "output_type": "stream",
     "text": [
      "B \n"
     ]
    }
   ],
   "source": [
    "print(feedback(80))"
   ]
  },
  {
   "cell_type": "code",
   "execution_count": 66,
   "id": "0aaa3e39-50e2-423f-820e-01b78540191c",
   "metadata": {},
   "outputs": [
    {
     "name": "stdout",
     "output_type": "stream",
     "text": [
      "C  -- Please study more\n"
     ]
    }
   ],
   "source": [
    "print(feedback(75, \"Please study more\"))"
   ]
  },
  {
   "cell_type": "code",
   "execution_count": 68,
   "id": "90abb0ec-e2c7-4f12-9407-b80e9a87e782",
   "metadata": {},
   "outputs": [
    {
     "name": "stdout",
     "output_type": "stream",
     "text": [
      "Grade is missing. \n"
     ]
    }
   ],
   "source": [
    "print(feedback())"
   ]
  },
  {
   "cell_type": "code",
   "execution_count": 70,
   "id": "7f41c154-9e72-4623-9af4-1991d7c6c4e2",
   "metadata": {},
   "outputs": [],
   "source": [
    "def add_total(order_list = []):\n",
    "    total = sum([quantity for name, quantity in order_list])\n",
    "    order_list.append((\"Total\", total))\n",
    "    print(order_list)"
   ]
  },
  {
   "cell_type": "code",
   "execution_count": 74,
   "id": "e3c2679c-ddc9-4840-99f4-7e431b82b09c",
   "metadata": {},
   "outputs": [
    {
     "name": "stdout",
     "output_type": "stream",
     "text": [
      "[('Bob', 8), ('Teri', 3), ('Pat', 4), ('Total', 15)]\n"
     ]
    }
   ],
   "source": [
    "order_list = [(\"Bob\", 8), (\"Teri\", 3), (\"Pat\", 4)]\n",
    "add_total(order_list)"
   ]
  },
  {
   "cell_type": "code",
   "execution_count": 76,
   "id": "d00a80e8-9439-4100-bde8-559fa1732b66",
   "metadata": {},
   "outputs": [
    {
     "name": "stdout",
     "output_type": "stream",
     "text": [
      "[('Total', 0)]\n"
     ]
    }
   ],
   "source": [
    "add_total()"
   ]
  },
  {
   "cell_type": "code",
   "execution_count": 78,
   "id": "7b7ea4ec-b1c7-4bd7-bb16-bdcae64a01fe",
   "metadata": {},
   "outputs": [
    {
     "name": "stdout",
     "output_type": "stream",
     "text": [
      "[('Total', 0), ('Total', 0)]\n"
     ]
    }
   ],
   "source": [
    "add_total()"
   ]
  },
  {
   "cell_type": "markdown",
   "id": "aa9b0b12-b86e-41b0-b0ad-e408cdc1f4bc",
   "metadata": {},
   "source": [
    "Keyword Arguments"
   ]
  },
  {
   "cell_type": "code",
   "execution_count": 83,
   "id": "dbea8680-9139-48a4-8a78-66300f12068d",
   "metadata": {},
   "outputs": [
    {
     "name": "stdout",
     "output_type": "stream",
     "text": [
      "A  -- Keep it up!\n"
     ]
    }
   ],
   "source": [
    "print(feedback(90, comment=\"Keep it up!\"))"
   ]
  },
  {
   "cell_type": "code",
   "execution_count": 87,
   "id": "e401f8ef-e27f-43da-9f36-3dc7000788ad",
   "metadata": {},
   "outputs": [
    {
     "name": "stdout",
     "output_type": "stream",
     "text": [
      "B  -- Keep it up!\n"
     ]
    }
   ],
   "source": [
    "print(feedback(comment=\"Keep it up!\", grade=88))"
   ]
  },
  {
   "cell_type": "code",
   "execution_count": 89,
   "id": "639713d4-6fb8-4d03-bada-b27e2d9534a2",
   "metadata": {},
   "outputs": [
    {
     "name": "stdout",
     "output_type": "stream",
     "text": [
      "Default\n",
      "print\n",
      "behavior.\n",
      "Modified print behavior."
     ]
    }
   ],
   "source": [
    "print(\"Default\")\n",
    "print(\"print\")\n",
    "print(\"behavior.\")\n",
    "\n",
    "print(\"Modified\", end=\" \")\n",
    "print(\"print\", end=\" \")\n",
    "print(\"behavior\", end='.')"
   ]
  },
  {
   "cell_type": "markdown",
   "id": "d28c5f8a-7be1-4f63-9588-f2fee0d8aef9",
   "metadata": {},
   "source": [
    "Fucntions are objects"
   ]
  },
  {
   "cell_type": "code",
   "execution_count": 94,
   "id": "6c4ec988-b465-4933-8888-6ac46d27f101",
   "metadata": {},
   "outputs": [],
   "source": [
    "def apply_to_grades(operation, grade_list):\n",
    "    return [(name, operation(grade)) for name, grade in grade_list]\n",
    "\n",
    "def round10(x):\n",
    "    return (x+5) // 10 * 10"
   ]
  },
  {
   "cell_type": "code",
   "execution_count": 98,
   "id": "d68e5ec7-3129-42ec-8ec4-20d3350b23f4",
   "metadata": {},
   "outputs": [
    {
     "name": "stdout",
     "output_type": "stream",
     "text": [
      "[('Betty', 90), ('Steve', 80), ('Bob', 70), ('Teri', 90), ('Sandy', 100)]\n"
     ]
    }
   ],
   "source": [
    "grade_list = [(\"Betty\", 88), (\"Steve\", 75), (\"Bob\", 73), (\"Teri\", 94), (\"Sandy\", 97)]\n",
    "print(apply_to_grades(round10, grade_list))"
   ]
  },
  {
   "cell_type": "code",
   "execution_count": 100,
   "id": "3fd41245-8d63-48b4-9a5c-ddcf41a8f896",
   "metadata": {},
   "outputs": [
    {
     "data": {
      "text/plain": [
       "[20, 50, 40, 70]"
      ]
     },
     "execution_count": 100,
     "metadata": {},
     "output_type": "execute_result"
    }
   ],
   "source": [
    "list(map(round10, (23,45,42,66)))"
   ]
  },
  {
   "cell_type": "code",
   "execution_count": 102,
   "id": "ff61b1ac-b872-43cb-b0fe-90fd725620c6",
   "metadata": {},
   "outputs": [
    {
     "data": {
      "text/plain": [
       "<function __main__.<lambda>(x)>"
      ]
     },
     "execution_count": 102,
     "metadata": {},
     "output_type": "execute_result"
    }
   ],
   "source": [
    "lambda x : 100 - (100 - x)/2"
   ]
  },
  {
   "cell_type": "code",
   "execution_count": 106,
   "id": "e78f1449-63fa-48fc-9ad3-80e5e21ee9a7",
   "metadata": {},
   "outputs": [
    {
     "data": {
      "text/plain": [
       "[('Betty', 94.0),\n",
       " ('Steve', 87.5),\n",
       " ('Bob', 86.5),\n",
       " ('Teri', 97.0),\n",
       " ('Sandy', 98.5)]"
      ]
     },
     "execution_count": 106,
     "metadata": {},
     "output_type": "execute_result"
    }
   ],
   "source": [
    "apply_to_grades(lambda x : 100 - (100 - x)/2, grade_list)"
   ]
  },
  {
   "cell_type": "code",
   "execution_count": 108,
   "id": "3ca05e3a-0e55-402d-b58b-393039430e48",
   "metadata": {},
   "outputs": [
    {
     "data": {
      "text/plain": [
       "[529, 2025, 1764, 4356]"
      ]
     },
     "execution_count": 108,
     "metadata": {},
     "output_type": "execute_result"
    }
   ],
   "source": [
    "list(map(lambda x: x**2, (23,45,42,66)))"
   ]
  },
  {
   "cell_type": "markdown",
   "id": "8a274e86-9031-40df-b681-29d594d28439",
   "metadata": {},
   "source": [
    "## Exceptions"
   ]
  },
  {
   "cell_type": "code",
   "execution_count": 111,
   "id": "3abb60db-ca29-4878-b309-acea984254b9",
   "metadata": {},
   "outputs": [
    {
     "name": "stdin",
     "output_type": "stream",
     "text": [
      "Enter a number:  k\n"
     ]
    },
    {
     "ename": "ValueError",
     "evalue": "invalid literal for int() with base 10: 'k'",
     "output_type": "error",
     "traceback": [
      "\u001b[0;31m---------------------------------------------------------------------------\u001b[0m",
      "\u001b[0;31mValueError\u001b[0m                                Traceback (most recent call last)",
      "Cell \u001b[0;32mIn[111], line 1\u001b[0m\n\u001b[0;32m----> 1\u001b[0m x \u001b[38;5;241m=\u001b[39m \u001b[38;5;28mint\u001b[39m(\u001b[38;5;28minput\u001b[39m(\u001b[38;5;124m\"\u001b[39m\u001b[38;5;124mEnter a number: \u001b[39m\u001b[38;5;124m\"\u001b[39m))\n\u001b[1;32m      2\u001b[0m \u001b[38;5;28mprint\u001b[39m(\u001b[38;5;124m\"\u001b[39m\u001b[38;5;124mThe reciprocal of your number is \u001b[39m\u001b[38;5;124m\"\u001b[39m, \u001b[38;5;241m1\u001b[39m\u001b[38;5;241m/\u001b[39mx)\n",
      "\u001b[0;31mValueError\u001b[0m: invalid literal for int() with base 10: 'k'"
     ]
    }
   ],
   "source": [
    "x = int(input(\"Enter a number: \"))\n",
    "print(\"The reciprocal of your number is \", 1/x)"
   ]
  },
  {
   "cell_type": "code",
   "execution_count": 113,
   "id": "e7b630e3-f94e-4ef3-af87-1d2795f330e8",
   "metadata": {},
   "outputs": [
    {
     "name": "stdin",
     "output_type": "stream",
     "text": [
      "Enter a number:  p\n"
     ]
    },
    {
     "name": "stdout",
     "output_type": "stream",
     "text": [
      "You did not enter a valid number.\n"
     ]
    }
   ],
   "source": [
    "try:\n",
    "    x = float(input(\"Enter a number: \"))\n",
    "    print(\"The reciprocal of your number is \", 1/x)\n",
    "except:\n",
    "    print(\"You did not enter a valid number.\")\n"
   ]
  },
  {
   "cell_type": "code",
   "execution_count": 127,
   "id": "51b4494c-389c-419b-be9f-95523683ed8f",
   "metadata": {},
   "outputs": [
    {
     "name": "stdin",
     "output_type": "stream",
     "text": [
      "Enter a number:  /\n"
     ]
    },
    {
     "name": "stdout",
     "output_type": "stream",
     "text": [
      "You did not enter a valid number.\n"
     ]
    }
   ],
   "source": [
    "try:\n",
    "    x = float(input(\"Enter a number: \"))\n",
    "    print(\"The reciprocal of your number is \", 1/x)\n",
    "except ValueError:\n",
    "    print(\"You did not enter a valid number.\")\n",
    "except ZeroDivisionError:\n",
    "    print(\"Zero does not have a reciprocal\")\n",
    "except:\n",
    "    print(\"Something else went wrong\")"
   ]
  },
  {
   "cell_type": "code",
   "execution_count": 129,
   "id": "20442d01-38e0-40a8-ab80-06ec84014cbd",
   "metadata": {},
   "outputs": [],
   "source": [
    "def sell(item, quantity, inventory):\n",
    "    if item not in inventory:\n",
    "        raise Exception(str(item) + \" does not appear in inventory.\")\n",
    "    q = inventory[item]\n",
    "    if q < quantity:\n",
    "        raise Exception(\"Inventory does not contain enough of item to sell.\")\n",
    "    inventory[item] = q - quantity\n",
    "\n",
    "inventory = {\"oranges\": 10, \"apples\": 5, \"plums\": 3}"
   ]
  },
  {
   "cell_type": "code",
   "execution_count": 131,
   "id": "4432d4c2-68a2-4367-994c-fd1b1b0015d1",
   "metadata": {},
   "outputs": [
    {
     "ename": "Exception",
     "evalue": "Inventory does not contain enough of item to sell.",
     "output_type": "error",
     "traceback": [
      "\u001b[0;31m---------------------------------------------------------------------------\u001b[0m",
      "\u001b[0;31mException\u001b[0m                                 Traceback (most recent call last)",
      "Cell \u001b[0;32mIn[131], line 1\u001b[0m\n\u001b[0;32m----> 1\u001b[0m sell(\u001b[38;5;124m\"\u001b[39m\u001b[38;5;124moranges\u001b[39m\u001b[38;5;124m\"\u001b[39m, \u001b[38;5;241m15\u001b[39m, inventory)\n",
      "Cell \u001b[0;32mIn[129], line 6\u001b[0m, in \u001b[0;36msell\u001b[0;34m(item, quantity, inventory)\u001b[0m\n\u001b[1;32m      4\u001b[0m q \u001b[38;5;241m=\u001b[39m inventory[item]\n\u001b[1;32m      5\u001b[0m \u001b[38;5;28;01mif\u001b[39;00m q \u001b[38;5;241m<\u001b[39m quantity:\n\u001b[0;32m----> 6\u001b[0m     \u001b[38;5;28;01mraise\u001b[39;00m \u001b[38;5;167;01mException\u001b[39;00m(\u001b[38;5;124m\"\u001b[39m\u001b[38;5;124mInventory does not contain enough of item to sell.\u001b[39m\u001b[38;5;124m\"\u001b[39m)\n\u001b[1;32m      7\u001b[0m inventory[item] \u001b[38;5;241m=\u001b[39m q \u001b[38;5;241m-\u001b[39m quantity\n",
      "\u001b[0;31mException\u001b[0m: Inventory does not contain enough of item to sell."
     ]
    }
   ],
   "source": [
    "sell(\"oranges\", 15, inventory)"
   ]
  },
  {
   "cell_type": "code",
   "execution_count": 133,
   "id": "dd209302-a563-4eda-93b4-13fd7bf1188f",
   "metadata": {},
   "outputs": [
    {
     "name": "stdout",
     "output_type": "stream",
     "text": [
      "Could not complete sale: Inventory does not contain enough of item to sell.\n"
     ]
    }
   ],
   "source": [
    "try:\n",
    "    sell(\"oranges\", 15, inventory)\n",
    "except Exception as e:\n",
    "    print(\"Could not complete sale: \" + str(e))"
   ]
  },
  {
   "cell_type": "code",
   "execution_count": null,
   "id": "caa4dce5-caa6-47af-947b-2ea92e4d8e35",
   "metadata": {},
   "outputs": [],
   "source": []
  }
 ],
 "metadata": {
  "kernelspec": {
   "display_name": "Python 3 (ipykernel)",
   "language": "python",
   "name": "python3"
  },
  "language_info": {
   "codemirror_mode": {
    "name": "ipython",
    "version": 3
   },
   "file_extension": ".py",
   "mimetype": "text/x-python",
   "name": "python",
   "nbconvert_exporter": "python",
   "pygments_lexer": "ipython3",
   "version": "3.12.4"
  }
 },
 "nbformat": 4,
 "nbformat_minor": 5
}
