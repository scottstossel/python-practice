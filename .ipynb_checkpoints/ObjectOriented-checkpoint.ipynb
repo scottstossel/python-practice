{
 "cells": [
  {
   "cell_type": "markdown",
   "id": "3a0eb4fa-0f09-4476-81db-9247984a2ec3",
   "metadata": {},
   "source": [
    "# Class Inheritance\n",
    "\n",
    "## Simulations\n",
    "\n",
    "Stochastic Process\n",
    "(discrete time) stochastic process\n",
    "$x_1$ $x_2$ ...\n",
    "\n",
    "1. Stock price over time\n",
    "2. Measurements of solar radiation for each day\n",
    "3. Average planetary surface temperature"
   ]
  },
  {
   "cell_type": "code",
   "execution_count": 7,
   "id": "5eb10459-c192-4096-8cea-25ea6e9e2a95",
   "metadata": {},
   "outputs": [],
   "source": [
    "class Process:\n",
    "    \"\"\"Representation of Stochastic Process\"\"\"\n",
    "    def __init__(self, start_value=0):\n",
    "        self.value = start_value\n",
    "\n",
    "    def time_step(self):\n",
    "        pass"
   ]
  },
  {
   "cell_type": "code",
   "execution_count": 19,
   "id": "7ea880b1-1c97-4723-937e-5f4eb4bc64b8",
   "metadata": {},
   "outputs": [],
   "source": [
    "class BoundedLinearProcess(Process):\n",
    "    \"\"\"A stochastic process that develops linearly. Increases\n",
    "    by velocity in every time period, but is bounded between 0 and 1.\n",
    "    \"\"\"\n",
    "\n",
    "    def __init__(self, start_value = 0, velocity = 0):\n",
    "        super().__init__(start_value)\n",
    "        self.velocity = velocity\n",
    "\n",
    "    def time_step(self):\n",
    "        self.value += self.velocity\n",
    "        if self.value < 0:\n",
    "            self.value = -self.value\n",
    "            self.velocity = -self.velocity\n",
    "        if self.value > 1:\n",
    "            self.value = 1 - (self.value - 1)\n",
    "            self.velocity = -self.velocity\n",
    "        super().time_step"
   ]
  },
  {
   "cell_type": "code",
   "execution_count": 11,
   "id": "079eb4d5-e835-4893-8725-32490c5adbb5",
   "metadata": {},
   "outputs": [
    {
     "name": "stdout",
     "output_type": "stream",
     "text": [
      "<__main__.BoundedLinearProcess object at 0x165b8ef30>\n"
     ]
    }
   ],
   "source": [
    "p1 = BoundedLinearProcess(0, .3)\n",
    "print(p1)"
   ]
  },
  {
   "cell_type": "code",
   "execution_count": 13,
   "id": "b4444b8c-8a7f-46b7-9638-2659314d925d",
   "metadata": {},
   "outputs": [
    {
     "name": "stdout",
     "output_type": "stream",
     "text": [
      "Current Process Value: 0.3\n",
      "Current Process Value: 0.6\n",
      "Current Process Value: 0.8999999999999999\n",
      "Current Process Value: 0.8\n"
     ]
    }
   ],
   "source": [
    "for i in range(4):\n",
    "    p1.time_step()\n",
    "    print(\"Current Process Value:\", p1.value)"
   ]
  },
  {
   "cell_type": "code",
   "execution_count": 15,
   "id": "ebc0f0cc-ab0f-42e9-86f0-377ac0f41768",
   "metadata": {},
   "outputs": [],
   "source": [
    "class Process:\n",
    "    \"\"\"Representation of Stochastic Process\"\"\"\n",
    "    def __init__(self, start_value=0):\n",
    "        self.value = start_value\n",
    "\n",
    "    def time_step(self):\n",
    "        pass\n",
    "\n",
    "    def __str__(self):\n",
    "        return \"Process with current value \" + str(self.value)\n",
    "\n",
    "    def __repr__(self):\n",
    "        return __str__(self)"
   ]
  },
  {
   "cell_type": "code",
   "execution_count": 23,
   "id": "71b330fd-fd10-4ca8-972b-4cde7a03d6ce",
   "metadata": {},
   "outputs": [
    {
     "name": "stdout",
     "output_type": "stream",
     "text": [
      "Process with current value 0\n",
      "Process with current value 0.3\n",
      "Process with current value 0.6\n",
      "Process with current value 0.8999999999999999\n",
      "Process with current value 0.8\n"
     ]
    }
   ],
   "source": [
    "p1 = BoundedLinearProcess(0, .3)\n",
    "print(p1)\n",
    "for i in range(4):\n",
    "    p1.time_step()\n",
    "    print(p1)"
   ]
  },
  {
   "cell_type": "code",
   "execution_count": 29,
   "id": "349dcbe4-dc20-4d9e-8067-fd93c23ade4c",
   "metadata": {},
   "outputs": [
    {
     "name": "stdout",
     "output_type": "stream",
     "text": [
      "*\n",
      "  *\n",
      "    *\n",
      "      *\n",
      "        *\n",
      "          *\n",
      "            *\n",
      "              *\n",
      "               *\n",
      "                  *\n",
      "                   *\n",
      "                  *\n",
      "                *\n",
      "              *\n",
      "            *\n",
      "          *\n",
      "        *\n",
      "      *\n",
      "    *\n",
      "  *\n",
      "*\n"
     ]
    }
   ],
   "source": [
    "class BoundedLinearProcess(Process):\n",
    "    \"\"\"A stochastic process that develops linearly. Increases\n",
    "    by velocity in every time period, but is bounded between 0 and 1.\n",
    "    \"\"\"\n",
    "\n",
    "    def __init__(self, start_value = 0, velocity = 0):\n",
    "        super().__init__(start_value)\n",
    "        self.velocity = velocity\n",
    "\n",
    "    def time_step(self):\n",
    "        self.value += self.velocity\n",
    "        if self.value < 0:\n",
    "            self.value = -self.value\n",
    "            self.velocity = -self.velocity\n",
    "        if self.value > 1:\n",
    "            self.value = 1 - (self.value - 1)\n",
    "            self.velocity = -self.velocity\n",
    "        super().time_step\n",
    "\n",
    "    def __str__(self):\n",
    "        return \" \" * int(self.value*20) + \"*\"\n",
    "\n",
    "p1 = BoundedLinearProcess(0, .1)\n",
    "print(p1)\n",
    "for i in range(20):\n",
    "    p1.time_step()\n",
    "    print(p1)"
   ]
  },
  {
   "cell_type": "code",
   "execution_count": null,
   "id": "1ac6217b-a2b0-4423-8a71-3f6ac2f020bc",
   "metadata": {},
   "outputs": [],
   "source": []
  }
 ],
 "metadata": {
  "kernelspec": {
   "display_name": "Python 3 (ipykernel)",
   "language": "python",
   "name": "python3"
  },
  "language_info": {
   "codemirror_mode": {
    "name": "ipython",
    "version": 3
   },
   "file_extension": ".py",
   "mimetype": "text/x-python",
   "name": "python",
   "nbconvert_exporter": "python",
   "pygments_lexer": "ipython3",
   "version": "3.12.4"
  }
 },
 "nbformat": 4,
 "nbformat_minor": 5
}
