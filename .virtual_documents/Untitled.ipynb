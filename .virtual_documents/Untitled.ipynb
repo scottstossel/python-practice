class Drone:
    """A representation of a drone aircraft"""


?Drone


d1 = Drone()
d2 = Drone()
print(type(d1), type(d2))


Drone.power_system = "Battery"


print(d1.power_system)


print(Drone.power_system)


d1.power_system = "Gasoline"


print(d1.power_system)
print(d2.power_system)
print(Drone.power_system)


d1.altitude = 100
d2.altitude = 150

print(d1.altitude)
print(d2.altitude)


dir(d1)


d1.__class__


d1.__dict__



