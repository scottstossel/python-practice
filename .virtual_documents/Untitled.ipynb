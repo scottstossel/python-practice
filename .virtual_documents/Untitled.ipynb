


class Process:
    """Representation of Stochastic Process"""
    def __init__(self, start_value=0):
        self.value = start_value

    def time_step(self):
        pass


class BoundedLinearProcess(Process):
    """A stochastic process that develops linearly. Increases
    by velocity in every time period, but is bounded between 0 and 1.
    """

    def __init__(self, start_value = 0, velocity = 0):
        super().__init__(start_value)
        self.velocity = velocity

    def time_step(self):
        self.value += self.velocity
        if self.value < 0:
            self.value = -self.value
            self.velocity = -self.velocity
        if self.value > 1:
            self.value = 1 - (self.value - 1)
            self.velocity = -self.velocity
        super().time_step


p1 = BoundedLinearProcess(0, .3)
print(p1)


for i in range(4):
    p1.time_step()
    print("Current Process Value:", p1.value)


class Process:
    """Representation of Stochastic Process"""
    def __init__(self, start_value=0):
        self.value = start_value

    def time_step(self):
        pass

    def __str__(self):
        return "Process with current value " + str(self.value)

    def __repr__(self):
        return __str__(self)


p1 = BoundedLinearProcess(0, .3)
print(p1)
for i in range(4):
    p1.time_step()
    print(p1)


class BoundedLinearProcess(Process):
    """A stochastic process that develops linearly. Increases
    by velocity in every time period, but is bounded between 0 and 1.
    """

    def __init__(self, start_value = 0, velocity = 0):
        super().__init__(start_value)
        self.velocity = velocity

    def time_step(self):
        self.value += self.velocity
        if self.value < 0:
            self.value = -self.value
            self.velocity = -self.velocity
        if self.value > 1:
            self.value = 1 - (self.value - 1)
            self.velocity = -self.velocity
        super().time_step

    def __str__(self):
        return " " * int(self.value*20) + "*"

p1 = BoundedLinearProcess(0, .1)
print(p1)
for i in range(20):
    p1.time_step()
    print(p1)



