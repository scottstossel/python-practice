import sys
print(sys.version)


import numpy as np
print(np.__version__)


np.arange(10)


a = np.arange(10)


a.mean()


a.sum()


a.min()


a.std()


%timeit list(x*x for x in a)


%timeit a*a


a * a


[x*x for x in a]


a = np.arange(20)


a


[x for x in a if x % 2 == 0]


a[a % 2 == 0]


a % 2 == 0


np.array(list(map(lambda x : x % 2 == 0, a)))


np2 = np.arange(20000)


%timeit [x for x in np2 if x %2 == 0]


%time np2[np2 % 2 == 0]


a[ (a > 15) | (a < 5)]


npa = np.arange(25)


print(type(npa))


npa.dtype


np.float32(npa)


np.float64(25)


np.array(range(20)).dtype


np.array([1.0,0,2,3]).dtype


np.array([True, 2, 2.0]).dtype


np.array([True, 2, 2.0], dtype='uint')


npa


npa.size


npa.shape


npa.argmin()


npa.argmax()


np.arange(0,20,2)


np.linspace(1,2,5)


np.linspace(0,10,11).astype('int')


problem = np.array([0.])/np.array([0.])


problem


np.nan


ar = np.linspace(0,10,11)
ar
ar[0] = np.nan
ar
ar.min(), ar.max(), ar.mean()



