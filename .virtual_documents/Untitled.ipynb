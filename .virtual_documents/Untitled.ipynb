def print_stuff():
    print("some stuff")
    print("more stuff")


print_stuff


print("Things on my todo list:")
print_stuff()
print_stuff()


def sqrt(x, epsilon):
    """Newton's Method for finding square roots to
    within a precision epsilon"""
    ans = 1
    num_guesses = 0
    while abs(x/ans - ans) > epsilon:
        ans = (x/ans + ans)/2
        num_guesses += 1
    return ans


help(sqrt)


root = sqrt(5, 0.00001)
print(root, "is close to the square root of 5")
fourth_root = sqrt(root, 0.00001)
print(fourth_root, "is close to the fourth root of 5")



