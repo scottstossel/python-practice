from itertools import chain, combinations

def powerset(iterable):
    "powerset([1,2,3] -> () (1,) (2,) (3,) (1,2) (1,3) (2,3) (1,2,3)"
    s = list(iterable)
    return chain.from_iterable(combinations(s, r) for r in range(len(s) + 1))


# for group in powerset(population):
#     print(group)
# How long for 1 person? 2 prints
# 2 people? 4
# 10? 1024
# 1000? 1.1 x 10^301





from itertools import chain, combinations

def powerset(iterable):
    "powerset([1,2,3] -> () (1,) (2,) (3,) (1,2) (1,3) (2,3) (1,2,3)"
    s = list(iterable)
    return chain.from_iterable(combinations(s, r) for r in range(len(s) + 1))


population = set(range(3))
population


start_time = time.time()
for group in powerset(population):
    # print(group)
    pass
end_time = time.time()
print("execution time: ", end_time - start_time)


import time


time.time()





times = []
for n in range(27):
    population = set(range(n))
    start_time = time.time()
    for group in powerset(population):
        # print(group)
        pass
    end_time = time.time()
    times.append(end_time - start_time)
times


import matplotlib.pyplot as plt


plt.scatter(x = range(27), y=times)
plt.title("Execution Times for Powerset Experiment")





n = 10

for i in range(5):
    print(i)

# Θ(1)


for i in range(n):
    print(i)

# Θ(n)


for i in range(n):
    for j in range(n):
        print("*", end="")
    print()

# Θ(n^2)


for i in range(n):
    for j in range(i):
        print('*', end="")
    print()

# Θ(n^2)


import numpy as np

price_changes = np.random.uniform(0,100,size=n)
price_changes


max(price_changes)


sizes = list(range(1000))
times = []
for n in sizes:
    start_time = time.time()
    max(price_changes)
    end_time = time.time()
    times.append(end_time - start_time)


times


import matplotlib.pyplot as plt


plt.scatter(x=sizes, y = times)





sorted_data = [("Ann", 84), ("Bharat", 91), ("Jamal", 89), ("Kendrick", 79), ("Lee", 77), ("Rob", 97), ("Sruthi", 98), ("Zoe", 78)]


target = "Rob"
for name, grade in sorted_data:
    if name == target:
        print(grade)
        break


# Θ(n)


start, end = 0, len(sorted_data) - 1

while start < end:
    print("Window:", start, end)
    middle = (start + end) // 2
    if target > sorted_data[middle][0]:
        start = middle + 1
    else:
        end = middle

print(sorted_data[start])





# subarray with the highest total price change


import numpy as np
import matplotlib.pyplot as plt

price_changes = np.random.normal(0,1,size=50)
price_changes


plt.plot(price_changes)
plt.title("Price Changes Over Time")


best = price_changes[0]
for start in range(len(price_changes)):
    for end in range(start+1, len(price_changes) + 1):
        if sum(price_changes[start:end]) > best:
            best = sum(price_changes[start:end])

print(best)


# theta(n^2)


# is there a more efficient way to do this?





best = 0
best_to_end = 0

for end in range(len(price_changes)):
    best_to_end = max(best_to_end + price_changes[end], 0)
    if best_to_end > best:
        best = best_to_end

print(best)


# Θ(nß)
