


?Drone


d1 = Drone()
d2 = Drone()
print(type(d1), type(d2))


Drone.power_system = "Battery"


print(d1.power_system)


print(Drone.power_system)


d1.power_system = "Gasoline"


print(d1.power_system)
print(d2.power_system)
print(Drone.power_system)


d1.altitude = 100
d2.altitude = 150

print(d1.altitude)
print(d2.altitude)


dir(d1)


d1.__class__


d1.__dict__





class Drone:
    power_system = "battery"

    def fly(self):
        return "The drone is flying"


d = Drone()


print(d.fly())


class Drone:
    power_system = "battery"

    def fly(self):
        return "The " + self.power_system + "-powered drone is flying"

d1 = Drone()
d1.power_system = "dream"
print(d1.fly())
d2 = Drone()
print(d2.fly())


class Drone:
    power_system = "battery"

    def fly(self):
        return "The " + self.power_system + "-powered drone is flying at an altitude of " + str(self.altitude)

    def ascend(self, change):
        self.altitude += change

 
d = Drone()
d.altitude = 0
d.fly()
d.ascend(100)
d.fly()





class Drone:
    power_system = "battery"

    def __init__(self, altitude = 0):
        self.altitude = altitude
        
    
    def fly(self):
        print("The " + self.power_system + "-powered drone is flying at an altitude of " + str(self.altitude))

    def ascend(self, change):
        self.altitude += change

d1 = Drone(100)
d1.fly()
d1.ascend(100)
d1.fly()
d2 = Drone()
d2.fly()





class Drone:

    num_drones = 0
    
    def __init__(self, altitude = 0):
        self.__altitude = altitude
        self.ascend_count = 0
        self.num_drones += 1
    
    def fly(self):
        print("The drone is flying at an altitude of " + str(self.altitude))

    def ascend(self, change):
        self.__altitude += change
        self.ascend_count += 1

    def get_altitude(self):
        return self.__altitude

    def set_altitude(self, new_altitude):
        if new_altitude < 0:
            raise Exception("drone cannot have a negative altitude")
        self.__altitude = new_altitude

# d1 = Drone(100)
# print("Number of drones: ", Drone.num_drones)
# # print(d1.ascend_count)
# d1.fly()
# # d1.ascend(100)
# d1.fly()
# # print(d1.ascend_count)

# d2 = Drone()
# d2.fly()
# # print(d2.ascend_count)
# print("Number of drones: ", d1.num_drones)

d1 = Drone(100)
d1.set_altitude(300)
d1._Drone__altitude = -10
print(d1._Drone__altitude)
print(d1.get_altitude())





# Overriding hidden attributes




class Animal():

    def __init__(self, name):
        self.name = name

    def __repr__(self):
        return f"I am a {self.name}"

    def __str__(self):
        print("Calling repr")
        return self.__repr__()


a1 = Animal("Lion")


a1


a2 = Animal("Bear")


a2



a4 = Animal("Zebra")
a4


print(a4)


class Zoo():
    def __inti__(self):
        self.animals = []

    def add_animal(self, animal):
        self.animals.append(animal)


# Bulding the Bandit class
# need probability and move()



import numpy as np

class Bandit:
    """Class to represent a slot machine with a secret probability of reward"""

    def __init__(self):
        self.__probability = np.random.uniform()

    def __repr__(self):
        return "Bandit object with secret probability " + str(self.__probability)

    def pull(self):
        """returns True representing a reward or False representing no reward"""
        return np.random.choice([True, False],p=[self.__probability, 1 - self.__probability])




b = Bandit()
b


b.pull()


results = [b.pull() for i in range(10)]
results


sum(results)/len(results)



