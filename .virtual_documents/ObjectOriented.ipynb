


class Process:
    """Representation of Stochastic Process"""
    def __init__(self, start_value=0):
        self.value = start_value

    def time_step(self):
        pass


class BoundedLinearProcess(Process):
    """A stochastic process that develops linearly. Increases
    by velocity in every time period, but is bounded between 0 and 1.
    """

    def __init__(self, start_value = 0, velocity = 0):
        super().__init__(start_value)
        self.velocity = velocity

    def time_step(self):
        self.value += self.velocity
        if self.value < 0:
            self.value = -self.value
            self.velocity = -self.velocity
        if self.value > 1:
            self.value = 1 - (self.value - 1)
            self.velocity = -self.velocity
        super().time_step


p1 = BoundedLinearProcess(0, .3)
print(p1)


for i in range(4):
    p1.time_step()
    print("Current Process Value:", p1.value)


class Process:
    """Representation of Stochastic Process"""
    def __init__(self, start_value=0):
        self.value = start_value

    def time_step(self):
        pass

    def __str__(self):
        return "Process with current value " + str(self.value)

    def __repr__(self):
        return __str__(self)

    def simulate(self, steps = 20):
        for i in range(steps):
            print(self)
            self.time_step()


p1 = BoundedLinearProcess(0, .3)
print(p1)
for i in range(4):
    p1.time_step()
    print(p1)


class BoundedLinearProcess(Process):
    """A stochastic process that develops linearly. Increases
    by velocity in every time period, but is bounded between 0 and 1.
    """

    def __init__(self, start_value = 0, velocity = 0):
        super().__init__(start_value)
        self.velocity = velocity

    def time_step(self):
        self.value += self.velocity
        if self.value < 0:
            self.value = -self.value
            self.velocity = -self.velocity
        if self.value > 1:
            self.value = 1 - (self.value - 1)
            self.velocity = -self.velocity
        super().time_step

    def __str__(self):
        return " " * int(self.value*20) + "*"

p1 = BoundedLinearProcess(0, .1)
print(p1)
for i in range(20):
    p1.time_step()
    print(p1)





import numpy as np

class ARProcess(Process):
    def __init__(self, alpha = 0.5, sigma = 1, start_value = 0):
        super().__init__(start_value)
        self.alpha = alpha
        self.sigma = sigma

    def time_step(self):
        self.value = self.alpha * self.value + np.random.normal(scale = self.sigma)
        super().time_step()

    def __str__(self):
        if self.value < 0:
            s = " " * int(5 * (self.value + 3)) + "*" + " " * int(-self.value * 5) + "|"
        elif self.value == 0:
            s = " " * 15 + "*"
        else:
            s = " " * 15 + "|" + " " * int(5*self.value) + "*"
        return s


p1 = BoundedLinearProcess(0, .1)
p2 = ARProcess(alpha = .9)


p1.simulate()


p2.simulate()





class RandomWalk(ARProcess):
    def __init__(self, sigma = 1):
        super().__init__(alpha= 1, sigma = sigma)


p3 = RandomWalk()
p3.simulate()





class Process:
    """Representation of Stochastic Process"""
    def __init__(self, start_value=0):
        self.value = start_value
        self.history = []

    def time_step(self):
        self.history.append(self.value)

    def __str__(self):
        return "Process with current value " + str(self.value)

    def __repr__(self):
        return __str__(self)

    def simulate(self, steps = 20):
        for i in range(steps):
            self.time_step()

class BoundedLinearProcess(Process):
    """A stochastic process that develops linearly. Increases
    by velocity in every time period, but is bounded between 0 and 1.
    """

    def __init__(self, start_value = 0, velocity = 0):
        super().__init__(start_value)
        self.velocity = velocity

    def time_step(self):
        self.value += self.velocity
        if self.value < 0:
            self.value = -self.value
            self.velocity = -self.velocity
        if self.value > 1:
            self.value = 1 - (self.value - 1)
            self.velocity = -self.velocity
        super().time_step

    def __str__(self):
        return " " * int(self.value*20) + "*"

class ARProcess(Process):
    def __init__(self, alpha = 0.5, sigma = 1, start_value = 0):
        super().__init__(start_value)
        self.alpha = alpha
        self.sigma = sigma

    def time_step(self):
        self.value = self.alpha * self.value + np.random.normal(scale = self.sigma)
        super().time_step()

    def __str__(self):
        if self.value < 0:
            s = " " * int(5 * (self.value + 3)) + "*" + " " * int(-self.value * 5) + "|"
        elif self.value == 0:
            s = " " * 15 + "*"
        else:
            s = " " * 15 + "|" + " " * int(5*self.value) + "*"
        return s


class ProcessPlotter:
    """An object to display the history of a process"""
    def __init__(self, process = None):
        self.process = process

    def plot(self):
        pass


class TextProcessPlotter(ProcessPlotter):
    def plot(self):
        upper = max(self.process.history)
        lower = min(self.process.history)

        for val in self.process.history:
            print(" " * int(20 * (val - lower)/(upper - lower)) + "*")


p1 = ARProcess(alpha = 0.9)
plotter1 = TextProcessPlotter(p1)
p1.simulate(10)
plotter1.plot()


p2 = RandomWalk()
plotter2 = TextProcessPlotter(p2)
p2.simulate()
plotter2.plot()


import matplotlib
%matplotlib inline

class GraphicProcessPlotter(ProcessPlotter):
    def plot(self):
        matplotlib.pyplot.plot(self.process.history)
        matplotlib.pyplot.title("Process Time Plot")


plotter3 = GraphicProcessPlotter(p1)
plotter3.plot()


plotter4 = GraphicProcessPlotter(p2)
plotter4.plot()


# properties


class Drone:
    def __init__(self, altitude = 0):
        self.altitude = altitude
        self.ascend_count = 0

    def fly(self):
        print("The drone is flying at", sefl.altitude, "feet.")

    def ascend(self, change):
        self.altitude += change
        self.ascend_count += 1

d1 = Drone(100)
print("The Done's altitude is", d1.altitude)

d1.altitude = 300
print("The Done's altitude is", d1.altitude)



class Drone:
    def __init__(self, altitude = 0):
        self.__altitude = altitude
        self.ascend_count = 0

    def fly(self):
        print("The drone is flying at", self.__altitude, "feet.")

    def ascend(self, change):
        self.__altitude += change
        self.ascend_count += 1

    def get_altitude(self):
        return self.__altitude

    def set_altitude(self, new_altitude):
        if new_altitude < 0:
            raise Exception("Drone cannot have a negative altitude.")
        self.__altitude = new_altitude

d1 = Drone(100)
print("The Drone's altitude is", d1.altitude)

d1.altitude = 300
print("The Drone's altitude is", d1.altitude)


d1.altitude = -10


class Drone:
    def __init__(self, altitude = 0):
        self.__altitude = altitude
        self.ascend_count = 0

    def fly(self):
        print("The drone is flying at", self.__altitude, "feet.")

    def ascend(self, change):
        self.__altitude += change
        self.ascend_count += 1

    @property
    def altitude(self):
        return self.__altitude

    @altitude.setter
    def altitude(self, new_altitude):
        if new_altitude < 0:
            raise Exception("Drone cannot have a negative altitude.")
        self.__altitude = new_altitude

d1 = Drone(100)
print("The Drone's altitude is", d1.altitude)

d1.altitude = 300
print("The Drone's altitude is", d1.altitude)

d1.altitude = -10





class Drone:
    def __init__(self, altitude = 0):
        self.altitude = altitude
        self.ascend_count = 0

    def fly(self):
        print("The drone is flying at", self.altitude, "feet.")

    def ascend(self, change):
        self.altitude += change
        self.ascend_count += 1

    @classmethod
    def print_class(cls):
        print(cls)

d1 = Drone(100)
d1.print_class()


Drone.print_class()


class Drone:

    __num_drones = 0
    
    def __init__(self, altitude = 0):
        self.altitude = altitude
        self.ascend_count = 0
        Drone.__num_drones += 1

    def fly(self):
        print("The drone is flying at", self.altitude, "feet.")

    def ascend(self, change):
        self.altitude += change
        self.ascend_count += 1

    @classmethod
    def get_num_drones(cls):
        return cls.__num_drones

d1 = Drone(100)
print(d1.get_num_drones())

d2 = Drone(200)
print(d2.get_num_drones())



# static methods
class Drone:

    __num_drones = 0
    
    def __init__(self, altitude = 0):
        self.altitude = altitude
        self.ascend_count = 0
        Drone.__num_drones += 1

    def fly(self):
        print("The drone is flying at", self.altitude, "feet.")

    def ascend(self, change):
        self.altitude += change
        self.ascend_count += 1

    @classmethod
    def get_num_drones(cls):
        return cls.__num_drones

    @staticmethod
    def feet_from_meters(meters):
        return meters * 3.28084

d1 = Drone(100)
d1.altitude = Drone.feet_from_meters(200)
print(d1.altitude)





class Card:
    def __init__(self, value, suit):
        self.value = value
        self.suit = suit

    def __eq__(self, other):
        if self.value == other.value:
            return True
        else:
            return False

    def __lt__(self, other):
        if self.value < other.value:
            return True
        else:
            return False
    def __gt__(self, other):
        if self.value > other.value:
            return True
        else:
            return False

    def __repr__(self):
        return "%i of %s" % (self.value, self.suit)


Card(5, "Spades") == Card(6, "Diamonds")


Card(5, "Spades") == Card(5, "Spades")


Card(5, "Spades")


cards = []
for suit in ['Hearts', 'Spades', 'Diamonds', 'Clubs']:
    for value in range(1,13):
        cards.append(Card(value,suit))


cards[:5]


cards[0] < cards[12]


print(cards)


from random import shuffle


shuffle(cards)
print(cards[:5])


sorted(cards)[:5]


class Vector:
    def __init__(self, numbers):
        self.__numbers = numbers

    @property
    def numbers(self):
        return self.__numbers

    def dot(self, other):
        values = []
        if len(self.__numbers) != len(other.numbers):
            return "Cannot Multiply Different Sized Vectors"

        for x in range(len(self.__numbers)):
            this_num = self.__numbers[x]
            other_num = other.numbers[x]
            values.append(this_num * other_num)
        return sum(values)

    def __mul__(self, other):
        return self.dot(other)
