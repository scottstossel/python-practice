!python3 helloworld.py


!cat helloworld.py


!python3 showarguments.py


!cat weatherman.py


import weatherman

print(weather.get_report())


import sys
for place in sys.path:
    print(place)
    


import datetime

weatherData = {}
current_utc_offset = -datetime.timedelta(hours=8)
current_timezone = datetime.timezone(current_utc_offset)
current_datetime - datetime.datetime.fromtimestamp(weatherData["dt"],)
