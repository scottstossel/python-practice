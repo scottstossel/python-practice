def print_stuff():
    print("some stuff")
    print("more stuff")


print_stuff


print("Things on my todo list:")
print_stuff()
print_stuff()


def sqrt(x, epsilon):
    """Newton's Method for finding square roots to
    within a precision epsilon"""
    ans = 1
    num_guesses = 0
    while abs(x/ans - ans) > epsilon:
        ans = (x/ans + ans)/2
        num_guesses += 1
    return ans


help(sqrt)


root = sqrt(5, 0.00001)
print(root, "is close to the square root of 5")
fourth_root = sqrt(root, 0.00001)
print(fourth_root, "is close to the fourth root of 5")





def distance_to_origin(x,y):
    """Find the distance from a point at (x,y) to the origin"""
    ans = sqrt(x**2 + y**2, 0.00001)
    return ans

def geometric_mean(x, y):
    """compute the sqrt of x * y"""
    return sqrt(x*y, 0.00001)

x = float(input("Enter an x-coordinate: "))
y = float(input("Enter a y-coordinate: "))
magnitude = distance_to_origin(x, y)
print("The magnitude of your vector is", magnitude)
geo_mean = geometric_mean(x, y)
print("The geometric mean of x and y is", geo_mean)





# e.g.
x = 0/0





def add_one(x):
    x = x + 1
    print("In the function, x =", x)
    return x

x = 3
result = add_one(x)
print("The function returned ", result)
print("Outside the function, x =", x)


def add_one(x):
    y = x + 1
    print("In the function, y =", y)
    return y

x = 3
# y = 3
result = add_one(x)
print("The function returned ", result)
# print("Outside the function, y =", x)





def add_y(x):
    ans = x + y
    print("In the function, y =", y)
    return ans
    
y = 5
result = add_y(3)
print("The function returned", result)
print("Outside the function, y =", y)


def change_y():
    global y
    y = y + 1
    print("In the function, y =", y)

y = 5
change_y()
print("Outside the function, y =", y)







