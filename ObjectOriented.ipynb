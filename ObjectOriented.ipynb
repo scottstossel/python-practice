{
 "cells": [
  {
   "cell_type": "markdown",
   "id": "3a0eb4fa-0f09-4476-81db-9247984a2ec3",
   "metadata": {},
   "source": [
    "# Class Inheritance\n",
    "\n",
    "## Simulations\n",
    "\n",
    "Stochastic Process\n",
    "(discrete time) stochastic process\n",
    "$x_1$ $x_2$ ...\n",
    "\n",
    "1. Stock price over time\n",
    "2. Measurements of solar radiation for each day\n",
    "3. Average planetary surface temperature"
   ]
  },
  {
   "cell_type": "code",
   "execution_count": 7,
   "id": "5eb10459-c192-4096-8cea-25ea6e9e2a95",
   "metadata": {},
   "outputs": [],
   "source": [
    "class Process:\n",
    "    \"\"\"Representation of Stochastic Process\"\"\"\n",
    "    def __init__(self, start_value=0):\n",
    "        self.value = start_value\n",
    "\n",
    "    def time_step(self):\n",
    "        pass"
   ]
  },
  {
   "cell_type": "code",
   "execution_count": 19,
   "id": "7ea880b1-1c97-4723-937e-5f4eb4bc64b8",
   "metadata": {},
   "outputs": [],
   "source": [
    "class BoundedLinearProcess(Process):\n",
    "    \"\"\"A stochastic process that develops linearly. Increases\n",
    "    by velocity in every time period, but is bounded between 0 and 1.\n",
    "    \"\"\"\n",
    "\n",
    "    def __init__(self, start_value = 0, velocity = 0):\n",
    "        super().__init__(start_value)\n",
    "        self.velocity = velocity\n",
    "\n",
    "    def time_step(self):\n",
    "        self.value += self.velocity\n",
    "        if self.value < 0:\n",
    "            self.value = -self.value\n",
    "            self.velocity = -self.velocity\n",
    "        if self.value > 1:\n",
    "            self.value = 1 - (self.value - 1)\n",
    "            self.velocity = -self.velocity\n",
    "        super().time_step"
   ]
  },
  {
   "cell_type": "code",
   "execution_count": 11,
   "id": "079eb4d5-e835-4893-8725-32490c5adbb5",
   "metadata": {},
   "outputs": [
    {
     "name": "stdout",
     "output_type": "stream",
     "text": [
      "<__main__.BoundedLinearProcess object at 0x165b8ef30>\n"
     ]
    }
   ],
   "source": [
    "p1 = BoundedLinearProcess(0, .3)\n",
    "print(p1)"
   ]
  },
  {
   "cell_type": "code",
   "execution_count": 13,
   "id": "b4444b8c-8a7f-46b7-9638-2659314d925d",
   "metadata": {},
   "outputs": [
    {
     "name": "stdout",
     "output_type": "stream",
     "text": [
      "Current Process Value: 0.3\n",
      "Current Process Value: 0.6\n",
      "Current Process Value: 0.8999999999999999\n",
      "Current Process Value: 0.8\n"
     ]
    }
   ],
   "source": [
    "for i in range(4):\n",
    "    p1.time_step()\n",
    "    print(\"Current Process Value:\", p1.value)"
   ]
  },
  {
   "cell_type": "code",
   "execution_count": 87,
   "id": "ebc0f0cc-ab0f-42e9-86f0-377ac0f41768",
   "metadata": {},
   "outputs": [],
   "source": [
    "class Process:\n",
    "    \"\"\"Representation of Stochastic Process\"\"\"\n",
    "    def __init__(self, start_value=0):\n",
    "        self.value = start_value\n",
    "\n",
    "    def time_step(self):\n",
    "        pass\n",
    "\n",
    "    def __str__(self):\n",
    "        return \"Process with current value \" + str(self.value)\n",
    "\n",
    "    def __repr__(self):\n",
    "        return __str__(self)\n",
    "\n",
    "    def simulate(self, steps = 20):\n",
    "        for i in range(steps):\n",
    "            print(self)\n",
    "            self.time_step()"
   ]
  },
  {
   "cell_type": "code",
   "execution_count": 23,
   "id": "71b330fd-fd10-4ca8-972b-4cde7a03d6ce",
   "metadata": {},
   "outputs": [
    {
     "name": "stdout",
     "output_type": "stream",
     "text": [
      "Process with current value 0\n",
      "Process with current value 0.3\n",
      "Process with current value 0.6\n",
      "Process with current value 0.8999999999999999\n",
      "Process with current value 0.8\n"
     ]
    }
   ],
   "source": [
    "p1 = BoundedLinearProcess(0, .3)\n",
    "print(p1)\n",
    "for i in range(4):\n",
    "    p1.time_step()\n",
    "    print(p1)"
   ]
  },
  {
   "cell_type": "code",
   "execution_count": 89,
   "id": "349dcbe4-dc20-4d9e-8067-fd93c23ade4c",
   "metadata": {},
   "outputs": [
    {
     "name": "stdout",
     "output_type": "stream",
     "text": [
      "*\n",
      "  *\n",
      "    *\n",
      "      *\n",
      "        *\n",
      "          *\n",
      "            *\n",
      "              *\n",
      "               *\n",
      "                  *\n",
      "                   *\n",
      "                  *\n",
      "                *\n",
      "              *\n",
      "            *\n",
      "          *\n",
      "        *\n",
      "      *\n",
      "    *\n",
      "  *\n",
      "*\n"
     ]
    }
   ],
   "source": [
    "class BoundedLinearProcess(Process):\n",
    "    \"\"\"A stochastic process that develops linearly. Increases\n",
    "    by velocity in every time period, but is bounded between 0 and 1.\n",
    "    \"\"\"\n",
    "\n",
    "    def __init__(self, start_value = 0, velocity = 0):\n",
    "        super().__init__(start_value)\n",
    "        self.velocity = velocity\n",
    "\n",
    "    def time_step(self):\n",
    "        self.value += self.velocity\n",
    "        if self.value < 0:\n",
    "            self.value = -self.value\n",
    "            self.velocity = -self.velocity\n",
    "        if self.value > 1:\n",
    "            self.value = 1 - (self.value - 1)\n",
    "            self.velocity = -self.velocity\n",
    "        super().time_step\n",
    "\n",
    "    def __str__(self):\n",
    "        return \" \" * int(self.value*20) + \"*\"\n",
    "\n",
    "p1 = BoundedLinearProcess(0, .1)\n",
    "print(p1)\n",
    "for i in range(20):\n",
    "    p1.time_step()\n",
    "    print(p1)"
   ]
  },
  {
   "cell_type": "markdown",
   "id": "08a215da-7472-440f-9a75-377c9824518b",
   "metadata": {},
   "source": [
    "Autoregressive process of order 1.\n",
    "\n",
    "AR(1)\n",
    "\n",
    "$x_t = \\alpha x_t-1 + w_t$"
   ]
  },
  {
   "cell_type": "code",
   "execution_count": 99,
   "id": "e41ab404-5c95-44a9-8f1e-ac72f19f2bb6",
   "metadata": {},
   "outputs": [],
   "source": [
    "import numpy as np\n",
    "\n",
    "class ARProcess(Process):\n",
    "    def __init__(self, alpha = 0.5, sigma = 1, start_value = 0):\n",
    "        super().__init__(start_value)\n",
    "        self.alpha = alpha\n",
    "        self.sigma = sigma\n",
    "\n",
    "    def time_step(self):\n",
    "        self.value = self.alpha * self.value + np.random.normal(scale = self.sigma)\n",
    "        super().time_step()\n",
    "\n",
    "    def __str__(self):\n",
    "        if self.value < 0:\n",
    "            s = \" \" * int(5 * (self.value + 3)) + \"*\" + \" \" * int(-self.value * 5) + \"|\"\n",
    "        elif self.value == 0:\n",
    "            s = \" \" * 15 + \"*\"\n",
    "        else:\n",
    "            s = \" \" * 15 + \"|\" + \" \" * int(5*self.value) + \"*\"\n",
    "        return s"
   ]
  },
  {
   "cell_type": "code",
   "execution_count": 101,
   "id": "fd8891ba-56cf-4d57-b6c4-a292bab5eaf5",
   "metadata": {},
   "outputs": [],
   "source": [
    "p1 = BoundedLinearProcess(0, .1)\n",
    "p2 = ARProcess(alpha = .9)"
   ]
  },
  {
   "cell_type": "code",
   "execution_count": 103,
   "id": "f8877a82-3486-442a-90fc-c88e0d1f5812",
   "metadata": {},
   "outputs": [
    {
     "name": "stdout",
     "output_type": "stream",
     "text": [
      "*\n",
      "  *\n",
      "    *\n",
      "      *\n",
      "        *\n",
      "          *\n",
      "            *\n",
      "              *\n",
      "               *\n",
      "                  *\n",
      "                   *\n",
      "                  *\n",
      "                *\n",
      "              *\n",
      "            *\n",
      "          *\n",
      "        *\n",
      "      *\n",
      "    *\n",
      "  *\n"
     ]
    }
   ],
   "source": [
    "p1.simulate()"
   ]
  },
  {
   "cell_type": "code",
   "execution_count": 109,
   "id": "e1d0f210-a9ea-4dd3-ad42-1cd59163e1e1",
   "metadata": {},
   "outputs": [
    {
     "name": "stdout",
     "output_type": "stream",
     "text": [
      "              *|\n",
      "              *|\n",
      "        *      |\n",
      "   *           |\n",
      "               |  *\n",
      "               |            *\n",
      "               |                     *\n",
      "               |                    *\n",
      "               |                 *\n",
      "               |                 *\n",
      "               |               *\n",
      "               |          *\n",
      "               |         *\n",
      "               | *\n",
      "               |  *\n",
      "               |   *\n",
      "               |          *\n",
      "               |    *\n",
      "               |        *\n",
      "               |        *\n"
     ]
    }
   ],
   "source": [
    "p2.simulate()"
   ]
  },
  {
   "cell_type": "markdown",
   "id": "6731fb3c-49e6-4c8a-ad11-f62b2ef3bf6b",
   "metadata": {},
   "source": [
    "Random Walk\n",
    "\n",
    "$x_t = x_t-1 + w_t$"
   ]
  },
  {
   "cell_type": "code",
   "execution_count": 154,
   "id": "df7297c0-cae4-4a38-8516-5a20ea1a23ef",
   "metadata": {},
   "outputs": [],
   "source": [
    "class RandomWalk(ARProcess):\n",
    "    def __init__(self, sigma = 1):\n",
    "        super().__init__(alpha= 1, sigma = sigma)"
   ]
  },
  {
   "cell_type": "code",
   "execution_count": 124,
   "id": "1013d889-3515-45bf-b0a7-941aa34d821c",
   "metadata": {},
   "outputs": [
    {
     "name": "stdout",
     "output_type": "stream",
     "text": [
      "               *\n",
      "               |     *\n",
      "               |   *\n",
      "               |    *\n",
      "             * |\n",
      "             * |\n",
      "               | *\n",
      "               | *\n",
      "      *        |\n",
      "    *          |\n",
      " *             |\n",
      "*                |\n",
      "  *            |\n",
      "*                        |\n",
      "*                       |\n",
      "    *          |\n",
      "       *       |\n",
      "         *     |\n",
      " *             |\n",
      "*                    |\n"
     ]
    }
   ],
   "source": [
    "p3 = RandomWalk()\n",
    "p3.simulate()"
   ]
  },
  {
   "cell_type": "markdown",
   "id": "09d5c5f4-8a06-488d-8a41-ef475f09c572",
   "metadata": {},
   "source": [
    "## Using polymorphism"
   ]
  },
  {
   "cell_type": "code",
   "execution_count": 142,
   "id": "fe6318bf-27c9-4ab9-bb3b-7249cfd466f8",
   "metadata": {},
   "outputs": [],
   "source": [
    "class Process:\n",
    "    \"\"\"Representation of Stochastic Process\"\"\"\n",
    "    def __init__(self, start_value=0):\n",
    "        self.value = start_value\n",
    "        self.history = []\n",
    "\n",
    "    def time_step(self):\n",
    "        self.history.append(self.value)\n",
    "\n",
    "    def __str__(self):\n",
    "        return \"Process with current value \" + str(self.value)\n",
    "\n",
    "    def __repr__(self):\n",
    "        return __str__(self)\n",
    "\n",
    "    def simulate(self, steps = 20):\n",
    "        for i in range(steps):\n",
    "            self.time_step()\n",
    "\n",
    "class BoundedLinearProcess(Process):\n",
    "    \"\"\"A stochastic process that develops linearly. Increases\n",
    "    by velocity in every time period, but is bounded between 0 and 1.\n",
    "    \"\"\"\n",
    "\n",
    "    def __init__(self, start_value = 0, velocity = 0):\n",
    "        super().__init__(start_value)\n",
    "        self.velocity = velocity\n",
    "\n",
    "    def time_step(self):\n",
    "        self.value += self.velocity\n",
    "        if self.value < 0:\n",
    "            self.value = -self.value\n",
    "            self.velocity = -self.velocity\n",
    "        if self.value > 1:\n",
    "            self.value = 1 - (self.value - 1)\n",
    "            self.velocity = -self.velocity\n",
    "        super().time_step\n",
    "\n",
    "    def __str__(self):\n",
    "        return \" \" * int(self.value*20) + \"*\"\n",
    "\n",
    "class ARProcess(Process):\n",
    "    def __init__(self, alpha = 0.5, sigma = 1, start_value = 0):\n",
    "        super().__init__(start_value)\n",
    "        self.alpha = alpha\n",
    "        self.sigma = sigma\n",
    "\n",
    "    def time_step(self):\n",
    "        self.value = self.alpha * self.value + np.random.normal(scale = self.sigma)\n",
    "        super().time_step()\n",
    "\n",
    "    def __str__(self):\n",
    "        if self.value < 0:\n",
    "            s = \" \" * int(5 * (self.value + 3)) + \"*\" + \" \" * int(-self.value * 5) + \"|\"\n",
    "        elif self.value == 0:\n",
    "            s = \" \" * 15 + \"*\"\n",
    "        else:\n",
    "            s = \" \" * 15 + \"|\" + \" \" * int(5*self.value) + \"*\"\n",
    "        return s"
   ]
  },
  {
   "cell_type": "code",
   "execution_count": 144,
   "id": "59864aa3-8d32-4bdb-9ba2-0660b76dbca8",
   "metadata": {},
   "outputs": [],
   "source": [
    "class ProcessPlotter:\n",
    "    \"\"\"An object to display the history of a process\"\"\"\n",
    "    def __init__(self, process = None):\n",
    "        self.process = process\n",
    "\n",
    "    def plot(self):\n",
    "        pass"
   ]
  },
  {
   "cell_type": "code",
   "execution_count": 146,
   "id": "f0f86d19-11b3-42b0-9e3d-cac2f47974df",
   "metadata": {},
   "outputs": [],
   "source": [
    "class TextProcessPlotter(ProcessPlotter):\n",
    "    def plot(self):\n",
    "        upper = max(self.process.history)\n",
    "        lower = min(self.process.history)\n",
    "\n",
    "        for val in self.process.history:\n",
    "            print(\" \" * int(20 * (val - lower)/(upper - lower)) + \"*\")"
   ]
  },
  {
   "cell_type": "code",
   "execution_count": 150,
   "id": "ca700588-a301-43f5-896d-663e66c375f5",
   "metadata": {},
   "outputs": [
    {
     "name": "stdout",
     "output_type": "stream",
     "text": [
      "    *\n",
      "     *\n",
      "*\n",
      " *\n",
      "          *\n",
      "              *\n",
      "        *\n",
      "            *\n",
      "                    *\n",
      "              *\n"
     ]
    }
   ],
   "source": [
    "p1 = ARProcess(alpha = 0.9)\n",
    "plotter1 = TextProcessPlotter(p1)\n",
    "p1.simulate(10)\n",
    "plotter1.plot()"
   ]
  },
  {
   "cell_type": "code",
   "execution_count": 160,
   "id": "34a742ad-717f-46bd-a278-20ac42528b93",
   "metadata": {},
   "outputs": [
    {
     "name": "stdout",
     "output_type": "stream",
     "text": [
      "                    *\n",
      "                *\n",
      "                *\n",
      "            *\n",
      "             *\n",
      "             *\n",
      "               *\n",
      "             *\n",
      "          *\n",
      "        *\n",
      "  *\n",
      "  *\n",
      "*\n",
      "  *\n",
      "         *\n",
      "       *\n",
      "        *\n",
      "         *\n",
      "                *\n",
      "               *\n"
     ]
    }
   ],
   "source": [
    "p2 = RandomWalk()\n",
    "plotter2 = TextProcessPlotter(p2)\n",
    "p2.simulate()\n",
    "plotter2.plot()"
   ]
  },
  {
   "cell_type": "code",
   "execution_count": 164,
   "id": "33dc768f-8a01-4752-95c9-76fbd160a1fb",
   "metadata": {},
   "outputs": [],
   "source": [
    "import matplotlib\n",
    "%matplotlib inline\n",
    "\n",
    "class GraphicProcessPlotter(ProcessPlotter):\n",
    "    def plot(self):\n",
    "        matplotlib.pyplot.plot(self.process.history)\n",
    "        matplotlib.pyplot.title(\"Process Time Plot\")"
   ]
  },
  {
   "cell_type": "code",
   "execution_count": 167,
   "id": "3fa1ddc4-0bf1-446c-8bc2-831e1e15b939",
   "metadata": {},
   "outputs": [
    {
     "data": {
      "image/png": "[encoded data removed]",
      "text/plain": [
       "<Figure size 640x480 with 1 Axes>"
      ]
     },
     "metadata": {},
     "output_type": "display_data"
    }
   ],
   "source": [
    "plotter3 = GraphicProcessPlotter(p1)\n",
    "plotter3.plot()"
   ]
  },
  {
   "cell_type": "code",
   "execution_count": 170,
   "id": "a1976776-dc5c-4048-9345-b562b4c3fa67",
   "metadata": {},
   "outputs": [
    {
     "data": {
      "image/png": "[encoded data removed]",
      "text/plain": [
       "<Figure size 640x480 with 1 Axes>"
      ]
     },
     "metadata": {},
     "output_type": "display_data"
    }
   ],
   "source": [
    "plotter4 = GraphicProcessPlotter(p2)\n",
    "plotter4.plot()"
   ]
  },
  {
   "cell_type": "code",
   "execution_count": null,
   "id": "821c207f-120e-4726-8456-7620a494efd0",
   "metadata": {},
   "outputs": [],
   "source": []
  }
 ],
 "metadata": {
  "kernelspec": {
   "display_name": "Python 3 (ipykernel)",
   "language": "python",
   "name": "python3"
  },
  "language_info": {
   "codemirror_mode": {
    "name": "ipython",
    "version": 3
   },
   "file_extension": ".py",
   "mimetype": "text/x-python",
   "name": "python",
   "nbconvert_exporter": "python",
   "pygments_lexer": "ipython3",
   "version": "3.12.4"
  }
 },
 "nbformat": 4,
 "nbformat_minor": 5
}
