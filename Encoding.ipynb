{
 "cells": [
  {
   "cell_type": "code",
   "execution_count": 1,
   "metadata": {},
   "outputs": [],
   "source": [
    "# unicode\n",
    "import unicodedata\n",
    "\n",
    "def unicode_test(value):\n",
    "    name = unicodedata.name(value)\n",
    "    print(\"value=%s, name=%s\" % (value, name))"
   ]
  },
  {
   "cell_type": "code",
   "execution_count": 2,
   "metadata": {},
   "outputs": [
    {
     "name": "stdout",
     "output_type": "stream",
     "text": [
      "value=B, name=LATIN CAPITAL LETTER B\n"
     ]
    }
   ],
   "source": [
    "unicode_test(\"B\")"
   ]
  },
  {
   "cell_type": "code",
   "execution_count": 3,
   "metadata": {},
   "outputs": [
    {
     "name": "stdout",
     "output_type": "stream",
     "text": [
      "value=B, name=LATIN CAPITAL LETTER B\n"
     ]
    }
   ],
   "source": [
    "unicode_test(\"\\u0042\")"
   ]
  },
  {
   "cell_type": "code",
   "execution_count": 7,
   "metadata": {},
   "outputs": [
    {
     "name": "stdout",
     "output_type": "stream",
     "text": [
      "Great!\n",
      "Great!\n"
     ]
    }
   ],
   "source": [
    "print(\"Great!\")\n",
    "print(\"\\u0047\\u0072\\u0065\\u0061\\u0074\\u0021\")"
   ]
  },
  {
   "cell_type": "code",
   "execution_count": 6,
   "metadata": {},
   "outputs": [
    {
     "data": {
      "text/plain": [
       "True"
      ]
     },
     "execution_count": 6,
     "metadata": {},
     "output_type": "execute_result"
    }
   ],
   "source": [
    "\"Great!\" == \"\\u0047\\u0072\\u0065\\u0061\\u0074\\u0021\""
   ]
  },
  {
   "cell_type": "code",
   "execution_count": 9,
   "metadata": {},
   "outputs": [
    {
     "name": "stdout",
     "output_type": "stream",
     "text": [
      "value=B, name=LATIN CAPITAL LETTER B\n",
      "value=B, name=LATIN CAPITAL LETTER B\n"
     ]
    }
   ],
   "source": [
    "unicode_test(\"\\u0042\")\n",
    "unicode_test(\"\\N{LATIN CAPITAL LETTER B}\")"
   ]
  },
  {
   "cell_type": "code",
   "execution_count": 12,
   "metadata": {},
   "outputs": [
    {
     "name": "stdout",
     "output_type": "stream",
     "text": [
      "café\n",
      "café\n"
     ]
    }
   ],
   "source": [
    "place = \"caf\\u00e9\"\n",
    "print(place)\n",
    "print(\"café\")"
   ]
  },
  {
   "cell_type": "code",
   "execution_count": null,
   "metadata": {},
   "outputs": [],
   "source": []
  }
 ],
 "metadata": {
  "kernelspec": {
   "display_name": "base",
   "language": "python",
   "name": "python3"
  },
  "language_info": {
   "codemirror_mode": {
    "name": "ipython",
    "version": 3
   },
   "file_extension": ".py",
   "mimetype": "text/x-python",
   "name": "python",
   "nbconvert_exporter": "python",
   "pygments_lexer": "ipython3",
   "version": "3.12.4"
  }
 },
 "nbformat": 4,
 "nbformat_minor": 2
}
