{
 "cells": [
  {
   "cell_type": "code",
   "execution_count": 69,
   "id": "df6a166c-fb7d-4cfb-992e-d7a4f8038b5d",
   "metadata": {},
   "outputs": [
    {
     "data": {
      "text/plain": [
       "'Second Player'"
      ]
     },
     "execution_count": 69,
     "metadata": {},
     "output_type": "execute_result"
    }
   ],
   "source": [
    "def will_first_player_win(n, memo={}):\n",
    "    # Base case: If n is less than 1, the current player loses\n",
    "    if n < 1:\n",
    "        return False  # Current player loses\n",
    "\n",
    "    # If n is exactly 1, the current player does not lose immediately; opponent must move\n",
    "    if n == 1:\n",
    "        return True  # Current player wins, as the opponent must move and will lose\n",
    "\n",
    "    # If the result is already computed, return it from the memo dictionary\n",
    "    if n in memo:\n",
    "        return memo[n]\n",
    "\n",
    "    # Check the two possible moves\n",
    "    # Move 1: Subtract 1 from n\n",
    "    subtract_move = will_first_player_win(n - 1, memo)\n",
    "    if not subtract_move:\n",
    "        subtract_result = True\n",
    "    else:\n",
    "        subtract_result = False\n",
    "\n",
    "    # Move 2: Divide n by 2 if n is greater than 1\n",
    "    if n / 2 >= 1:\n",
    "        divide_move = will_first_player_win(n / 2, memo)\n",
    "        if not divide_move:\n",
    "            divide_result = True\n",
    "        else:\n",
    "            divide_result = False\n",
    "    else:\n",
    "        divide_result = False\n",
    "\n",
    "    # If either move results in the opponent losing, current player wins\n",
    "    result = subtract_result or divide_result\n",
    "\n",
    "    # Store the result in the memo dictionary\n",
    "    memo[n] = result\n",
    "    return result\n",
    "\n",
    "def find_winner(n):\n",
    "    return \"First Player\" if will_first_player_win(n) else \"Second Player\"\n",
    "\n",
    "find_winner(14)"
   ]
  },
  {
   "cell_type": "code",
   "execution_count": null,
   "id": "71a4f068-3c24-4f77-87bd-3406c68057b9",
   "metadata": {},
   "outputs": [],
   "source": []
  }
 ],
 "metadata": {
  "kernelspec": {
   "display_name": "Python 3 (ipykernel)",
   "language": "python",
   "name": "python3"
  },
  "language_info": {
   "codemirror_mode": {
    "name": "ipython",
    "version": 3
   },
   "file_extension": ".py",
   "mimetype": "text/x-python",
   "name": "python",
   "nbconvert_exporter": "python",
   "pygments_lexer": "ipython3",
   "version": "3.12.4"
  }
 },
 "nbformat": 4,
 "nbformat_minor": 5
}
