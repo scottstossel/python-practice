{
 "cells": [
  {
   "cell_type": "code",
   "execution_count": 2,
   "id": "420517a8-c0c2-48fa-8f72-a31bae13b6a8",
   "metadata": {},
   "outputs": [
    {
     "name": "stdout",
     "output_type": "stream",
     "text": [
      "3.12.4 | packaged by Anaconda, Inc. | (main, Jun 18 2024, 10:07:17) [Clang 14.0.6 ]\n"
     ]
    }
   ],
   "source": [
    "import sys\n",
    "print(sys.version)"
   ]
  },
  {
   "cell_type": "code",
   "execution_count": 4,
   "id": "a403c50c-5820-4136-93c5-5a63dacff1c2",
   "metadata": {},
   "outputs": [
    {
     "name": "stdout",
     "output_type": "stream",
     "text": [
      "1.26.4\n"
     ]
    }
   ],
   "source": [
    "import numpy as np\n",
    "print(np.__version__)"
   ]
  },
  {
   "cell_type": "code",
   "execution_count": 8,
   "id": "2b3fa2d1-d358-41c7-a224-21ef7ce71551",
   "metadata": {},
   "outputs": [
    {
     "data": {
      "text/plain": [
       "array([0, 1, 2, 3, 4, 5, 6, 7, 8, 9])"
      ]
     },
     "execution_count": 8,
     "metadata": {},
     "output_type": "execute_result"
    }
   ],
   "source": [
    "np.arange(10)"
   ]
  },
  {
   "cell_type": "code",
   "execution_count": 10,
   "id": "3f41040a-c203-4ae8-b6a3-c6e1244b96f5",
   "metadata": {},
   "outputs": [],
   "source": [
    "a = np.arange(10)"
   ]
  },
  {
   "cell_type": "code",
   "execution_count": 12,
   "id": "ed581a2c-6c27-4676-8864-b83b012f7250",
   "metadata": {},
   "outputs": [
    {
     "data": {
      "text/plain": [
       "4.5"
      ]
     },
     "execution_count": 12,
     "metadata": {},
     "output_type": "execute_result"
    }
   ],
   "source": [
    "a.mean()"
   ]
  },
  {
   "cell_type": "code",
   "execution_count": 14,
   "id": "d6c0f28a-3bf7-4f16-a1cf-b0591001fe7a",
   "metadata": {},
   "outputs": [
    {
     "data": {
      "text/plain": [
       "45"
      ]
     },
     "execution_count": 14,
     "metadata": {},
     "output_type": "execute_result"
    }
   ],
   "source": [
    "a.sum()"
   ]
  },
  {
   "cell_type": "code",
   "execution_count": 16,
   "id": "dc1b4722-1f13-4658-a1d5-1c60ea3d144f",
   "metadata": {},
   "outputs": [
    {
     "data": {
      "text/plain": [
       "0"
      ]
     },
     "execution_count": 16,
     "metadata": {},
     "output_type": "execute_result"
    }
   ],
   "source": [
    "a.min()"
   ]
  },
  {
   "cell_type": "code",
   "execution_count": 18,
   "id": "1e77c314-8fa8-47bd-8216-22b4b7209b57",
   "metadata": {},
   "outputs": [
    {
     "data": {
      "text/plain": [
       "2.8722813232690143"
      ]
     },
     "execution_count": 18,
     "metadata": {},
     "output_type": "execute_result"
    }
   ],
   "source": [
    "a.std()"
   ]
  },
  {
   "cell_type": "code",
   "execution_count": 30,
   "id": "ebb98c29-ea29-4543-86a5-fec211d97d3e",
   "metadata": {},
   "outputs": [
    {
     "name": "stdout",
     "output_type": "stream",
     "text": [
      "864 ns ± 4.74 ns per loop (mean ± std. dev. of 7 runs, 1,000,000 loops each)\n"
     ]
    }
   ],
   "source": [
    "%timeit list(x*x for x in a)"
   ]
  },
  {
   "cell_type": "code",
   "execution_count": 32,
   "id": "c5408821-99b2-4571-85ae-76934f2f3a1c",
   "metadata": {},
   "outputs": [
    {
     "name": "stdout",
     "output_type": "stream",
     "text": [
      "213 ns ± 2 ns per loop (mean ± std. dev. of 7 runs, 1,000,000 loops each)\n"
     ]
    }
   ],
   "source": [
    "%timeit a*a"
   ]
  },
  {
   "cell_type": "code",
   "execution_count": 34,
   "id": "26f05d91-8dad-4268-a68b-1bdbbe537c67",
   "metadata": {},
   "outputs": [
    {
     "data": {
      "text/plain": [
       "array([ 0,  1,  4,  9, 16, 25, 36, 49, 64, 81])"
      ]
     },
     "execution_count": 34,
     "metadata": {},
     "output_type": "execute_result"
    }
   ],
   "source": [
    "a * a"
   ]
  },
  {
   "cell_type": "code",
   "execution_count": 36,
   "id": "3726b827-2386-45e9-b9a7-cad37342bad0",
   "metadata": {},
   "outputs": [
    {
     "data": {
      "text/plain": [
       "[0, 1, 4, 9, 16, 25, 36, 49, 64, 81]"
      ]
     },
     "execution_count": 36,
     "metadata": {},
     "output_type": "execute_result"
    }
   ],
   "source": [
    "[x*x for x in a]"
   ]
  },
  {
   "cell_type": "code",
   "execution_count": 38,
   "id": "b665b680-8db2-4c9a-9ed0-5dd38d9a595a",
   "metadata": {},
   "outputs": [],
   "source": [
    "a = np.arange(20)"
   ]
  },
  {
   "cell_type": "code",
   "execution_count": 40,
   "id": "56e9f7dc-28e2-4971-a580-474628349561",
   "metadata": {},
   "outputs": [
    {
     "data": {
      "text/plain": [
       "array([ 0,  1,  2,  3,  4,  5,  6,  7,  8,  9, 10, 11, 12, 13, 14, 15, 16,\n",
       "       17, 18, 19])"
      ]
     },
     "execution_count": 40,
     "metadata": {},
     "output_type": "execute_result"
    }
   ],
   "source": [
    "a"
   ]
  },
  {
   "cell_type": "code",
   "execution_count": 42,
   "id": "284c32e4-3fb0-4129-acd5-d63390dd633d",
   "metadata": {},
   "outputs": [
    {
     "data": {
      "text/plain": [
       "[0, 2, 4, 6, 8, 10, 12, 14, 16, 18]"
      ]
     },
     "execution_count": 42,
     "metadata": {},
     "output_type": "execute_result"
    }
   ],
   "source": [
    "[x for x in a if x % 2 == 0]"
   ]
  },
  {
   "cell_type": "code",
   "execution_count": 44,
   "id": "6b0e7384-ec83-49ec-9e9d-be61f6735783",
   "metadata": {},
   "outputs": [
    {
     "data": {
      "text/plain": [
       "array([ 0,  2,  4,  6,  8, 10, 12, 14, 16, 18])"
      ]
     },
     "execution_count": 44,
     "metadata": {},
     "output_type": "execute_result"
    }
   ],
   "source": [
    "a[a % 2 == 0]"
   ]
  },
  {
   "cell_type": "code",
   "execution_count": 46,
   "id": "f36e5cb0-4db3-4b15-9f10-dde945c188a1",
   "metadata": {},
   "outputs": [
    {
     "data": {
      "text/plain": [
       "array([ True, False,  True, False,  True, False,  True, False,  True,\n",
       "       False,  True, False,  True, False,  True, False,  True, False,\n",
       "        True, False])"
      ]
     },
     "execution_count": 46,
     "metadata": {},
     "output_type": "execute_result"
    }
   ],
   "source": [
    "a % 2 == 0"
   ]
  },
  {
   "cell_type": "code",
   "execution_count": 48,
   "id": "91e06d91-9549-42b7-acac-8f071d9d2945",
   "metadata": {},
   "outputs": [
    {
     "data": {
      "text/plain": [
       "array([ True, False,  True, False,  True, False,  True, False,  True,\n",
       "       False,  True, False,  True, False,  True, False,  True, False,\n",
       "        True, False])"
      ]
     },
     "execution_count": 48,
     "metadata": {},
     "output_type": "execute_result"
    }
   ],
   "source": [
    "np.array(list(map(lambda x : x % 2 == 0, a)))"
   ]
  },
  {
   "cell_type": "code",
   "execution_count": 50,
   "id": "b5b846f2-0313-4f20-ae95-1ae5ac0ac1c3",
   "metadata": {},
   "outputs": [],
   "source": [
    "np2 = np.arange(20000)"
   ]
  },
  {
   "cell_type": "code",
   "execution_count": 52,
   "id": "a0cc8d3e-ab58-4252-9339-e18ffe6b8dc0",
   "metadata": {},
   "outputs": [
    {
     "name": "stdout",
     "output_type": "stream",
     "text": [
      "1.22 ms ± 3.19 μs per loop (mean ± std. dev. of 7 runs, 1,000 loops each)\n"
     ]
    }
   ],
   "source": [
    "%timeit [x for x in np2 if x %2 == 0]"
   ]
  },
  {
   "cell_type": "code",
   "execution_count": 54,
   "id": "f95dabfe-7dae-417c-877b-19a99e7fb7ac",
   "metadata": {},
   "outputs": [
    {
     "name": "stdout",
     "output_type": "stream",
     "text": [
      "CPU times: user 953 μs, sys: 927 μs, total: 1.88 ms\n",
      "Wall time: 909 μs\n"
     ]
    },
    {
     "data": {
      "text/plain": [
       "array([    0,     2,     4, ..., 19994, 19996, 19998])"
      ]
     },
     "execution_count": 54,
     "metadata": {},
     "output_type": "execute_result"
    }
   ],
   "source": [
    "%time np2[np2 % 2 == 0]"
   ]
  },
  {
   "cell_type": "code",
   "execution_count": 56,
   "id": "b573a130-c74c-4da2-ae0c-19c5e53b810c",
   "metadata": {},
   "outputs": [
    {
     "data": {
      "text/plain": [
       "array([ 0,  1,  2,  3,  4, 16, 17, 18, 19])"
      ]
     },
     "execution_count": 56,
     "metadata": {},
     "output_type": "execute_result"
    }
   ],
   "source": [
    "a[ (a > 15) | (a < 5)]"
   ]
  },
  {
   "cell_type": "code",
   "execution_count": 58,
   "id": "dc8e805c-73ae-47fc-ac3a-7f454fb6da99",
   "metadata": {},
   "outputs": [],
   "source": [
    "npa = np.arange(25)"
   ]
  },
  {
   "cell_type": "code",
   "execution_count": 60,
   "id": "269fadcf-4ddf-477c-b2ce-b3cef01cf398",
   "metadata": {},
   "outputs": [
    {
     "name": "stdout",
     "output_type": "stream",
     "text": [
      "<class 'numpy.ndarray'>\n"
     ]
    }
   ],
   "source": [
    "print(type(npa))"
   ]
  },
  {
   "cell_type": "code",
   "execution_count": 62,
   "id": "9d4e5183-0b5e-4400-a883-0f78eb5a4d00",
   "metadata": {},
   "outputs": [
    {
     "data": {
      "text/plain": [
       "dtype('int64')"
      ]
     },
     "execution_count": 62,
     "metadata": {},
     "output_type": "execute_result"
    }
   ],
   "source": [
    "npa.dtype"
   ]
  },
  {
   "cell_type": "code",
   "execution_count": 68,
   "id": "98de6838-c9c3-454a-8e9a-a790f5dc0f77",
   "metadata": {},
   "outputs": [
    {
     "data": {
      "text/plain": [
       "array([ 0.,  1.,  2.,  3.,  4.,  5.,  6.,  7.,  8.,  9., 10., 11., 12.,\n",
       "       13., 14., 15., 16., 17., 18., 19., 20., 21., 22., 23., 24.],\n",
       "      dtype=float32)"
      ]
     },
     "execution_count": 68,
     "metadata": {},
     "output_type": "execute_result"
    }
   ],
   "source": [
    "np.float32(npa)"
   ]
  },
  {
   "cell_type": "code",
   "execution_count": 66,
   "id": "92611629-5dd0-4251-afc2-80bd4c272e3c",
   "metadata": {},
   "outputs": [
    {
     "data": {
      "text/plain": [
       "25.0"
      ]
     },
     "execution_count": 66,
     "metadata": {},
     "output_type": "execute_result"
    }
   ],
   "source": [
    "np.float64(25)"
   ]
  },
  {
   "cell_type": "code",
   "execution_count": 70,
   "id": "2850be15-86df-4645-bf2a-daca8670f418",
   "metadata": {},
   "outputs": [
    {
     "data": {
      "text/plain": [
       "dtype('int64')"
      ]
     },
     "execution_count": 70,
     "metadata": {},
     "output_type": "execute_result"
    }
   ],
   "source": [
    "np.array(range(20)).dtype"
   ]
  },
  {
   "cell_type": "code",
   "execution_count": 72,
   "id": "8687808c-bbc3-4067-96b1-bc10bc57bfe1",
   "metadata": {},
   "outputs": [
    {
     "data": {
      "text/plain": [
       "dtype('float64')"
      ]
     },
     "execution_count": 72,
     "metadata": {},
     "output_type": "execute_result"
    }
   ],
   "source": [
    "np.array([1.0,0,2,3]).dtype"
   ]
  },
  {
   "cell_type": "code",
   "execution_count": 74,
   "id": "c478b0c1-2475-4a0b-a88c-9f7c17513c45",
   "metadata": {},
   "outputs": [
    {
     "data": {
      "text/plain": [
       "dtype('float64')"
      ]
     },
     "execution_count": 74,
     "metadata": {},
     "output_type": "execute_result"
    }
   ],
   "source": [
    "np.array([True, 2, 2.0]).dtype"
   ]
  },
  {
   "cell_type": "code",
   "execution_count": 84,
   "id": "2a73ac9b-af25-4efe-8154-b23864ce2421",
   "metadata": {},
   "outputs": [
    {
     "data": {
      "text/plain": [
       "array([1, 2, 2], dtype=uint64)"
      ]
     },
     "execution_count": 84,
     "metadata": {},
     "output_type": "execute_result"
    }
   ],
   "source": [
    "np.array([True, 2, 2.0], dtype='uint')"
   ]
  },
  {
   "cell_type": "code",
   "execution_count": 86,
   "id": "91002d1a-911c-4884-a9c0-59f353a42b03",
   "metadata": {},
   "outputs": [
    {
     "data": {
      "text/plain": [
       "array([ 0,  1,  2,  3,  4,  5,  6,  7,  8,  9, 10, 11, 12, 13, 14, 15, 16,\n",
       "       17, 18, 19, 20, 21, 22, 23, 24])"
      ]
     },
     "execution_count": 86,
     "metadata": {},
     "output_type": "execute_result"
    }
   ],
   "source": [
    "npa"
   ]
  },
  {
   "cell_type": "code",
   "execution_count": 90,
   "id": "c0acff15-b9b9-4736-b486-7be3fe00bc54",
   "metadata": {},
   "outputs": [
    {
     "data": {
      "text/plain": [
       "25"
      ]
     },
     "execution_count": 90,
     "metadata": {},
     "output_type": "execute_result"
    }
   ],
   "source": [
    "npa.size"
   ]
  },
  {
   "cell_type": "code",
   "execution_count": 92,
   "id": "07a63725-58ca-4cf2-80b9-8c8679acb949",
   "metadata": {},
   "outputs": [
    {
     "data": {
      "text/plain": [
       "(25,)"
      ]
     },
     "execution_count": 92,
     "metadata": {},
     "output_type": "execute_result"
    }
   ],
   "source": [
    "npa.shape"
   ]
  },
  {
   "cell_type": "code",
   "execution_count": 94,
   "id": "2d460805-7370-42d7-9c3a-1d09cb73baf1",
   "metadata": {},
   "outputs": [
    {
     "data": {
      "text/plain": [
       "0"
      ]
     },
     "execution_count": 94,
     "metadata": {},
     "output_type": "execute_result"
    }
   ],
   "source": [
    "npa.argmin()"
   ]
  },
  {
   "cell_type": "code",
   "execution_count": 96,
   "id": "6546dc3b-8c51-4494-99d6-28e7bc5e6eca",
   "metadata": {},
   "outputs": [
    {
     "data": {
      "text/plain": [
       "24"
      ]
     },
     "execution_count": 96,
     "metadata": {},
     "output_type": "execute_result"
    }
   ],
   "source": [
    "npa.argmax()"
   ]
  },
  {
   "cell_type": "code",
   "execution_count": 98,
   "id": "3f2ca248-793f-496b-8f49-a4d74edfeb52",
   "metadata": {},
   "outputs": [
    {
     "data": {
      "text/plain": [
       "array([ 0,  2,  4,  6,  8, 10, 12, 14, 16, 18])"
      ]
     },
     "execution_count": 98,
     "metadata": {},
     "output_type": "execute_result"
    }
   ],
   "source": [
    "np.arange(0,20,2)"
   ]
  },
  {
   "cell_type": "code",
   "execution_count": 100,
   "id": "30ba694b-a34a-472f-9ad5-3110f76a6b48",
   "metadata": {},
   "outputs": [
    {
     "data": {
      "text/plain": [
       "array([1.  , 1.25, 1.5 , 1.75, 2.  ])"
      ]
     },
     "execution_count": 100,
     "metadata": {},
     "output_type": "execute_result"
    }
   ],
   "source": [
    "np.linspace(1,2,5)"
   ]
  },
  {
   "cell_type": "code",
   "execution_count": 104,
   "id": "3934e6c8-c327-451d-9003-97334a4773df",
   "metadata": {},
   "outputs": [
    {
     "data": {
      "text/plain": [
       "array([ 0,  1,  2,  3,  4,  5,  6,  7,  8,  9, 10])"
      ]
     },
     "execution_count": 104,
     "metadata": {},
     "output_type": "execute_result"
    }
   ],
   "source": [
    "np.linspace(0,10,11).astype('int')"
   ]
  },
  {
   "cell_type": "code",
   "execution_count": 106,
   "id": "5bda2b23-0acb-436a-8da2-6aae5b5e17e1",
   "metadata": {},
   "outputs": [
    {
     "name": "stderr",
     "output_type": "stream",
     "text": [
      "/var/folders/y4/kt57fxd942z3zncr4rvv6t740000gn/T/ipykernel_7827/3991392179.py:1: RuntimeWarning: invalid value encountered in divide\n",
      "  problem = np.array([0.])/np.array([0.])\n"
     ]
    }
   ],
   "source": [
    "problem = np.array([0.])/np.array([0.])"
   ]
  },
  {
   "cell_type": "code",
   "execution_count": 108,
   "id": "cbbc1bfd-c666-4042-a837-c3dfe1d3ab87",
   "metadata": {},
   "outputs": [
    {
     "data": {
      "text/plain": [
       "array([nan])"
      ]
     },
     "execution_count": 108,
     "metadata": {},
     "output_type": "execute_result"
    }
   ],
   "source": [
    "problem"
   ]
  },
  {
   "cell_type": "code",
   "execution_count": 110,
   "id": "c0d7dd16-352b-424f-bc86-99de608bdce6",
   "metadata": {},
   "outputs": [
    {
     "data": {
      "text/plain": [
       "nan"
      ]
     },
     "execution_count": 110,
     "metadata": {},
     "output_type": "execute_result"
    }
   ],
   "source": [
    "np.nan"
   ]
  },
  {
   "cell_type": "code",
   "execution_count": 116,
   "id": "b3eb882f-c42b-4f8f-8ae0-0117bf997b25",
   "metadata": {},
   "outputs": [
    {
     "data": {
      "text/plain": [
       "(nan, nan, nan)"
      ]
     },
     "execution_count": 116,
     "metadata": {},
     "output_type": "execute_result"
    }
   ],
   "source": [
    "ar = np.linspace(0,10,11)\n",
    "ar\n",
    "ar[0] = np.nan\n",
    "ar\n",
    "ar.min(), ar.max(), ar.mean()"
   ]
  },
  {
   "cell_type": "code",
   "execution_count": 118,
   "id": "6b144375-5f23-47d3-8d86-51d7c3497288",
   "metadata": {},
   "outputs": [
    {
     "name": "stdout",
     "output_type": "stream",
     "text": [
      "3.12.4 | packaged by Anaconda, Inc. | (main, Jun 18 2024, 10:07:17) [Clang 14.0.6 ]\n",
      "1.26.4\n"
     ]
    }
   ],
   "source": [
    "import sys\n",
    "print(sys.version)\n",
    "import numpy as np\n",
    "print(np.__version__)"
   ]
  },
  {
   "cell_type": "code",
   "execution_count": 130,
   "id": "5948dbc6-bd3d-4606-a7e9-a1a768a7cb84",
   "metadata": {},
   "outputs": [
    {
     "name": "stderr",
     "output_type": "stream",
     "text": [
      "/var/folders/y4/kt57fxd942z3zncr4rvv6t740000gn/T/ipykernel_7827/19388003.py:2: DeprecationWarning: This function is deprecated. Please call randint(0, 50 + 1) instead\n",
      "  npa = np.random.random_integers(0,50,20)\n"
     ]
    }
   ],
   "source": [
    "np.random.seed(20)\n",
    "npa = np.random.random_integers(0,50,20)"
   ]
  },
  {
   "cell_type": "code",
   "execution_count": 132,
   "id": "53e97285-f746-49e1-9ab2-ba30bf08ebb1",
   "metadata": {},
   "outputs": [
    {
     "data": {
      "text/plain": [
       "array([35, 26, 15, 31, 28, 26,  9, 20, 11, 22,  7, 34, 32, 40, 21, 26, 26,\n",
       "       19, 16, 38])"
      ]
     },
     "execution_count": 132,
     "metadata": {},
     "output_type": "execute_result"
    }
   ],
   "source": [
    "npa"
   ]
  },
  {
   "cell_type": "code",
   "execution_count": 134,
   "id": "a39bf472-a3ee-45ad-b4ef-a1538c39485a",
   "metadata": {},
   "outputs": [
    {
     "data": {
      "text/plain": [
       "array([70, 52, 30, 62, 56, 52, 18, 40, 22, 44, 14, 68, 64, 80, 42, 52, 52,\n",
       "       38, 32, 76])"
      ]
     },
     "execution_count": 134,
     "metadata": {},
     "output_type": "execute_result"
    }
   ],
   "source": [
    "npa * 2"
   ]
  },
  {
   "cell_type": "code",
   "execution_count": 136,
   "id": "3c64e769-96a3-4bfc-9de8-656e5f7dfe8e",
   "metadata": {},
   "outputs": [
    {
     "data": {
      "text/plain": [
       "array([2251875390625,  208827064576,    2562890625,  852891037441,\n",
       "        377801998336,  208827064576,      43046721,   25600000000,\n",
       "           214358881,   54875873536,       5764801, 1785793904896,\n",
       "       1099511627776, 6553600000000,   37822859361,  208827064576,\n",
       "        208827064576,   16983563041,    4294967296, 4347792138496])"
      ]
     },
     "execution_count": 136,
     "metadata": {},
     "output_type": "execute_result"
    }
   ],
   "source": [
    "npa ** 2 ** 3"
   ]
  },
  {
   "cell_type": "code",
   "execution_count": 139,
   "id": "195f2ae4-59ed-49b6-9d0c-94b52b164193",
   "metadata": {},
   "outputs": [],
   "source": [
    "def transformation(val):\n",
    "    return ((val * 2) - 1)"
   ]
  },
  {
   "cell_type": "code",
   "execution_count": 141,
   "id": "9606f7bc-c887-4db0-99e8-f36dfd1e31d7",
   "metadata": {},
   "outputs": [
    {
     "data": {
      "text/plain": [
       "5"
      ]
     },
     "execution_count": 141,
     "metadata": {},
     "output_type": "execute_result"
    }
   ],
   "source": [
    "transformation(3)"
   ]
  },
  {
   "cell_type": "code",
   "execution_count": 143,
   "id": "4d54dfe3-b2f1-4cd7-91bf-5fcfa9eab130",
   "metadata": {},
   "outputs": [
    {
     "data": {
      "text/plain": [
       "3"
      ]
     },
     "execution_count": 143,
     "metadata": {},
     "output_type": "execute_result"
    }
   ],
   "source": [
    "transformation(2)"
   ]
  },
  {
   "cell_type": "code",
   "execution_count": 145,
   "id": "267123ac-c05c-4930-8d95-c591493e80a8",
   "metadata": {},
   "outputs": [
    {
     "data": {
      "text/plain": [
       "array([69, 51, 29, 61, 55, 51, 17, 39, 21, 43, 13, 67, 63, 79, 41, 51, 51,\n",
       "       37, 31, 75])"
      ]
     },
     "execution_count": 145,
     "metadata": {},
     "output_type": "execute_result"
    }
   ],
   "source": [
    "transformation(npa)"
   ]
  },
  {
   "cell_type": "code",
   "execution_count": 147,
   "id": "100312d9-abd6-4cd6-b65f-d5f17a4879ca",
   "metadata": {},
   "outputs": [],
   "source": [
    "transform_2 = np.vectorize(transformation)"
   ]
  },
  {
   "cell_type": "code",
   "execution_count": 149,
   "id": "fbfeb79b-6bbb-4abf-a582-6748e0dd00d1",
   "metadata": {},
   "outputs": [
    {
     "data": {
      "text/plain": [
       "array([69, 51, 29, 61, 55, 51, 17, 39, 21, 43, 13, 67, 63, 79, 41, 51, 51,\n",
       "       37, 31, 75])"
      ]
     },
     "execution_count": 149,
     "metadata": {},
     "output_type": "execute_result"
    }
   ],
   "source": [
    "transform_2(npa)"
   ]
  },
  {
   "cell_type": "code",
   "execution_count": 151,
   "id": "1638d02c-7ab9-4336-96cc-461478d48ec4",
   "metadata": {},
   "outputs": [
    {
     "name": "stdout",
     "output_type": "stream",
     "text": [
      "2.02 μs ± 27.9 ns per loop (mean ± std. dev. of 7 runs, 100,000 loops each)\n"
     ]
    }
   ],
   "source": [
    "%timeit [transformation(x) for x in npa]"
   ]
  },
  {
   "cell_type": "code",
   "execution_count": 153,
   "id": "d2dc5817-d665-4f92-b466-f757754a887a",
   "metadata": {},
   "outputs": [
    {
     "name": "stdout",
     "output_type": "stream",
     "text": [
      "3.25 μs ± 52.5 ns per loop (mean ± std. dev. of 7 runs, 100,000 loops each)\n"
     ]
    }
   ],
   "source": [
    "%timeit transform_2(npa)"
   ]
  },
  {
   "cell_type": "code",
   "execution_count": 155,
   "id": "edda7649-17e5-4929-bcc5-02b7660bd033",
   "metadata": {},
   "outputs": [],
   "source": [
    "npa = np.arange(25)"
   ]
  },
  {
   "cell_type": "code",
   "execution_count": 157,
   "id": "26e2ba62-bc9b-4587-9582-8a3dd68c2c39",
   "metadata": {},
   "outputs": [],
   "source": [
    "npa2 = npa.reshape((5,5))"
   ]
  },
  {
   "cell_type": "code",
   "execution_count": 159,
   "id": "36c2236b-436a-40a7-8760-10ff7d3838e0",
   "metadata": {},
   "outputs": [
    {
     "data": {
      "text/plain": [
       "array([[ 0,  1,  2,  3,  4],\n",
       "       [ 5,  6,  7,  8,  9],\n",
       "       [10, 11, 12, 13, 14],\n",
       "       [15, 16, 17, 18, 19],\n",
       "       [20, 21, 22, 23, 24]])"
      ]
     },
     "execution_count": 159,
     "metadata": {},
     "output_type": "execute_result"
    }
   ],
   "source": [
    "npa2"
   ]
  },
  {
   "cell_type": "code",
   "execution_count": 165,
   "id": "64e4e47f-4fa2-4adf-a9ed-3bd47fa29afa",
   "metadata": {},
   "outputs": [
    {
     "data": {
      "text/plain": [
       "array([[0., 0.],\n",
       "       [0., 0.],\n",
       "       [0., 0.],\n",
       "       [0., 0.],\n",
       "       [0., 0.]])"
      ]
     },
     "execution_count": 165,
     "metadata": {},
     "output_type": "execute_result"
    }
   ],
   "source": [
    "np.zeros((5,2))"
   ]
  },
  {
   "cell_type": "code",
   "execution_count": 167,
   "id": "760cd4e9-36f7-4e05-820c-6f1f124b1f28",
   "metadata": {},
   "outputs": [
    {
     "data": {
      "text/plain": [
       "array([[0., 0., 0., 0., 0.],\n",
       "       [0., 0., 0., 0., 0.],\n",
       "       [0., 0., 0., 0., 0.],\n",
       "       [0., 0., 0., 0., 0.],\n",
       "       [0., 0., 0., 0., 0.]])"
      ]
     },
     "execution_count": 167,
     "metadata": {},
     "output_type": "execute_result"
    }
   ],
   "source": [
    "np.zeros((5,5))"
   ]
  },
  {
   "cell_type": "code",
   "execution_count": 171,
   "id": "36e1794d-3e22-4e29-9c3b-8f9b7eedf9f5",
   "metadata": {},
   "outputs": [
    {
     "data": {
      "text/plain": [
       "array([[0., 0., 0., 0., 0.],\n",
       "       [0., 0., 0., 0., 0.],\n",
       "       [0., 0., 0., 0., 0.],\n",
       "       [0., 0., 0., 0., 0.],\n",
       "       [0., 0., 0., 0., 0.]])"
      ]
     },
     "execution_count": 171,
     "metadata": {},
     "output_type": "execute_result"
    }
   ],
   "source": [
    "np.zeros(npa2.shape)"
   ]
  },
  {
   "cell_type": "code",
   "execution_count": 173,
   "id": "ae5ef510-64ef-48b6-928f-8fb09dca696c",
   "metadata": {},
   "outputs": [
    {
     "data": {
      "text/plain": [
       "(5, 5)"
      ]
     },
     "execution_count": 173,
     "metadata": {},
     "output_type": "execute_result"
    }
   ],
   "source": [
    "npa2.shape"
   ]
  },
  {
   "cell_type": "code",
   "execution_count": 175,
   "id": "6856e887-66a0-4bfc-aefb-e9d132597684",
   "metadata": {},
   "outputs": [
    {
     "data": {
      "text/plain": [
       "array([[[0, 1],\n",
       "        [2, 3]],\n",
       "\n",
       "       [[4, 5],\n",
       "        [6, 7]]])"
      ]
     },
     "execution_count": 175,
     "metadata": {},
     "output_type": "execute_result"
    }
   ],
   "source": [
    "np.arange(8).reshape(2,2,2)"
   ]
  },
  {
   "cell_type": "code",
   "execution_count": 177,
   "id": "b2a15858-d76d-4ed3-a967-bec9088d7c6e",
   "metadata": {},
   "outputs": [
    {
     "data": {
      "text/plain": [
       "array([[[[0., 0., 0., 0.],\n",
       "         [0., 0., 0., 0.],\n",
       "         [0., 0., 0., 0.],\n",
       "         [0., 0., 0., 0.]],\n",
       "\n",
       "        [[0., 0., 0., 0.],\n",
       "         [0., 0., 0., 0.],\n",
       "         [0., 0., 0., 0.],\n",
       "         [0., 0., 0., 0.]],\n",
       "\n",
       "        [[0., 0., 0., 0.],\n",
       "         [0., 0., 0., 0.],\n",
       "         [0., 0., 0., 0.],\n",
       "         [0., 0., 0., 0.]],\n",
       "\n",
       "        [[0., 0., 0., 0.],\n",
       "         [0., 0., 0., 0.],\n",
       "         [0., 0., 0., 0.],\n",
       "         [0., 0., 0., 0.]]],\n",
       "\n",
       "\n",
       "       [[[0., 0., 0., 0.],\n",
       "         [0., 0., 0., 0.],\n",
       "         [0., 0., 0., 0.],\n",
       "         [0., 0., 0., 0.]],\n",
       "\n",
       "        [[0., 0., 0., 0.],\n",
       "         [0., 0., 0., 0.],\n",
       "         [0., 0., 0., 0.],\n",
       "         [0., 0., 0., 0.]],\n",
       "\n",
       "        [[0., 0., 0., 0.],\n",
       "         [0., 0., 0., 0.],\n",
       "         [0., 0., 0., 0.],\n",
       "         [0., 0., 0., 0.]],\n",
       "\n",
       "        [[0., 0., 0., 0.],\n",
       "         [0., 0., 0., 0.],\n",
       "         [0., 0., 0., 0.],\n",
       "         [0., 0., 0., 0.]]],\n",
       "\n",
       "\n",
       "       [[[0., 0., 0., 0.],\n",
       "         [0., 0., 0., 0.],\n",
       "         [0., 0., 0., 0.],\n",
       "         [0., 0., 0., 0.]],\n",
       "\n",
       "        [[0., 0., 0., 0.],\n",
       "         [0., 0., 0., 0.],\n",
       "         [0., 0., 0., 0.],\n",
       "         [0., 0., 0., 0.]],\n",
       "\n",
       "        [[0., 0., 0., 0.],\n",
       "         [0., 0., 0., 0.],\n",
       "         [0., 0., 0., 0.],\n",
       "         [0., 0., 0., 0.]],\n",
       "\n",
       "        [[0., 0., 0., 0.],\n",
       "         [0., 0., 0., 0.],\n",
       "         [0., 0., 0., 0.],\n",
       "         [0., 0., 0., 0.]]],\n",
       "\n",
       "\n",
       "       [[[0., 0., 0., 0.],\n",
       "         [0., 0., 0., 0.],\n",
       "         [0., 0., 0., 0.],\n",
       "         [0., 0., 0., 0.]],\n",
       "\n",
       "        [[0., 0., 0., 0.],\n",
       "         [0., 0., 0., 0.],\n",
       "         [0., 0., 0., 0.],\n",
       "         [0., 0., 0., 0.]],\n",
       "\n",
       "        [[0., 0., 0., 0.],\n",
       "         [0., 0., 0., 0.],\n",
       "         [0., 0., 0., 0.],\n",
       "         [0., 0., 0., 0.]],\n",
       "\n",
       "        [[0., 0., 0., 0.],\n",
       "         [0., 0., 0., 0.],\n",
       "         [0., 0., 0., 0.],\n",
       "         [0., 0., 0., 0.]]]])"
      ]
     },
     "execution_count": 177,
     "metadata": {},
     "output_type": "execute_result"
    }
   ],
   "source": [
    "np.zeros((4,4,4,4))"
   ]
  },
  {
   "cell_type": "code",
   "execution_count": 179,
   "id": "7b859892-b57c-4dcc-a4d2-86bfb515dd9a",
   "metadata": {},
   "outputs": [],
   "source": [
    "np.random.seed(10)"
   ]
  },
  {
   "cell_type": "code",
   "execution_count": 217,
   "id": "68a41a0d-955f-45ad-95a8-d2bd2c1481ab",
   "metadata": {},
   "outputs": [
    {
     "name": "stderr",
     "output_type": "stream",
     "text": [
      "/var/folders/y4/kt57fxd942z3zncr4rvv6t740000gn/T/ipykernel_7827/3543292635.py:1: DeprecationWarning: This function is deprecated. Please call randint(1, 10 + 1) instead\n",
      "  npa2 = np.random.random_integers(1,10,25).reshape(5,5)\n"
     ]
    },
    {
     "data": {
      "text/plain": [
       "array([[ 5,  8,  9,  9,  3],\n",
       "       [ 7,  3,  9,  9,  7],\n",
       "       [ 7,  6,  7,  1,  1],\n",
       "       [ 7, 10,  2,  9, 10],\n",
       "       [ 2,  3,  9, 10, 10]])"
      ]
     },
     "execution_count": 217,
     "metadata": {},
     "output_type": "execute_result"
    }
   ],
   "source": [
    "npa2 = np.random.random_integers(1,10,25).reshape(5,5)\n",
    "npa2"
   ]
  },
  {
   "cell_type": "code",
   "execution_count": 183,
   "id": "6b6a66c5-3f33-48d8-ad66-c8a3b69bcff1",
   "metadata": {},
   "outputs": [
    {
     "name": "stderr",
     "output_type": "stream",
     "text": [
      "/var/folders/y4/kt57fxd942z3zncr4rvv6t740000gn/T/ipykernel_7827/2766334575.py:1: DeprecationWarning: This function is deprecated. Please call randint(1, 10 + 1) instead\n",
      "  npa3 = np.random.random_integers(1,10,25).reshape(5,5)\n"
     ]
    },
    {
     "data": {
      "text/plain": [
       "array([[ 4, 10,  7, 10,  2],\n",
       "       [10,  5,  3,  7,  8],\n",
       "       [ 9,  9, 10,  3,  1],\n",
       "       [ 7,  8,  9,  2,  8],\n",
       "       [ 2,  5,  1,  9,  6]])"
      ]
     },
     "execution_count": 183,
     "metadata": {},
     "output_type": "execute_result"
    }
   ],
   "source": [
    "npa3 = np.random.random_integers(1,10,25).reshape(5,5)\n",
    "npa3"
   ]
  },
  {
   "cell_type": "code",
   "execution_count": 185,
   "id": "97d9ed59-88ac-403b-80b0-9bfa4ce045bb",
   "metadata": {},
   "outputs": [
    {
     "data": {
      "text/plain": [
       "array([[20, 10,  2,  4, 20],\n",
       "       [ 2,  4, 18, 20,  2],\n",
       "       [18, 14, 10,  8,  2],\n",
       "       [10, 14, 18,  4, 18],\n",
       "       [10,  4,  8, 14, 12]])"
      ]
     },
     "execution_count": 185,
     "metadata": {},
     "output_type": "execute_result"
    }
   ],
   "source": [
    "npa2 * 2"
   ]
  },
  {
   "cell_type": "code",
   "execution_count": 189,
   "id": "7f0cbbde-e38b-4eb5-9ba2-72c5e7338db6",
   "metadata": {},
   "outputs": [
    {
     "data": {
      "text/plain": [
       "12"
      ]
     },
     "execution_count": 189,
     "metadata": {},
     "output_type": "execute_result"
    }
   ],
   "source": [
    "(npa2 < npa3).sum()"
   ]
  },
  {
   "cell_type": "code",
   "execution_count": 191,
   "id": "ad9a41f8-6f29-4e36-8472-55f426f48c85",
   "metadata": {},
   "outputs": [
    {
     "data": {
      "text/plain": [
       "1"
      ]
     },
     "execution_count": 191,
     "metadata": {},
     "output_type": "execute_result"
    }
   ],
   "source": [
    "npa2.min()"
   ]
  },
  {
   "cell_type": "code",
   "execution_count": 193,
   "id": "84f475f8-8d48-4bae-b6b8-5856fd351d5b",
   "metadata": {},
   "outputs": [
    {
     "data": {
      "text/plain": [
       "array([10, 10, 10,  9,  9])"
      ]
     },
     "execution_count": 193,
     "metadata": {},
     "output_type": "execute_result"
    }
   ],
   "source": [
    "npa3.max(axis=1)"
   ]
  },
  {
   "cell_type": "code",
   "execution_count": 195,
   "id": "a35a4b48-93f7-447a-a610-58d45def167f",
   "metadata": {},
   "outputs": [
    {
     "data": {
      "text/plain": [
       "array([2, 5, 1, 2, 1])"
      ]
     },
     "execution_count": 195,
     "metadata": {},
     "output_type": "execute_result"
    }
   ],
   "source": [
    "npa3.min(axis=0)"
   ]
  },
  {
   "cell_type": "code",
   "execution_count": 201,
   "id": "bc32bdfe-cbfa-46b5-a488-345cfa47a988",
   "metadata": {},
   "outputs": [
    {
     "data": {
      "text/plain": [
       "array([[ True,  True,  True,  True,  True],\n",
       "       [ True,  True,  True,  True,  True],\n",
       "       [ True,  True,  True,  True,  True],\n",
       "       [ True,  True,  True,  True,  True],\n",
       "       [ True,  True,  True,  True,  True]])"
      ]
     },
     "execution_count": 201,
     "metadata": {},
     "output_type": "execute_result"
    }
   ],
   "source": [
    "npa2.transpose() == npa2.T"
   ]
  },
  {
   "cell_type": "code",
   "execution_count": 199,
   "id": "4635da1d-ae8c-46dd-8600-74102f60064d",
   "metadata": {},
   "outputs": [
    {
     "data": {
      "text/plain": [
       "array([[10,  1,  9,  5,  5],\n",
       "       [ 5,  2,  7,  7,  2],\n",
       "       [ 1,  9,  5,  9,  4],\n",
       "       [ 2, 10,  4,  2,  7],\n",
       "       [10,  1,  1,  9,  6]])"
      ]
     },
     "execution_count": 199,
     "metadata": {},
     "output_type": "execute_result"
    }
   ],
   "source": [
    "npa2.T"
   ]
  },
  {
   "cell_type": "code",
   "execution_count": 203,
   "id": "9f845f8e-d0a6-4620-991f-71d2d4134c6c",
   "metadata": {},
   "outputs": [
    {
     "data": {
      "text/plain": [
       "(array([[10,  5,  1,  2, 10],\n",
       "        [ 1,  2,  9, 10,  1],\n",
       "        [ 9,  7,  5,  4,  1],\n",
       "        [ 5,  7,  9,  2,  9],\n",
       "        [ 5,  2,  4,  7,  6]]),\n",
       " array([[ 4, 10,  7, 10,  2],\n",
       "        [10,  5,  3,  7,  8],\n",
       "        [ 9,  9, 10,  3,  1],\n",
       "        [ 7,  8,  9,  2,  8],\n",
       "        [ 2,  5,  1,  9,  6]]))"
      ]
     },
     "execution_count": 203,
     "metadata": {},
     "output_type": "execute_result"
    }
   ],
   "source": [
    "npa2, npa3"
   ]
  },
  {
   "cell_type": "code",
   "execution_count": 205,
   "id": "c63cc80d-78e6-4b2a-9211-082cb1f97cac",
   "metadata": {},
   "outputs": [
    {
     "data": {
      "text/plain": [
       "array([[40, 50,  7, 20, 20],\n",
       "       [10, 10, 27, 70,  8],\n",
       "       [81, 63, 50, 12,  1],\n",
       "       [35, 56, 81,  4, 72],\n",
       "       [10, 10,  4, 63, 36]])"
      ]
     },
     "execution_count": 205,
     "metadata": {},
     "output_type": "execute_result"
    }
   ],
   "source": [
    "npa2 * npa3"
   ]
  },
  {
   "cell_type": "code",
   "execution_count": 219,
   "id": "536a2c0f-691e-4a50-94e5-8f0d9f9a4232",
   "metadata": {},
   "outputs": [
    {
     "data": {
      "text/plain": [
       "array([ 5,  8,  9,  9,  3,  7,  3,  9,  9,  7,  7,  6,  7,  1,  1,  7, 10,\n",
       "        2,  9, 10,  2,  3,  9, 10, 10])"
      ]
     },
     "execution_count": 219,
     "metadata": {},
     "output_type": "execute_result"
    }
   ],
   "source": [
    "np2 = npa2.flatten()\n",
    "np2"
   ]
  },
  {
   "cell_type": "code",
   "execution_count": 221,
   "id": "35a84471-d104-49f1-b42f-a1461b7cc503",
   "metadata": {},
   "outputs": [],
   "source": [
    "np2[0] = 25"
   ]
  },
  {
   "cell_type": "code",
   "execution_count": 223,
   "id": "a2745271-e8e5-4352-aea6-4f74bebc230c",
   "metadata": {},
   "outputs": [
    {
     "data": {
      "text/plain": [
       "array([[ 5,  8,  9,  9,  3],\n",
       "       [ 7,  3,  9,  9,  7],\n",
       "       [ 7,  6,  7,  1,  1],\n",
       "       [ 7, 10,  2,  9, 10],\n",
       "       [ 2,  3,  9, 10, 10]])"
      ]
     },
     "execution_count": 223,
     "metadata": {},
     "output_type": "execute_result"
    }
   ],
   "source": [
    "npa2"
   ]
  },
  {
   "cell_type": "markdown",
   "id": "60189f63-30d4-4aa8-b87e-65cbd6374781",
   "metadata": {},
   "source": [
    "np2"
   ]
  },
  {
   "cell_type": "code",
   "execution_count": 227,
   "id": "1f48ca4e-f77b-44e5-bf7b-5e42dfded537",
   "metadata": {},
   "outputs": [],
   "source": [
    "raveled = npa2.ravel()"
   ]
  },
  {
   "cell_type": "code",
   "execution_count": 229,
   "id": "7f7a68c8-eb42-4671-952c-5acc5cc104f8",
   "metadata": {},
   "outputs": [
    {
     "data": {
      "text/plain": [
       "array([ 5,  8,  9,  9,  3,  7,  3,  9,  9,  7,  7,  6,  7,  1,  1,  7, 10,\n",
       "        2,  9, 10,  2,  3,  9, 10, 10])"
      ]
     },
     "execution_count": 229,
     "metadata": {},
     "output_type": "execute_result"
    }
   ],
   "source": [
    "raveled"
   ]
  },
  {
   "cell_type": "code",
   "execution_count": 231,
   "id": "cfb6573e-1ae0-4fe5-9ce6-59b6c577cccd",
   "metadata": {},
   "outputs": [
    {
     "data": {
      "text/plain": [
       "array([[25,  8,  9,  9,  3],\n",
       "       [ 7,  3,  9,  9,  7],\n",
       "       [ 7,  6,  7,  1,  1],\n",
       "       [ 7, 10,  2,  9, 10],\n",
       "       [ 2,  3,  9, 10, 10]])"
      ]
     },
     "execution_count": 231,
     "metadata": {},
     "output_type": "execute_result"
    }
   ],
   "source": [
    "raveled[0] = 25\n",
    "npa2"
   ]
  },
  {
   "cell_type": "code",
   "execution_count": 233,
   "id": "fa9c9716-86c7-40ea-9ec5-693eb6b4a838",
   "metadata": {},
   "outputs": [
    {
     "data": {
      "text/plain": [
       "array([ 25,  33,  42,  51,  54,  61,  64,  73,  82,  89,  96, 102, 109,\n",
       "       110, 111, 118, 128, 130, 139, 149, 151, 154, 163, 173, 183])"
      ]
     },
     "execution_count": 233,
     "metadata": {},
     "output_type": "execute_result"
    }
   ],
   "source": [
    "npa2.cumsum()"
   ]
  },
  {
   "cell_type": "code",
   "execution_count": 235,
   "id": "b4d1fc3b-9b9b-4d42-999e-24efcf6c7264",
   "metadata": {},
   "outputs": [
    {
     "data": {
      "text/plain": [
       "array([                  25,                  200,                 1800,\n",
       "                      16200,                48600,               340200,\n",
       "                    1020600,              9185400,             82668600,\n",
       "                  578680200,           4050761400,          24304568400,\n",
       "               170131978800,         170131978800,         170131978800,\n",
       "              1190923851600,       11909238516000,       23818477032000,\n",
       "            214366293288000,     2143662932880000,     4287325865760000,\n",
       "          12861977597280000,   115757798375520000,  1157577983755200000,\n",
       "       -6870964236157551616])"
      ]
     },
     "execution_count": 235,
     "metadata": {},
     "output_type": "execute_result"
    }
   ],
   "source": [
    "npa2.cumprod()"
   ]
  },
  {
   "cell_type": "markdown",
   "id": "46eb7632-9330-4d45-885b-7723651a41f9",
   "metadata": {},
   "source": [
    "## Query, Slicing, Combining Arrays"
   ]
  },
  {
   "cell_type": "code",
   "execution_count": 240,
   "id": "9bdaa9b7-0cd9-4593-a7da-48cd29dc3bd3",
   "metadata": {},
   "outputs": [
    {
     "data": {
      "text/plain": [
       "array([ 0,  1,  2,  3,  4,  5,  6,  7,  8,  9, 10, 11])"
      ]
     },
     "execution_count": 240,
     "metadata": {},
     "output_type": "execute_result"
    }
   ],
   "source": [
    "np.random.seed(10)\n",
    "ar = np.arange(12)\n",
    "ar"
   ]
  },
  {
   "cell_type": "code",
   "execution_count": 244,
   "id": "bd603b13-3cef-4fe7-974b-42169031721c",
   "metadata": {},
   "outputs": [
    {
     "name": "stderr",
     "output_type": "stream",
     "text": [
      "/var/folders/y4/kt57fxd942z3zncr4rvv6t740000gn/T/ipykernel_7827/1136468151.py:1: DeprecationWarning: This function is deprecated. Please call randint(1, 12 + 1) instead\n",
      "  ar2 = np.random.random_integers(12, size=12).reshape((3,4))\n"
     ]
    },
    {
     "data": {
      "text/plain": [
       "array([[11,  9,  7,  5],\n",
       "       [ 4,  1,  5, 12],\n",
       "       [ 7,  9, 12, 11]])"
      ]
     },
     "execution_count": 244,
     "metadata": {},
     "output_type": "execute_result"
    }
   ],
   "source": [
    "ar2 = np.random.random_integers(12, size=12).reshape((3,4))\n",
    "ar2"
   ]
  },
  {
   "cell_type": "code",
   "execution_count": 246,
   "id": "f6ac1310-457d-475c-854e-fe08f5570d8b",
   "metadata": {},
   "outputs": [
    {
     "data": {
      "text/plain": [
       "0"
      ]
     },
     "execution_count": 246,
     "metadata": {},
     "output_type": "execute_result"
    }
   ],
   "source": [
    "ar[0]"
   ]
  },
  {
   "cell_type": "code",
   "execution_count": 248,
   "id": "8b87b691-9bf6-4559-a560-b81decf4b76a",
   "metadata": {},
   "outputs": [
    {
     "data": {
      "text/plain": [
       "5"
      ]
     },
     "execution_count": 248,
     "metadata": {},
     "output_type": "execute_result"
    }
   ],
   "source": [
    "ar[5]"
   ]
  },
  {
   "cell_type": "code",
   "execution_count": 250,
   "id": "e95ac2e5-15ac-45a4-b420-470049ba41d0",
   "metadata": {},
   "outputs": [
    {
     "data": {
      "text/plain": [
       "array([ 5,  6,  7,  8,  9, 10, 11])"
      ]
     },
     "execution_count": 250,
     "metadata": {},
     "output_type": "execute_result"
    }
   ],
   "source": [
    "ar[5:]"
   ]
  },
  {
   "cell_type": "code",
   "execution_count": 252,
   "id": "66b4a7fb-22a2-4c39-840a-b5c1b8aa3991",
   "metadata": {},
   "outputs": [
    {
     "data": {
      "text/plain": [
       "array([0, 1, 2, 3, 4])"
      ]
     },
     "execution_count": 252,
     "metadata": {},
     "output_type": "execute_result"
    }
   ],
   "source": [
    "ar[:5]"
   ]
  },
  {
   "cell_type": "code",
   "execution_count": 254,
   "id": "4e59e89c-d3b8-452d-a1de-803833e1ac19",
   "metadata": {},
   "outputs": [
    {
     "data": {
      "text/plain": [
       "array([2, 4, 6])"
      ]
     },
     "execution_count": 254,
     "metadata": {},
     "output_type": "execute_result"
    }
   ],
   "source": [
    "ar[2:8:2]"
   ]
  },
  {
   "cell_type": "code",
   "execution_count": 256,
   "id": "241c80dd-5a3b-487d-a60b-505639994c0e",
   "metadata": {},
   "outputs": [
    {
     "data": {
      "text/plain": [
       "array([ 0,  1,  2,  3,  4,  5,  6,  7,  8,  9, 10])"
      ]
     },
     "execution_count": 256,
     "metadata": {},
     "output_type": "execute_result"
    }
   ],
   "source": [
    "ar[:-1]"
   ]
  },
  {
   "cell_type": "code",
   "execution_count": 258,
   "id": "07a3bf3d-0bc1-48ff-9e34-466fa1a35c1d",
   "metadata": {},
   "outputs": [
    {
     "data": {
      "text/plain": [
       "array([0, 1, 2, 3, 4, 5, 6])"
      ]
     },
     "execution_count": 258,
     "metadata": {},
     "output_type": "execute_result"
    }
   ],
   "source": [
    "ar[:-5]"
   ]
  },
  {
   "cell_type": "code",
   "execution_count": 260,
   "id": "e3d71982-d4db-45b2-b5cc-1ff676695cb8",
   "metadata": {},
   "outputs": [
    {
     "data": {
      "text/plain": [
       "array([11,  9,  7,  5])"
      ]
     },
     "execution_count": 260,
     "metadata": {},
     "output_type": "execute_result"
    }
   ],
   "source": [
    "ar[-1:-8:-2]"
   ]
  },
  {
   "cell_type": "code",
   "execution_count": 262,
   "id": "5c0f1ab7-559d-4c0f-90ee-72dc10b8274d",
   "metadata": {},
   "outputs": [
    {
     "data": {
      "text/plain": [
       "array([[11,  9,  7,  5],\n",
       "       [ 4,  1,  5, 12],\n",
       "       [ 7,  9, 12, 11]])"
      ]
     },
     "execution_count": 262,
     "metadata": {},
     "output_type": "execute_result"
    }
   ],
   "source": [
    "ar2"
   ]
  },
  {
   "cell_type": "code",
   "execution_count": 264,
   "id": "f03d1a8e-4516-4d85-b5d0-fe5443987d8f",
   "metadata": {},
   "outputs": [
    {
     "data": {
      "text/plain": [
       "array([[ 9,  7],\n",
       "       [ 1,  5],\n",
       "       [ 9, 12]])"
      ]
     },
     "execution_count": 264,
     "metadata": {},
     "output_type": "execute_result"
    }
   ],
   "source": [
    "ar2[:,1:3]"
   ]
  },
  {
   "cell_type": "code",
   "execution_count": 266,
   "id": "b821b654-0665-4485-8fff-2bc616fd1f2d",
   "metadata": {},
   "outputs": [
    {
     "data": {
      "text/plain": [
       "array([[ 4,  1,  5, 12],\n",
       "       [ 7,  9, 12, 11]])"
      ]
     },
     "execution_count": 266,
     "metadata": {},
     "output_type": "execute_result"
    }
   ],
   "source": [
    "ar2[1:3, :]"
   ]
  },
  {
   "cell_type": "code",
   "execution_count": 272,
   "id": "00cdd3d6-ea99-4a61-a938-887d958d8875",
   "metadata": {},
   "outputs": [
    {
     "data": {
      "text/plain": [
       "array([[ 1, 12]])"
      ]
     },
     "execution_count": 272,
     "metadata": {},
     "output_type": "execute_result"
    }
   ],
   "source": [
    "ar2[1:3:2, 1:4:2]"
   ]
  },
  {
   "cell_type": "code",
   "execution_count": 274,
   "id": "bc4bb99f-5ed8-4e2c-9774-0e05646f89a6",
   "metadata": {},
   "outputs": [
    {
     "data": {
      "text/plain": [
       "array([[11,  7],\n",
       "       [ 7, 12]])"
      ]
     },
     "execution_count": 274,
     "metadata": {},
     "output_type": "execute_result"
    }
   ],
   "source": [
    "ar2[::2, ::2]"
   ]
  },
  {
   "cell_type": "code",
   "execution_count": 276,
   "id": "7c066d38-689d-45bb-b8d6-961750eda77c",
   "metadata": {},
   "outputs": [
    {
     "data": {
      "text/plain": [
       "array([ 0,  1,  2,  3,  4,  5,  6,  7,  8,  9, 10, 11])"
      ]
     },
     "execution_count": 276,
     "metadata": {},
     "output_type": "execute_result"
    }
   ],
   "source": [
    "ar"
   ]
  },
  {
   "cell_type": "code",
   "execution_count": 278,
   "id": "a7b200bb-b174-4a66-93d0-b28d51e1e556",
   "metadata": {},
   "outputs": [
    {
     "data": {
      "text/plain": [
       "array([[11,  9,  7,  5],\n",
       "       [ 4,  1,  5, 12],\n",
       "       [ 7,  9, 12, 11]])"
      ]
     },
     "execution_count": 278,
     "metadata": {},
     "output_type": "execute_result"
    }
   ],
   "source": [
    "ar2"
   ]
  },
  {
   "cell_type": "code",
   "execution_count": 280,
   "id": "3b4c5716-5354-4495-b0d2-36dbc91cac63",
   "metadata": {},
   "outputs": [
    {
     "data": {
      "text/plain": [
       "array([11,  9,  7,  5,  4,  1,  5, 12,  7,  9, 12, 11])"
      ]
     },
     "execution_count": 280,
     "metadata": {},
     "output_type": "execute_result"
    }
   ],
   "source": [
    "ar2.flatten()"
   ]
  },
  {
   "cell_type": "code",
   "execution_count": 282,
   "id": "4af2cb74-dda3-4c56-b383-31836bd7dcb8",
   "metadata": {},
   "outputs": [
    {
     "data": {
      "text/plain": [
       "array([[ 0,  1,  2,  3,  4,  5,  6,  7,  8,  9, 10, 11],\n",
       "       [11,  9,  7,  5,  4,  1,  5, 12,  7,  9, 12, 11]])"
      ]
     },
     "execution_count": 282,
     "metadata": {},
     "output_type": "execute_result"
    }
   ],
   "source": [
    "np.vstack([ar,ar2.flatten()])"
   ]
  },
  {
   "cell_type": "code",
   "execution_count": 284,
   "id": "8551adfe-5253-40fb-bd26-66293546fad0",
   "metadata": {},
   "outputs": [
    {
     "data": {
      "text/plain": [
       "array([[11,  9,  7,  5],\n",
       "       [ 4,  1,  5, 12],\n",
       "       [ 7,  9, 12, 11]])"
      ]
     },
     "execution_count": 284,
     "metadata": {},
     "output_type": "execute_result"
    }
   ],
   "source": [
    "ar2"
   ]
  },
  {
   "cell_type": "code",
   "execution_count": 286,
   "id": "db5036e6-b686-4d72-a538-43361d62c8d6",
   "metadata": {},
   "outputs": [
    {
     "data": {
      "text/plain": [
       "array([[ 0,  1,  2,  3],\n",
       "       [ 4,  5,  6,  7],\n",
       "       [ 8,  9, 10, 11]])"
      ]
     },
     "execution_count": 286,
     "metadata": {},
     "output_type": "execute_result"
    }
   ],
   "source": [
    "ar.reshape((3,4))"
   ]
  },
  {
   "cell_type": "code",
   "execution_count": 288,
   "id": "6c4dd36f-f017-482d-ae8d-aa0e0aad1c50",
   "metadata": {},
   "outputs": [
    {
     "data": {
      "text/plain": [
       "array([[ 0,  1,  2,  3],\n",
       "       [ 4,  5,  6,  7],\n",
       "       [ 8,  9, 10, 11],\n",
       "       [11,  9,  7,  5],\n",
       "       [ 4,  1,  5, 12],\n",
       "       [ 7,  9, 12, 11]])"
      ]
     },
     "execution_count": 288,
     "metadata": {},
     "output_type": "execute_result"
    }
   ],
   "source": [
    "np.vstack((ar.reshape((3,4)), ar2))"
   ]
  },
  {
   "cell_type": "code",
   "execution_count": 294,
   "id": "6ca9d6a1-ae5a-447f-b464-b782b7e01f1e",
   "metadata": {},
   "outputs": [
    {
     "data": {
      "text/plain": [
       "array([ 0,  1,  2,  3,  4,  5,  6,  7,  8,  9, 10, 11, 11,  9,  7,  5,  4,\n",
       "        1,  5, 12,  7,  9, 12, 11,  0,  1,  2,  3,  4,  5,  6,  7,  8,  9,\n",
       "       10, 11])"
      ]
     },
     "execution_count": 294,
     "metadata": {},
     "output_type": "execute_result"
    }
   ],
   "source": [
    "np.hstack((ar, ar2.flatten(), ar))"
   ]
  },
  {
   "cell_type": "code",
   "execution_count": 296,
   "id": "16f338fa-52de-44be-9839-aeb8e1add5c6",
   "metadata": {},
   "outputs": [
    {
     "data": {
      "text/plain": [
       "array([[ 0,  1,  2,  3, 11,  9,  7,  5],\n",
       "       [ 4,  5,  6,  7,  4,  1,  5, 12],\n",
       "       [ 8,  9, 10, 11,  7,  9, 12, 11]])"
      ]
     },
     "execution_count": 296,
     "metadata": {},
     "output_type": "execute_result"
    }
   ],
   "source": [
    "np.hstack((ar.reshape((3,4)), ar2))"
   ]
  },
  {
   "cell_type": "code",
   "execution_count": 298,
   "id": "c66ebbf6-b13d-4bd6-a526-8b066ada9d33",
   "metadata": {},
   "outputs": [
    {
     "data": {
      "text/plain": [
       "<generator object <genexpr> at 0x14dfabb80>"
      ]
     },
     "execution_count": 298,
     "metadata": {},
     "output_type": "execute_result"
    }
   ],
   "source": [
    "(ar for x in range(10))"
   ]
  },
  {
   "cell_type": "code",
   "execution_count": 302,
   "id": "b426e658-4f6e-4a67-836c-a93bb74951f8",
   "metadata": {},
   "outputs": [
    {
     "data": {
      "text/plain": [
       "array([[ 0,  1,  2,  3,  4,  5,  6,  7,  8,  9, 10, 11],\n",
       "       [ 0,  1,  2,  3,  4,  5,  6,  7,  8,  9, 10, 11],\n",
       "       [ 0,  1,  2,  3,  4,  5,  6,  7,  8,  9, 10, 11],\n",
       "       [ 0,  1,  2,  3,  4,  5,  6,  7,  8,  9, 10, 11],\n",
       "       [ 0,  1,  2,  3,  4,  5,  6,  7,  8,  9, 10, 11],\n",
       "       [ 0,  1,  2,  3,  4,  5,  6,  7,  8,  9, 10, 11],\n",
       "       [ 0,  1,  2,  3,  4,  5,  6,  7,  8,  9, 10, 11],\n",
       "       [ 0,  1,  2,  3,  4,  5,  6,  7,  8,  9, 10, 11],\n",
       "       [ 0,  1,  2,  3,  4,  5,  6,  7,  8,  9, 10, 11],\n",
       "       [ 0,  1,  2,  3,  4,  5,  6,  7,  8,  9, 10, 11]])"
      ]
     },
     "execution_count": 302,
     "metadata": {},
     "output_type": "execute_result"
    }
   ],
   "source": [
    "np.vstack([ar for x in range(10)])"
   ]
  },
  {
   "cell_type": "code",
   "execution_count": 304,
   "id": "c92bb75d-e310-4d47-9e94-6ed50a6d6141",
   "metadata": {},
   "outputs": [
    {
     "data": {
      "text/plain": [
       "array([ 0,  1,  2,  3,  4,  5,  6,  7,  8,  9, 10, 11, 11,  9,  7,  5,  4,\n",
       "        1,  5, 12,  7,  9, 12, 11])"
      ]
     },
     "execution_count": 304,
     "metadata": {},
     "output_type": "execute_result"
    }
   ],
   "source": [
    "np.concatenate((ar, ar2.flatten()))"
   ]
  },
  {
   "cell_type": "code",
   "execution_count": 306,
   "id": "6a80ecbc-445a-4c3d-8c77-3ba42c703d29",
   "metadata": {},
   "outputs": [
    {
     "data": {
      "text/plain": [
       "array([[ 0,  1,  2,  3,  4,  5,  6,  7,  8,  9, 10, 11],\n",
       "       [11,  9,  7,  5,  4,  1,  5, 12,  7,  9, 12, 11]])"
      ]
     },
     "execution_count": 306,
     "metadata": {},
     "output_type": "execute_result"
    }
   ],
   "source": [
    "np.concatenate(([ar], [ar2.flatten()]), axis=0)"
   ]
  },
  {
   "cell_type": "code",
   "execution_count": 308,
   "id": "a47a8e98-0647-4f6e-9e35-8c133c4526e9",
   "metadata": {},
   "outputs": [
    {
     "data": {
      "text/plain": [
       "array([[ 0,  1,  2,  3,  4,  5,  6,  7,  8,  9, 10, 11],\n",
       "       [11,  9,  7,  5,  4,  1,  5, 12,  7,  9, 12, 11]])"
      ]
     },
     "execution_count": 308,
     "metadata": {},
     "output_type": "execute_result"
    }
   ],
   "source": [
    "np.concatenate(([ar], [ar2.flatten()]))"
   ]
  },
  {
   "cell_type": "code",
   "execution_count": 310,
   "id": "46d11bd7-b0e4-479d-8753-e1c9cdb5cbec",
   "metadata": {},
   "outputs": [
    {
     "data": {
      "text/plain": [
       "array([[11,  9,  7,  5],\n",
       "       [ 4,  1,  5, 12],\n",
       "       [ 7,  9, 12, 11],\n",
       "       [11,  9,  7,  5],\n",
       "       [ 4,  1,  5, 12],\n",
       "       [ 7,  9, 12, 11]])"
      ]
     },
     "execution_count": 310,
     "metadata": {},
     "output_type": "execute_result"
    }
   ],
   "source": [
    "np.concatenate((ar2, ar2))"
   ]
  },
  {
   "cell_type": "code",
   "execution_count": 312,
   "id": "1456dcae-00ea-45bc-b1da-a5ebd8323d40",
   "metadata": {},
   "outputs": [
    {
     "data": {
      "text/plain": [
       "array([[11,  9,  7,  5, 11,  9,  7,  5],\n",
       "       [ 4,  1,  5, 12,  4,  1,  5, 12],\n",
       "       [ 7,  9, 12, 11,  7,  9, 12, 11]])"
      ]
     },
     "execution_count": 312,
     "metadata": {},
     "output_type": "execute_result"
    }
   ],
   "source": [
    "np.concatenate((ar2,ar2), axis=1)"
   ]
  },
  {
   "cell_type": "code",
   "execution_count": 314,
   "id": "9444918a-4098-41fb-a5a8-99fc93fc9890",
   "metadata": {},
   "outputs": [
    {
     "data": {
      "text/plain": [
       "array([[[11, 11],\n",
       "        [ 9,  9],\n",
       "        [ 7,  7],\n",
       "        [ 5,  5]],\n",
       "\n",
       "       [[ 4,  4],\n",
       "        [ 1,  1],\n",
       "        [ 5,  5],\n",
       "        [12, 12]],\n",
       "\n",
       "       [[ 7,  7],\n",
       "        [ 9,  9],\n",
       "        [12, 12],\n",
       "        [11, 11]]])"
      ]
     },
     "execution_count": 314,
     "metadata": {},
     "output_type": "execute_result"
    }
   ],
   "source": [
    "np.dstack((ar2,ar2))"
   ]
  },
  {
   "cell_type": "code",
   "execution_count": 316,
   "id": "5a97a5b6-bb03-4f07-ae11-97920a397a83",
   "metadata": {},
   "outputs": [
    {
     "data": {
      "text/plain": [
       "array([[[11, 11],\n",
       "        [ 9,  9],\n",
       "        [ 7,  7],\n",
       "        [ 5,  5]],\n",
       "\n",
       "       [[ 4,  4],\n",
       "        [ 1,  1],\n",
       "        [ 5,  5],\n",
       "        [12, 12]],\n",
       "\n",
       "       [[ 7,  7],\n",
       "        [ 9,  9],\n",
       "        [12, 12],\n",
       "        [11, 11]]])"
      ]
     },
     "execution_count": 316,
     "metadata": {},
     "output_type": "execute_result"
    }
   ],
   "source": [
    "ar3 = np.dstack((ar2,ar2))\n",
    "ar3"
   ]
  },
  {
   "cell_type": "code",
   "execution_count": 322,
   "id": "4e66f87b-4636-4f3b-adc2-8956a3816860",
   "metadata": {},
   "outputs": [
    {
     "data": {
      "text/plain": [
       "array([[11,  9,  7,  5],\n",
       "       [ 4,  1,  5, 12],\n",
       "       [ 7,  9, 12, 11]])"
      ]
     },
     "execution_count": 322,
     "metadata": {},
     "output_type": "execute_result"
    }
   ],
   "source": [
    "ar21, ar22 = np.dsplit(ar3,2)\n",
    "ar21.reshape(3,4)"
   ]
  },
  {
   "cell_type": "code",
   "execution_count": 324,
   "id": "a4a35256-8d00-479e-b26c-2dc625d17ab8",
   "metadata": {},
   "outputs": [
    {
     "data": {
      "text/plain": [
       "[array([[[11],\n",
       "         [ 9],\n",
       "         [ 7],\n",
       "         [ 5]],\n",
       " \n",
       "        [[ 4],\n",
       "         [ 1],\n",
       "         [ 5],\n",
       "         [12]],\n",
       " \n",
       "        [[ 7],\n",
       "         [ 9],\n",
       "         [12],\n",
       "         [11]]]),\n",
       " array([[[11],\n",
       "         [ 9],\n",
       "         [ 7],\n",
       "         [ 5]],\n",
       " \n",
       "        [[ 4],\n",
       "         [ 1],\n",
       "         [ 5],\n",
       "         [12]],\n",
       " \n",
       "        [[ 7],\n",
       "         [ 9],\n",
       "         [12],\n",
       "         [11]]])]"
      ]
     },
     "execution_count": 324,
     "metadata": {},
     "output_type": "execute_result"
    }
   ],
   "source": [
    "np.dsplit(ar3,2)"
   ]
  },
  {
   "cell_type": "code",
   "execution_count": 326,
   "id": "ff6f43e5-d8de-482e-8bb8-76ec7e4d75ed",
   "metadata": {},
   "outputs": [
    {
     "data": {
      "text/plain": [
       "array([[11,  9,  7,  5],\n",
       "       [ 4,  1,  5, 12],\n",
       "       [ 7,  9, 12, 11]])"
      ]
     },
     "execution_count": 326,
     "metadata": {},
     "output_type": "execute_result"
    }
   ],
   "source": [
    "np.squeeze(np.dsplit(ar3,2)[0])"
   ]
  },
  {
   "cell_type": "code",
   "execution_count": 328,
   "id": "b45aa04c-f6e0-43f9-9f44-b53f7c77425e",
   "metadata": {},
   "outputs": [
    {
     "data": {
      "text/plain": [
       "array([[11,  9,  7,  5],\n",
       "       [ 4,  1,  5, 12],\n",
       "       [ 7,  9, 12, 11]])"
      ]
     },
     "execution_count": 328,
     "metadata": {},
     "output_type": "execute_result"
    }
   ],
   "source": [
    "ar2"
   ]
  },
  {
   "cell_type": "code",
   "execution_count": 330,
   "id": "e8c11083-c086-450b-b835-2b2ad8e2313b",
   "metadata": {},
   "outputs": [
    {
     "data": {
      "text/plain": [
       "[array([[11,  9],\n",
       "        [ 4,  1],\n",
       "        [ 7,  9]]),\n",
       " array([[ 7,  5],\n",
       "        [ 5, 12],\n",
       "        [12, 11]])]"
      ]
     },
     "execution_count": 330,
     "metadata": {},
     "output_type": "execute_result"
    }
   ],
   "source": [
    "np.hsplit(ar2, 2)"
   ]
  },
  {
   "cell_type": "code",
   "execution_count": 336,
   "id": "b53a5541-92de-4cd0-896f-79ad0fa4729e",
   "metadata": {},
   "outputs": [
    {
     "data": {
      "text/plain": [
       "[array([[11,  9],\n",
       "        [ 4,  1],\n",
       "        [ 7,  9]]),\n",
       " array([[ 7,  5],\n",
       "        [ 5, 12],\n",
       "        [12, 11]])]"
      ]
     },
     "execution_count": 336,
     "metadata": {},
     "output_type": "execute_result"
    }
   ],
   "source": [
    "np.hsplit(ar2, 2)"
   ]
  },
  {
   "cell_type": "code",
   "execution_count": 342,
   "id": "1c8e086d-9197-44a5-88a2-49bffc006933",
   "metadata": {},
   "outputs": [
    {
     "data": {
      "text/plain": [
       "[array([[11,  4,  7]]),\n",
       " array([[9, 1, 9]]),\n",
       " array([[ 7,  5, 12]]),\n",
       " array([[ 5, 12, 11]])]"
      ]
     },
     "execution_count": 342,
     "metadata": {},
     "output_type": "execute_result"
    }
   ],
   "source": [
    "np.vsplit(ar2.T, 4)"
   ]
  },
  {
   "cell_type": "code",
   "execution_count": 340,
   "id": "488842d9-4adb-46ec-9eb3-9d881ac2783f",
   "metadata": {},
   "outputs": [
    {
     "data": {
      "text/plain": [
       "array([[11,  9,  7],\n",
       "       [ 5,  4,  1],\n",
       "       [ 5, 12,  7],\n",
       "       [ 9, 12, 11]])"
      ]
     },
     "execution_count": 340,
     "metadata": {},
     "output_type": "execute_result"
    }
   ],
   "source": [
    "ar2.reshape((4,3))"
   ]
  },
  {
   "cell_type": "markdown",
   "id": "99ef634f-7812-46c8-919e-81d50484f036",
   "metadata": {},
   "source": [
    "## Matrix Operations"
   ]
  },
  {
   "cell_type": "code",
   "execution_count": 347,
   "id": "2e98184a-de55-4d76-88c7-21f5f63a6ea0",
   "metadata": {},
   "outputs": [],
   "source": [
    "a = np.array([\n",
    "    [1,2,3],\n",
    "    [4,5,6]\n",
    "])\n",
    "b = np.array([\n",
    "    [1,1],\n",
    "    [0,1],\n",
    "    [2,2]\n",
    "])"
   ]
  },
  {
   "cell_type": "code",
   "execution_count": 349,
   "id": "03a82696-6e1a-4961-8eec-30050b53e500",
   "metadata": {},
   "outputs": [
    {
     "data": {
      "text/plain": [
       "((2, 3), (3, 2))"
      ]
     },
     "execution_count": 349,
     "metadata": {},
     "output_type": "execute_result"
    }
   ],
   "source": [
    "a.shape, b.shape"
   ]
  },
  {
   "cell_type": "code",
   "execution_count": 351,
   "id": "85d1f45a-47c1-4b27-9dc0-5280f550fd4c",
   "metadata": {},
   "outputs": [
    {
     "data": {
      "text/plain": [
       "array([[ 7,  9],\n",
       "       [16, 21]])"
      ]
     },
     "execution_count": 351,
     "metadata": {},
     "output_type": "execute_result"
    }
   ],
   "source": [
    "a.dot(b)"
   ]
  },
  {
   "cell_type": "code",
   "execution_count": 353,
   "id": "b03bd2a6-baca-4766-b17f-e84b9e5664b8",
   "metadata": {},
   "outputs": [
    {
     "data": {
      "text/plain": [
       "array([[ 5,  7,  9],\n",
       "       [ 4,  5,  6],\n",
       "       [10, 14, 18]])"
      ]
     },
     "execution_count": 353,
     "metadata": {},
     "output_type": "execute_result"
    }
   ],
   "source": [
    "b.dot(a)"
   ]
  },
  {
   "cell_type": "code",
   "execution_count": 355,
   "id": "3b7e53dc-6453-473b-b0ed-4aa2837d4f06",
   "metadata": {},
   "outputs": [
    {
     "data": {
      "text/plain": [
       "array([[ 7,  9],\n",
       "       [16, 21]])"
      ]
     },
     "execution_count": 355,
     "metadata": {},
     "output_type": "execute_result"
    }
   ],
   "source": [
    "a @ b"
   ]
  },
  {
   "cell_type": "code",
   "execution_count": 357,
   "id": "c915f19d-5229-464a-aaae-b4976db768ac",
   "metadata": {},
   "outputs": [
    {
     "data": {
      "text/plain": [
       "array([[ 5,  7,  9],\n",
       "       [ 4,  5,  6],\n",
       "       [10, 14, 18]])"
      ]
     },
     "execution_count": 357,
     "metadata": {},
     "output_type": "execute_result"
    }
   ],
   "source": [
    "b @ a"
   ]
  },
  {
   "cell_type": "code",
   "execution_count": 359,
   "id": "e03cba5a-1c0e-43e0-8181-560bdf38f7b0",
   "metadata": {},
   "outputs": [],
   "source": [
    "v = np.array([1,2])"
   ]
  },
  {
   "cell_type": "code",
   "execution_count": 361,
   "id": "8eb3692b-9ac3-4aeb-8a07-18735604de16",
   "metadata": {},
   "outputs": [
    {
     "data": {
      "text/plain": [
       "array([1, 2])"
      ]
     },
     "execution_count": 361,
     "metadata": {},
     "output_type": "execute_result"
    }
   ],
   "source": [
    "v"
   ]
  },
  {
   "cell_type": "code",
   "execution_count": 363,
   "id": "741b3924-19cc-42e2-afc9-ccbb6e37cd81",
   "metadata": {},
   "outputs": [
    {
     "data": {
      "text/plain": [
       "(2,)"
      ]
     },
     "execution_count": 363,
     "metadata": {},
     "output_type": "execute_result"
    }
   ],
   "source": [
    "v.shape"
   ]
  },
  {
   "cell_type": "code",
   "execution_count": 371,
   "id": "b4bbcaaa-ca4a-427d-9edb-1c8d3d3329cc",
   "metadata": {},
   "outputs": [],
   "source": [
    "v_row = v.reshape(1,-1)"
   ]
  },
  {
   "cell_type": "code",
   "execution_count": 373,
   "id": "cf3f6f79-43c4-4c18-9cab-c0fc5c25a6a8",
   "metadata": {},
   "outputs": [
    {
     "data": {
      "text/plain": [
       "array([[1, 2]])"
      ]
     },
     "execution_count": 373,
     "metadata": {},
     "output_type": "execute_result"
    }
   ],
   "source": [
    "v_row"
   ]
  },
  {
   "cell_type": "code",
   "execution_count": 379,
   "id": "bc0a9b5c-b06c-4f75-bb33-e8d5a6e5e5cc",
   "metadata": {},
   "outputs": [
    {
     "data": {
      "text/plain": [
       "array([[1],\n",
       "       [2]])"
      ]
     },
     "execution_count": 379,
     "metadata": {},
     "output_type": "execute_result"
    }
   ],
   "source": [
    "v_col = v.reshape(-1,1)\n",
    "v_col"
   ]
  },
  {
   "cell_type": "code",
   "execution_count": 381,
   "id": "6b373214-8628-4033-9b20-0d02375d8155",
   "metadata": {},
   "outputs": [
    {
     "data": {
      "text/plain": [
       "((3, 2), (2, 1))"
      ]
     },
     "execution_count": 381,
     "metadata": {},
     "output_type": "execute_result"
    }
   ],
   "source": [
    "b.shape, v_col.shape"
   ]
  },
  {
   "cell_type": "code",
   "execution_count": 383,
   "id": "69915ea9-7d15-4529-853a-3db20b9c7248",
   "metadata": {},
   "outputs": [
    {
     "data": {
      "text/plain": [
       "array([[3],\n",
       "       [2],\n",
       "       [6]])"
      ]
     },
     "execution_count": 383,
     "metadata": {},
     "output_type": "execute_result"
    }
   ],
   "source": [
    "b @ v_col"
   ]
  },
  {
   "cell_type": "code",
   "execution_count": 385,
   "id": "dd28a731-2871-471e-bb84-13247190bdcb",
   "metadata": {},
   "outputs": [
    {
     "data": {
      "text/plain": [
       "array([3, 2, 6])"
      ]
     },
     "execution_count": 385,
     "metadata": {},
     "output_type": "execute_result"
    }
   ],
   "source": [
    "b @ v"
   ]
  },
  {
   "cell_type": "code",
   "execution_count": 387,
   "id": "ef4f307c-bcb9-4faf-8334-8c5445102d23",
   "metadata": {},
   "outputs": [
    {
     "data": {
      "text/plain": [
       "((3, 2), (2,))"
      ]
     },
     "execution_count": 387,
     "metadata": {},
     "output_type": "execute_result"
    }
   ],
   "source": [
    "b.shape, v.shape"
   ]
  },
  {
   "cell_type": "code",
   "execution_count": null,
   "id": "4781b9de-0f6c-4fe2-b9b5-5cd7777d96fb",
   "metadata": {},
   "outputs": [],
   "source": []
  }
 ],
 "metadata": {
  "kernelspec": {
   "display_name": "base",
   "language": "python",
   "name": "python3"
  },
  "language_info": {
   "codemirror_mode": {
    "name": "ipython",
    "version": 3
   },
   "file_extension": ".py",
   "mimetype": "text/x-python",
   "name": "python",
   "nbconvert_exporter": "python",
   "pygments_lexer": "ipython3",
   "version": "3.12.4"
  }
 },
 "nbformat": 4,
 "nbformat_minor": 5
}
