{
 "cells": [
  {
   "cell_type": "code",
   "execution_count": 2,
   "id": "097d27cb-e70f-4a2d-9c21-5e6cb469cd8b",
   "metadata": {},
   "outputs": [],
   "source": [
    "def print_stuff():\n",
    "    print(\"some stuff\")\n",
    "    print(\"more stuff\")"
   ]
  },
  {
   "cell_type": "code",
   "execution_count": 4,
   "id": "3220af32-ff88-4a17-b590-fe08623876e6",
   "metadata": {},
   "outputs": [
    {
     "data": {
      "text/plain": [
       "<function __main__.print_stuff()>"
      ]
     },
     "execution_count": 4,
     "metadata": {},
     "output_type": "execute_result"
    }
   ],
   "source": [
    "print_stuff"
   ]
  },
  {
   "cell_type": "code",
   "execution_count": 8,
   "id": "cefc650a-6e8e-4c10-8d90-808a559956e5",
   "metadata": {},
   "outputs": [
    {
     "name": "stdout",
     "output_type": "stream",
     "text": [
      "Things on my todo list:\n",
      "some stuff\n",
      "more stuff\n",
      "some stuff\n",
      "more stuff\n"
     ]
    }
   ],
   "source": [
    "print(\"Things on my todo list:\")\n",
    "print_stuff()\n",
    "print_stuff()"
   ]
  },
  {
   "cell_type": "code",
   "execution_count": 12,
   "id": "2c0561e5-163f-4655-b8cd-dd6e7113dc20",
   "metadata": {},
   "outputs": [],
   "source": [
    "def sqrt(x, epsilon):\n",
    "    \"\"\"Newton's Method for finding square roots to\n",
    "    within a precision epsilon\"\"\"\n",
    "    ans = 1\n",
    "    num_guesses = 0\n",
    "    while abs(x/ans - ans) > epsilon:\n",
    "        ans = (x/ans + ans)/2\n",
    "        num_guesses += 1\n",
    "    return ans"
   ]
  },
  {
   "cell_type": "code",
   "execution_count": 14,
   "id": "6bd2bc26-3a19-4031-bef0-c3b17c0e1b83",
   "metadata": {},
   "outputs": [
    {
     "name": "stdout",
     "output_type": "stream",
     "text": [
      "Help on function sqrt in module __main__:\n",
      "\n",
      "sqrt(x, epsilon)\n",
      "    Newton's Method for finding square roots to\n",
      "    within a precision epsilon\n",
      "\n"
     ]
    }
   ],
   "source": [
    "help(sqrt)"
   ]
  },
  {
   "cell_type": "code",
   "execution_count": 20,
   "id": "2b852422-4e16-43c7-a74b-cff424b6c509",
   "metadata": {},
   "outputs": [
    {
     "name": "stdout",
     "output_type": "stream",
     "text": [
      "2.2360688956433634 is close to the square root of 5\n",
      "1.495349088238384 is close to the fourth root of 5\n"
     ]
    }
   ],
   "source": [
    "root = sqrt(5, 0.00001)\n",
    "print(root, \"is close to the square root of 5\")\n",
    "fourth_root = sqrt(root, 0.00001)\n",
    "print(fourth_root, \"is close to the fourth root of 5\")"
   ]
  },
  {
   "cell_type": "markdown",
   "id": "6ab884df-16d4-4873-93f7-e06b77ebcd3f",
   "metadata": {},
   "source": [
    "## Nesting functions"
   ]
  },
  {
   "cell_type": "code",
   "execution_count": 27,
   "id": "df540661-394a-4191-b3ad-2ab13512833e",
   "metadata": {},
   "outputs": [
    {
     "name": "stdin",
     "output_type": "stream",
     "text": [
      "Enter an x-coordinate:  4\n",
      "Enter a y-coordinate:  5\n"
     ]
    },
    {
     "name": "stdout",
     "output_type": "stream",
     "text": [
      "The magnitude of your vector is 6.4031242600343115\n",
      "The geometric mean of x and y is 4.4721402170657\n"
     ]
    }
   ],
   "source": [
    "def distance_to_origin(x,y):\n",
    "    \"\"\"Find the distance from a point at (x,y) to the origin\"\"\"\n",
    "    ans = sqrt(x**2 + y**2, 0.00001)\n",
    "    return ans\n",
    "\n",
    "def geometric_mean(x, y):\n",
    "    \"\"\"compute the sqrt of x * y\"\"\"\n",
    "    return sqrt(x*y, 0.00001)\n",
    "\n",
    "x = float(input(\"Enter an x-coordinate: \"))\n",
    "y = float(input(\"Enter a y-coordinate: \"))\n",
    "magnitude = distance_to_origin(x, y)\n",
    "print(\"The magnitude of your vector is\", magnitude)\n",
    "geo_mean = geometric_mean(x, y)\n",
    "print(\"The geometric mean of x and y is\", geo_mean)"
   ]
  },
  {
   "cell_type": "markdown",
   "id": "91de7184-4238-48d3-ad90-aefb25d0bd9e",
   "metadata": {},
   "source": [
    "## The Stack Trace"
   ]
  },
  {
   "cell_type": "code",
   "execution_count": 2,
   "id": "fad1b740-6364-4b39-81d2-39ae27a5dbb9",
   "metadata": {},
   "outputs": [
    {
     "ename": "ZeroDivisionError",
     "evalue": "division by zero",
     "output_type": "error",
     "traceback": [
      "\u001b[0;31m---------------------------------------------------------------------------\u001b[0m",
      "\u001b[0;31mZeroDivisionError\u001b[0m                         Traceback (most recent call last)",
      "Cell \u001b[0;32mIn[2], line 2\u001b[0m\n\u001b[1;32m      1\u001b[0m \u001b[38;5;66;03m# e.g.\u001b[39;00m\n\u001b[0;32m----> 2\u001b[0m x \u001b[38;5;241m=\u001b[39m \u001b[38;5;241m0\u001b[39m\u001b[38;5;241m/\u001b[39m\u001b[38;5;241m0\u001b[39m\n",
      "\u001b[0;31mZeroDivisionError\u001b[0m: division by zero"
     ]
    }
   ],
   "source": [
    "# e.g.\n",
    "x = 0/0"
   ]
  },
  {
   "cell_type": "markdown",
   "id": "df0a8d0a-112e-4849-b27c-771c81d94cc4",
   "metadata": {},
   "source": [
    "### Namespaces"
   ]
  },
  {
   "cell_type": "code",
   "execution_count": 14,
   "id": "d59026c1-27f7-4751-a5d3-f49ebb66efbc",
   "metadata": {},
   "outputs": [
    {
     "name": "stdout",
     "output_type": "stream",
     "text": [
      "In the function, x = 4\n",
      "The function returned  4\n",
      "Outside the function, x = 3\n"
     ]
    }
   ],
   "source": [
    "def add_one(x):\n",
    "    x = x + 1\n",
    "    print(\"In the function, x =\", x)\n",
    "    return x\n",
    "\n",
    "x = 3\n",
    "result = add_one(x)\n",
    "print(\"The function returned \", result)\n",
    "print(\"Outside the function, x =\", x)"
   ]
  },
  {
   "cell_type": "code",
   "execution_count": 23,
   "id": "6ff2713d-2241-480f-9c9a-514e9b9e6da6",
   "metadata": {},
   "outputs": [
    {
     "name": "stdout",
     "output_type": "stream",
     "text": [
      "In the function, y = 4\n",
      "The function returned  4\n"
     ]
    }
   ],
   "source": [
    "def add_one(x):\n",
    "    y = x + 1\n",
    "    print(\"In the function, y =\", y)\n",
    "    return y\n",
    "\n",
    "x = 3\n",
    "# y = 3\n",
    "result = add_one(x)\n",
    "print(\"The function returned \", result)\n",
    "# print(\"Outside the function, y =\", x)"
   ]
  },
  {
   "cell_type": "markdown",
   "id": "b5930c91-123b-4190-9d07-1dba26cd9bcb",
   "metadata": {},
   "source": [
    "## Accessing Global Variables"
   ]
  },
  {
   "cell_type": "code",
   "execution_count": 25,
   "id": "01c79f5b-3d4f-475d-84b6-9953613bec0d",
   "metadata": {},
   "outputs": [
    {
     "name": "stdout",
     "output_type": "stream",
     "text": [
      "In the function, y = 5\n",
      "The function returned 8\n",
      "Outside the function, y = 5\n"
     ]
    }
   ],
   "source": [
    "def add_y(x):\n",
    "    ans = x + y\n",
    "    print(\"In the function, y =\", y)\n",
    "    return ans\n",
    "    \n",
    "y = 5\n",
    "result = add_y(3)\n",
    "print(\"The function returned\", result)\n",
    "print(\"Outside the function, y =\", y)"
   ]
  },
  {
   "cell_type": "code",
   "execution_count": 30,
   "id": "6ea110dc-4d5f-4d38-a704-c3ef96f0cbb1",
   "metadata": {},
   "outputs": [
    {
     "name": "stdout",
     "output_type": "stream",
     "text": [
      "In the function, y = 6\n",
      "Outside the function, y = 6\n"
     ]
    }
   ],
   "source": [
    "def change_y():\n",
    "    global y\n",
    "    y = y + 1\n",
    "    print(\"In the function, y =\", y)\n",
    "\n",
    "y = 5\n",
    "change_y()\n",
    "print(\"Outside the function, y =\", y)\n"
   ]
  },
  {
   "cell_type": "markdown",
   "id": "e168bb13-29a2-4239-bb41-2f535e62fa96",
   "metadata": {},
   "source": [
    "Steps in running a function:\n",
    "\n",
    "1. Create a new local namespace\n",
    "2. For each parameter, create a new local variable and bind it to argument\n",
    "3. For each assignment statement, if name is not in local namespace, create a new local variable\n",
    "4. Execute the statements"
   ]
  },
  {
   "cell_type": "code",
   "execution_count": null,
   "id": "679bd245-d5f0-48f4-8fcd-fed73221a52a",
   "metadata": {},
   "outputs": [],
   "source": []
  }
 ],
 "metadata": {
  "kernelspec": {
   "display_name": "Python 3 (ipykernel)",
   "language": "python",
   "name": "python3"
  },
  "language_info": {
   "codemirror_mode": {
    "name": "ipython",
    "version": 3
   },
   "file_extension": ".py",
   "mimetype": "text/x-python",
   "name": "python",
   "nbconvert_exporter": "python",
   "pygments_lexer": "ipython3",
   "version": "3.12.4"
  }
 },
 "nbformat": 4,
 "nbformat_minor": 5
}
