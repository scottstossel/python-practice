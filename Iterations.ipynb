{
 "cells": [
  {
   "cell_type": "code",
   "execution_count": 117,
   "id": "ff59ec7e-3393-40e5-8af2-cce5ae5b0b81",
   "metadata": {},
   "outputs": [
    {
     "data": {
      "text/plain": [
       "805"
      ]
     },
     "execution_count": 117,
     "metadata": {},
     "output_type": "execute_result"
    }
   ],
   "source": [
    "def number_iterations(n):\n",
    "    i = n\n",
    "    j = 1\n",
    "    iterations = 0\n",
    "    while j < i:\n",
    "        i *= 100\n",
    "        j *= 101\n",
    "        iterations += 1\n",
    "    return iterations\n",
    "\n",
    "number_iterations(3000)"
   ]
  },
  {
   "cell_type": "code",
   "execution_count": 150,
   "id": "fbf2d53a-33e2-4fb2-aa39-ca323e92a44d",
   "metadata": {},
   "outputs": [
    {
     "data": {
      "text/plain": [
       "11"
      ]
     },
     "execution_count": 150,
     "metadata": {},
     "output_type": "execute_result"
    }
   ],
   "source": [
    "def function(n):\n",
    "    i = 0\n",
    "    j = 1\n",
    "    iterations = 0\n",
    "    while i < n:\n",
    "        for k in range(j):\n",
    "            i += 1\n",
    "            j *= 2\n",
    "            iterations += 1\n",
    "    return iterations\n",
    "function(10)"
   ]
  },
  {
   "cell_type": "code",
   "execution_count": 154,
   "id": "add161f9-1f49-4166-81ba-4d7711112a4b",
   "metadata": {},
   "outputs": [
    {
     "data": {
      "text/plain": [
       "1024"
      ]
     },
     "execution_count": 154,
     "metadata": {},
     "output_type": "execute_result"
    }
   ],
   "source": [
    "def func(i):\n",
    "    if i < 1:\n",
    "        return 1\n",
    "    else:\n",
    "        return func(i - 1) + func(i - 1)\n",
    "\n",
    "func(10)"
   ]
  },
  {
   "cell_type": "code",
   "execution_count": null,
   "id": "85a92026-f680-45d8-ae66-3e0098178afb",
   "metadata": {},
   "outputs": [],
   "source": []
  }
 ],
 "metadata": {
  "kernelspec": {
   "display_name": "Python 3 (ipykernel)",
   "language": "python",
   "name": "python3"
  },
  "language_info": {
   "codemirror_mode": {
    "name": "ipython",
    "version": 3
   },
   "file_extension": ".py",
   "mimetype": "text/x-python",
   "name": "python",
   "nbconvert_exporter": "python",
   "pygments_lexer": "ipython3",
   "version": "3.12.4"
  }
 },
 "nbformat": 4,
 "nbformat_minor": 5
}
